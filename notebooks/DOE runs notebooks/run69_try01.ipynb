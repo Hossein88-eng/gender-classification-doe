{
 "cells": [
  {
   "cell_type": "code",
   "execution_count": 1,
   "id": "40aaebb4-037c-4ca4-a4c7-b63f03b071b7",
   "metadata": {},
   "outputs": [],
   "source": [
    "import pandas as pd\n",
    "import numpy as np\n",
    "import matplotlib.pyplot as plt\n",
    "%matplotlib inline\n",
    "import matplotlib.image as mpimg\n",
    "import tensorflow as tf"
   ]
  },
  {
   "cell_type": "code",
   "execution_count": 2,
   "id": "cfe0da97-852e-4243-a988-848082ac2201",
   "metadata": {},
   "outputs": [],
   "source": [
    "# default initial values of DOE factors:\n",
    "# learning_rate = 0.001\n",
    "# dropout_value = 0.3\n",
    "# #n-conv_layers = 3\n",
    "# n_units_last_layer = 2048\n",
    "# n_filters_l1 = 32\n",
    "# n_filters_l2 = 16"
   ]
  },
  {
   "cell_type": "code",
   "execution_count": 3,
   "id": "e168a015-372f-4ba6-be82-501458ed9547",
   "metadata": {},
   "outputs": [],
   "source": [
    "# DOE factors:\n",
    "learning_rate = 0.0005\n",
    "dropout_value = 0.5\n",
    "# n-conv_layers = 4\n",
    "n_units_last_layer = 4096\n",
    "n_filters_l1 = 32\n",
    "n_filters_l2 = 16"
   ]
  },
  {
   "cell_type": "code",
   "execution_count": 4,
   "id": "3f023191-b81d-488e-bcf7-47cb6de0ed76",
   "metadata": {},
   "outputs": [],
   "source": [
    "# other factors:\n",
    "img_size = 130\n",
    "batch_size = 32\n",
    "validation_split = 0.1  # 10% for validation\n",
    "test_split = 0.00  # 0% for testing\n",
    "shuffle_buffer_size = 1000\n",
    "seed_num = 101\n",
    "desired_accuracy = 0.99  # it should be active if EarlyStoppingCallback is activated\n",
    "loss = 'binary_crossentropy'\n",
    "#optimizer = tf.keras.optimizers.RMSprop(learning_rate=learning_rate)\n",
    "optimizer = tf.keras.optimizers.Adam(learning_rate=learning_rate)\n",
    "metrics = ['accuracy']\n",
    "epochs = 15\n",
    "f_mode = 'nearest'  # fill_mode in image augmentation"
   ]
  },
  {
   "cell_type": "markdown",
   "id": "0ef4c91d-2f8f-4aad-8f3d-b5c4083437ab",
   "metadata": {},
   "source": [
    "    My dataset_root/\n",
    "    ├── woman/\n",
    "    │   ├── woman_1.jpg\n",
    "    │   ├── woman_2.jpg\n",
    "    │   ├── ...\n",
    "    ├── man/\n",
    "    │   ├── man_1.jpg\n",
    "    │   ├── man_2.jpg\n",
    "    │   ├── ..."
   ]
  },
  {
   "cell_type": "code",
   "execution_count": 6,
   "id": "a63419a3-8c4c-420c-a1ee-81d06c316f18",
   "metadata": {},
   "outputs": [
    {
     "name": "stdout",
     "output_type": "stream",
     "text": [
      "There are 471 images of woman.\n",
      "There are 472 images of man.\n"
     ]
    }
   ],
   "source": [
    "import os\n",
    "\n",
    "DATA_DIR = \"D:\\\\CS online courses\\\\Free DataSets\\\\Free Images\\\\Easier portrait images_GPU_03\"\n",
    "\n",
    "# Subdirectories for each class\n",
    "data_dir_woman = os.path.join(DATA_DIR, 'woman')\n",
    "data_dir_man = os.path.join(DATA_DIR, 'man')\n",
    "\n",
    "# os.listdir returns a list containing all files under the given dir\n",
    "print(f\"There are {len(os.listdir(data_dir_woman))} images of woman.\")\n",
    "print(f\"There are {len(os.listdir(data_dir_man))} images of man.\")"
   ]
  },
  {
   "cell_type": "code",
   "execution_count": 7,
   "id": "ef0d2806-2487-4ac5-97c4-ff2210416dcc",
   "metadata": {},
   "outputs": [
    {
     "name": "stdout",
     "output_type": "stream",
     "text": [
      "Found 943 files belonging to 2 classes.\n",
      "Using 849 files for training.\n",
      "Found 943 files belonging to 2 classes.\n",
      "Using 94 files for validation.\n",
      "Train batches: 27\n",
      "Validation batches: 3\n",
      "Test batches: 0\n"
     ]
    }
   ],
   "source": [
    "image_size = (img_size, img_size)  # Resize images to this size\n",
    "\n",
    "# Load train dataset (excluding validation & test set):\n",
    "train_dataset = tf.keras.utils.image_dataset_from_directory(\n",
    "    directory = DATA_DIR,\n",
    "    image_size = image_size,\n",
    "    batch_size = batch_size,\n",
    "    label_mode='binary',\n",
    "    validation_split = validation_split + test_split,  # Total split for val + test\n",
    "    subset = \"training\",\n",
    "    seed = seed_num\n",
    ")\n",
    "\n",
    "# Load validation dataset\n",
    "val_dataset = tf.keras.utils.image_dataset_from_directory(\n",
    "    directory = DATA_DIR,\n",
    "    image_size = image_size,\n",
    "    batch_size = batch_size,\n",
    "    label_mode='binary',\n",
    "    validation_split = validation_split + test_split,\n",
    "    subset = \"validation\",\n",
    "    seed = seed_num\n",
    ")\n",
    "\n",
    "# Further manually split validation dataset to extract test dataset\n",
    "val_batches = tf.data.experimental.cardinality(val_dataset)\n",
    "# Compute test dataset size (number of batches)\n",
    "test_size = round(val_batches.numpy() * (test_split / (validation_split + test_split)))\n",
    "# Split validation dataset into validation and test subsets\n",
    "test_dataset = val_dataset.take(test_size)\n",
    "val_dataset = val_dataset.skip(test_size)\n",
    "\n",
    "\n",
    "print(f\"Train batches: {tf.data.experimental.cardinality(train_dataset).numpy()}\")\n",
    "print(f\"Validation batches: {tf.data.experimental.cardinality(val_dataset).numpy()}\")\n",
    "print(f\"Test batches: {tf.data.experimental.cardinality(test_dataset).numpy()}\")\n",
    "\n",
    "# Optimize for performance\n",
    "AUTOTUNE = tf.data.AUTOTUNE\n",
    "training_dataset = train_dataset.cache().shuffle(shuffle_buffer_size).prefetch(buffer_size = AUTOTUNE)\n",
    "validation_dataset = val_dataset.cache().prefetch(buffer_size = AUTOTUNE)\n",
    "test_dataset = test_dataset.cache().prefetch(buffer_size = AUTOTUNE)"
   ]
  },
  {
   "cell_type": "code",
   "execution_count": 8,
   "id": "96d9e533-9ca2-45af-af85-a7e030fa184b",
   "metadata": {},
   "outputs": [
    {
     "name": "stdout",
     "output_type": "stream",
     "text": [
      "Maximum pixel value of images: 255.0\n",
      "\n",
      "Shape of batch of images: (32, 130, 130, 3)\n",
      "Shape of batch of labels: (32, 1)\n"
     ]
    }
   ],
   "source": [
    "# Get the first batch of images and labels\n",
    "for images, labels in training_dataset.take(1):\n",
    "\texample_batch_images = images\n",
    "\texample_batch_labels = labels\n",
    "\n",
    "max_pixel = np.max(example_batch_images)\n",
    "print(f\"Maximum pixel value of images: {max_pixel}\\n\")\n",
    "print(f\"Shape of batch of images: {example_batch_images.shape}\")\n",
    "print(f\"Shape of batch of labels: {example_batch_labels.shape}\")"
   ]
  },
  {
   "cell_type": "code",
   "execution_count": 9,
   "id": "85453247-adf0-4e7d-8924-f86415759f1f",
   "metadata": {},
   "outputs": [
    {
     "data": {
      "text/plain": [
       "'\\nclass EarlyStoppingCallback(tf.keras.callbacks.Callback):\\n    def on_epoch_end(self, epoch, logs=None):\\n        train_accuracy = logs.get(\\'accuracy\\')\\n        val_accuracy = logs.get(\\'val_accuracy\\')\\n        if train_accuracy >= desired_accuracy and val_accuracy >= desired_accuracy:\\n            self.model.stop_training = True\\n            print(f\"\\nReached {desired_accuracy}% accuracy so cancelling training!\")\\n'"
      ]
     },
     "execution_count": 9,
     "metadata": {},
     "output_type": "execute_result"
    }
   ],
   "source": [
    "'''\n",
    "class EarlyStoppingCallback(tf.keras.callbacks.Callback):\n",
    "    def on_epoch_end(self, epoch, logs=None):\n",
    "        train_accuracy = logs.get('accuracy')\n",
    "        val_accuracy = logs.get('val_accuracy')\n",
    "        if train_accuracy >= desired_accuracy and val_accuracy >= desired_accuracy:\n",
    "            self.model.stop_training = True\n",
    "            print(f\"\\nReached {desired_accuracy}% accuracy so cancelling training!\")\n",
    "'''"
   ]
  },
  {
   "cell_type": "code",
   "execution_count": 10,
   "id": "7906f3e8-d63c-4210-b096-5ee54e2c1895",
   "metadata": {},
   "outputs": [
    {
     "data": {
      "text/plain": [
       "\"\\nfrom tensorflow.keras.callbacks import EarlyStopping\\nearly_stop = EarlyStopping(monitor='val_loss', patience=3)\\n\""
      ]
     },
     "execution_count": 10,
     "metadata": {},
     "output_type": "execute_result"
    }
   ],
   "source": [
    "'''\n",
    "from tensorflow.keras.callbacks import EarlyStopping\n",
    "early_stop = EarlyStopping(monitor='val_loss', patience=3)\n",
    "'''"
   ]
  },
  {
   "cell_type": "code",
   "execution_count": 11,
   "id": "8b7fe37b-3831-478d-9fd5-d018ce786472",
   "metadata": {},
   "outputs": [],
   "source": [
    "from tensorflow.keras.callbacks import LearningRateScheduler\n",
    "\n",
    "# Reduce LR every 10 epochs (Learning rate decay factor)\n",
    "def scheduler(epoch, lr):\n",
    "    if epoch % 10 == 0 and epoch > 0:\n",
    "        return lr * 1.0\n",
    "    return lr\n",
    "\n",
    "lr_callback = LearningRateScheduler(scheduler)"
   ]
  },
  {
   "cell_type": "code",
   "execution_count": 12,
   "id": "06db003d-e408-472a-986b-54e0728db183",
   "metadata": {},
   "outputs": [],
   "source": [
    "# augmentation_model\n",
    "def augment_model():\n",
    "    \"\"\"Creates a model (layers stacked on top of each other) for augmenting images of woman and man.\n",
    "\n",
    "    Returns:\n",
    "        tf.keras.Model: The model made up of the layers that will be used to augment the images of woman and man.\n",
    "    \"\"\"\n",
    "\n",
    "    augmentation_model = tf.keras.Sequential([\n",
    "        # Specify the input shape.\n",
    "        tf.keras.Input(shape = (img_size, img_size, 3)),\n",
    "        \n",
    "        tf.keras.layers.RandomFlip(\"horizontal\"),\n",
    "        tf.keras.layers.RandomRotation(0.1, fill_mode = f_mode),\n",
    "        #tf.keras.layers.RandomTranslation(0.1, 0.1, fill_mode = f_mode),\n",
    "        #tf.keras.layers.RandomZoom(0.1, fill_mode=f_mode)\n",
    "        ])\n",
    "\n",
    "    return augmentation_model"
   ]
  },
  {
   "cell_type": "code",
   "execution_count": 13,
   "id": "57d8ea70-8df3-4dd5-93e0-013cd42546e6",
   "metadata": {},
   "outputs": [],
   "source": [
    "def create_and_compile_model():\n",
    "    \"\"\"Creates, compiles and trains the model to predict woman and man images.\n",
    "\n",
    "    Returns:\n",
    "        tf.keras.Model: The model that will be trained to predict woman and man images.\n",
    "    \"\"\"\n",
    "\n",
    "    augmentation_layers = augment_model()\n",
    "    \n",
    "    model = tf.keras.Sequential([\n",
    "        # Note: the input shape is the desired size of the image: 150x150 with 3 bytes for color\n",
    "        tf.keras.layers.InputLayer(shape = (img_size, img_size, 3)),\n",
    "        augmentation_layers,\n",
    "        tf.keras.layers.Rescaling(1./255),\n",
    "        #####    CONV_LAYER_1:     #####\n",
    "        tf.keras.layers.Conv2D(n_filters_l1, (4, 4), activation = 'linear'),\n",
    "        tf.keras.layers.MaxPooling2D(2, 2),\n",
    "        #####    CONV_LAYER_2:     #####\n",
    "        tf.keras.layers.Conv2D(n_filters_l2, (3, 3), activation = 'relu'),\n",
    "        tf.keras.layers.MaxPooling2D(2, 2),\n",
    "        #####    CONV_LAYER_3:     #####\n",
    "        tf.keras.layers.Conv2D(64, (3, 3), activation = 'relu'),\n",
    "        tf.keras.layers.MaxPooling2D(2, 2),\n",
    "        #####    CONV_LAYER_4:     #####\n",
    "        tf.keras.layers.Conv2D(64, (3, 3), activation = 'relu'),\n",
    "        tf.keras.layers.MaxPooling2D(2, 2),\n",
    "        tf.keras.layers.Flatten(),\n",
    "        tf.keras.layers.Dropout(dropout_value),\n",
    "        #####    BEFORE_LAST_LAYER:     #####\n",
    "        tf.keras.layers.Dense(n_units_last_layer, activation = 'relu'),\n",
    "        # It will contain a value from 0-1 where 0 for the class 'female' and 1 for the 'male'\n",
    "        tf.keras.layers.Dense(1, activation = 'sigmoid')]) \n",
    "\n",
    "    model.compile(\n",
    "        loss = loss,\n",
    "        optimizer = optimizer,\n",
    "        metrics = metrics\n",
    "    )\n",
    "\n",
    "    return model"
   ]
  },
  {
   "cell_type": "code",
   "execution_count": 14,
   "id": "0ecc4042-af60-4d6a-a989-f81761b5bc1f",
   "metadata": {},
   "outputs": [
    {
     "data": {
      "text/html": [
       "<pre style=\"white-space:pre;overflow-x:auto;line-height:normal;font-family:Menlo,'DejaVu Sans Mono',consolas,'Courier New',monospace\"><span style=\"font-weight: bold\">Model: \"sequential_1\"</span>\n",
       "</pre>\n"
      ],
      "text/plain": [
       "\u001b[1mModel: \"sequential_1\"\u001b[0m\n"
      ]
     },
     "metadata": {},
     "output_type": "display_data"
    },
    {
     "data": {
      "text/html": [
       "<pre style=\"white-space:pre;overflow-x:auto;line-height:normal;font-family:Menlo,'DejaVu Sans Mono',consolas,'Courier New',monospace\">┏━━━━━━━━━━━━━━━━━━━━━━━━━━━━━━━━━┳━━━━━━━━━━━━━━━━━━━━━━━━┳━━━━━━━━━━━━━━━┓\n",
       "┃<span style=\"font-weight: bold\"> Layer (type)                    </span>┃<span style=\"font-weight: bold\"> Output Shape           </span>┃<span style=\"font-weight: bold\">       Param # </span>┃\n",
       "┡━━━━━━━━━━━━━━━━━━━━━━━━━━━━━━━━━╇━━━━━━━━━━━━━━━━━━━━━━━━╇━━━━━━━━━━━━━━━┩\n",
       "│ sequential (<span style=\"color: #0087ff; text-decoration-color: #0087ff\">Sequential</span>)         │ (<span style=\"color: #00d7ff; text-decoration-color: #00d7ff\">None</span>, <span style=\"color: #00af00; text-decoration-color: #00af00\">130</span>, <span style=\"color: #00af00; text-decoration-color: #00af00\">130</span>, <span style=\"color: #00af00; text-decoration-color: #00af00\">3</span>)    │             <span style=\"color: #00af00; text-decoration-color: #00af00\">0</span> │\n",
       "├─────────────────────────────────┼────────────────────────┼───────────────┤\n",
       "│ rescaling (<span style=\"color: #0087ff; text-decoration-color: #0087ff\">Rescaling</span>)           │ (<span style=\"color: #00d7ff; text-decoration-color: #00d7ff\">None</span>, <span style=\"color: #00af00; text-decoration-color: #00af00\">130</span>, <span style=\"color: #00af00; text-decoration-color: #00af00\">130</span>, <span style=\"color: #00af00; text-decoration-color: #00af00\">3</span>)    │             <span style=\"color: #00af00; text-decoration-color: #00af00\">0</span> │\n",
       "├─────────────────────────────────┼────────────────────────┼───────────────┤\n",
       "│ conv2d (<span style=\"color: #0087ff; text-decoration-color: #0087ff\">Conv2D</span>)                 │ (<span style=\"color: #00d7ff; text-decoration-color: #00d7ff\">None</span>, <span style=\"color: #00af00; text-decoration-color: #00af00\">127</span>, <span style=\"color: #00af00; text-decoration-color: #00af00\">127</span>, <span style=\"color: #00af00; text-decoration-color: #00af00\">8</span>)    │           <span style=\"color: #00af00; text-decoration-color: #00af00\">392</span> │\n",
       "├─────────────────────────────────┼────────────────────────┼───────────────┤\n",
       "│ max_pooling2d (<span style=\"color: #0087ff; text-decoration-color: #0087ff\">MaxPooling2D</span>)    │ (<span style=\"color: #00d7ff; text-decoration-color: #00d7ff\">None</span>, <span style=\"color: #00af00; text-decoration-color: #00af00\">63</span>, <span style=\"color: #00af00; text-decoration-color: #00af00\">63</span>, <span style=\"color: #00af00; text-decoration-color: #00af00\">8</span>)      │             <span style=\"color: #00af00; text-decoration-color: #00af00\">0</span> │\n",
       "├─────────────────────────────────┼────────────────────────┼───────────────┤\n",
       "│ conv2d_1 (<span style=\"color: #0087ff; text-decoration-color: #0087ff\">Conv2D</span>)               │ (<span style=\"color: #00d7ff; text-decoration-color: #00d7ff\">None</span>, <span style=\"color: #00af00; text-decoration-color: #00af00\">61</span>, <span style=\"color: #00af00; text-decoration-color: #00af00\">61</span>, <span style=\"color: #00af00; text-decoration-color: #00af00\">64</span>)     │         <span style=\"color: #00af00; text-decoration-color: #00af00\">4,672</span> │\n",
       "├─────────────────────────────────┼────────────────────────┼───────────────┤\n",
       "│ max_pooling2d_1 (<span style=\"color: #0087ff; text-decoration-color: #0087ff\">MaxPooling2D</span>)  │ (<span style=\"color: #00d7ff; text-decoration-color: #00d7ff\">None</span>, <span style=\"color: #00af00; text-decoration-color: #00af00\">30</span>, <span style=\"color: #00af00; text-decoration-color: #00af00\">30</span>, <span style=\"color: #00af00; text-decoration-color: #00af00\">64</span>)     │             <span style=\"color: #00af00; text-decoration-color: #00af00\">0</span> │\n",
       "├─────────────────────────────────┼────────────────────────┼───────────────┤\n",
       "│ conv2d_2 (<span style=\"color: #0087ff; text-decoration-color: #0087ff\">Conv2D</span>)               │ (<span style=\"color: #00d7ff; text-decoration-color: #00d7ff\">None</span>, <span style=\"color: #00af00; text-decoration-color: #00af00\">28</span>, <span style=\"color: #00af00; text-decoration-color: #00af00\">28</span>, <span style=\"color: #00af00; text-decoration-color: #00af00\">64</span>)     │        <span style=\"color: #00af00; text-decoration-color: #00af00\">36,928</span> │\n",
       "├─────────────────────────────────┼────────────────────────┼───────────────┤\n",
       "│ max_pooling2d_2 (<span style=\"color: #0087ff; text-decoration-color: #0087ff\">MaxPooling2D</span>)  │ (<span style=\"color: #00d7ff; text-decoration-color: #00d7ff\">None</span>, <span style=\"color: #00af00; text-decoration-color: #00af00\">14</span>, <span style=\"color: #00af00; text-decoration-color: #00af00\">14</span>, <span style=\"color: #00af00; text-decoration-color: #00af00\">64</span>)     │             <span style=\"color: #00af00; text-decoration-color: #00af00\">0</span> │\n",
       "├─────────────────────────────────┼────────────────────────┼───────────────┤\n",
       "│ conv2d_3 (<span style=\"color: #0087ff; text-decoration-color: #0087ff\">Conv2D</span>)               │ (<span style=\"color: #00d7ff; text-decoration-color: #00d7ff\">None</span>, <span style=\"color: #00af00; text-decoration-color: #00af00\">12</span>, <span style=\"color: #00af00; text-decoration-color: #00af00\">12</span>, <span style=\"color: #00af00; text-decoration-color: #00af00\">64</span>)     │        <span style=\"color: #00af00; text-decoration-color: #00af00\">36,928</span> │\n",
       "├─────────────────────────────────┼────────────────────────┼───────────────┤\n",
       "│ max_pooling2d_3 (<span style=\"color: #0087ff; text-decoration-color: #0087ff\">MaxPooling2D</span>)  │ (<span style=\"color: #00d7ff; text-decoration-color: #00d7ff\">None</span>, <span style=\"color: #00af00; text-decoration-color: #00af00\">6</span>, <span style=\"color: #00af00; text-decoration-color: #00af00\">6</span>, <span style=\"color: #00af00; text-decoration-color: #00af00\">64</span>)       │             <span style=\"color: #00af00; text-decoration-color: #00af00\">0</span> │\n",
       "├─────────────────────────────────┼────────────────────────┼───────────────┤\n",
       "│ flatten (<span style=\"color: #0087ff; text-decoration-color: #0087ff\">Flatten</span>)               │ (<span style=\"color: #00d7ff; text-decoration-color: #00d7ff\">None</span>, <span style=\"color: #00af00; text-decoration-color: #00af00\">2304</span>)           │             <span style=\"color: #00af00; text-decoration-color: #00af00\">0</span> │\n",
       "├─────────────────────────────────┼────────────────────────┼───────────────┤\n",
       "│ dropout (<span style=\"color: #0087ff; text-decoration-color: #0087ff\">Dropout</span>)               │ (<span style=\"color: #00d7ff; text-decoration-color: #00d7ff\">None</span>, <span style=\"color: #00af00; text-decoration-color: #00af00\">2304</span>)           │             <span style=\"color: #00af00; text-decoration-color: #00af00\">0</span> │\n",
       "├─────────────────────────────────┼────────────────────────┼───────────────┤\n",
       "│ dense (<span style=\"color: #0087ff; text-decoration-color: #0087ff\">Dense</span>)                   │ (<span style=\"color: #00d7ff; text-decoration-color: #00d7ff\">None</span>, <span style=\"color: #00af00; text-decoration-color: #00af00\">1024</span>)           │     <span style=\"color: #00af00; text-decoration-color: #00af00\">2,360,320</span> │\n",
       "├─────────────────────────────────┼────────────────────────┼───────────────┤\n",
       "│ dense_1 (<span style=\"color: #0087ff; text-decoration-color: #0087ff\">Dense</span>)                 │ (<span style=\"color: #00d7ff; text-decoration-color: #00d7ff\">None</span>, <span style=\"color: #00af00; text-decoration-color: #00af00\">1</span>)              │         <span style=\"color: #00af00; text-decoration-color: #00af00\">1,025</span> │\n",
       "└─────────────────────────────────┴────────────────────────┴───────────────┘\n",
       "</pre>\n"
      ],
      "text/plain": [
       "┏━━━━━━━━━━━━━━━━━━━━━━━━━━━━━━━━━┳━━━━━━━━━━━━━━━━━━━━━━━━┳━━━━━━━━━━━━━━━┓\n",
       "┃\u001b[1m \u001b[0m\u001b[1mLayer (type)                   \u001b[0m\u001b[1m \u001b[0m┃\u001b[1m \u001b[0m\u001b[1mOutput Shape          \u001b[0m\u001b[1m \u001b[0m┃\u001b[1m \u001b[0m\u001b[1m      Param #\u001b[0m\u001b[1m \u001b[0m┃\n",
       "┡━━━━━━━━━━━━━━━━━━━━━━━━━━━━━━━━━╇━━━━━━━━━━━━━━━━━━━━━━━━╇━━━━━━━━━━━━━━━┩\n",
       "│ sequential (\u001b[38;5;33mSequential\u001b[0m)         │ (\u001b[38;5;45mNone\u001b[0m, \u001b[38;5;34m130\u001b[0m, \u001b[38;5;34m130\u001b[0m, \u001b[38;5;34m3\u001b[0m)    │             \u001b[38;5;34m0\u001b[0m │\n",
       "├─────────────────────────────────┼────────────────────────┼───────────────┤\n",
       "│ rescaling (\u001b[38;5;33mRescaling\u001b[0m)           │ (\u001b[38;5;45mNone\u001b[0m, \u001b[38;5;34m130\u001b[0m, \u001b[38;5;34m130\u001b[0m, \u001b[38;5;34m3\u001b[0m)    │             \u001b[38;5;34m0\u001b[0m │\n",
       "├─────────────────────────────────┼────────────────────────┼───────────────┤\n",
       "│ conv2d (\u001b[38;5;33mConv2D\u001b[0m)                 │ (\u001b[38;5;45mNone\u001b[0m, \u001b[38;5;34m127\u001b[0m, \u001b[38;5;34m127\u001b[0m, \u001b[38;5;34m8\u001b[0m)    │           \u001b[38;5;34m392\u001b[0m │\n",
       "├─────────────────────────────────┼────────────────────────┼───────────────┤\n",
       "│ max_pooling2d (\u001b[38;5;33mMaxPooling2D\u001b[0m)    │ (\u001b[38;5;45mNone\u001b[0m, \u001b[38;5;34m63\u001b[0m, \u001b[38;5;34m63\u001b[0m, \u001b[38;5;34m8\u001b[0m)      │             \u001b[38;5;34m0\u001b[0m │\n",
       "├─────────────────────────────────┼────────────────────────┼───────────────┤\n",
       "│ conv2d_1 (\u001b[38;5;33mConv2D\u001b[0m)               │ (\u001b[38;5;45mNone\u001b[0m, \u001b[38;5;34m61\u001b[0m, \u001b[38;5;34m61\u001b[0m, \u001b[38;5;34m64\u001b[0m)     │         \u001b[38;5;34m4,672\u001b[0m │\n",
       "├─────────────────────────────────┼────────────────────────┼───────────────┤\n",
       "│ max_pooling2d_1 (\u001b[38;5;33mMaxPooling2D\u001b[0m)  │ (\u001b[38;5;45mNone\u001b[0m, \u001b[38;5;34m30\u001b[0m, \u001b[38;5;34m30\u001b[0m, \u001b[38;5;34m64\u001b[0m)     │             \u001b[38;5;34m0\u001b[0m │\n",
       "├─────────────────────────────────┼────────────────────────┼───────────────┤\n",
       "│ conv2d_2 (\u001b[38;5;33mConv2D\u001b[0m)               │ (\u001b[38;5;45mNone\u001b[0m, \u001b[38;5;34m28\u001b[0m, \u001b[38;5;34m28\u001b[0m, \u001b[38;5;34m64\u001b[0m)     │        \u001b[38;5;34m36,928\u001b[0m │\n",
       "├─────────────────────────────────┼────────────────────────┼───────────────┤\n",
       "│ max_pooling2d_2 (\u001b[38;5;33mMaxPooling2D\u001b[0m)  │ (\u001b[38;5;45mNone\u001b[0m, \u001b[38;5;34m14\u001b[0m, \u001b[38;5;34m14\u001b[0m, \u001b[38;5;34m64\u001b[0m)     │             \u001b[38;5;34m0\u001b[0m │\n",
       "├─────────────────────────────────┼────────────────────────┼───────────────┤\n",
       "│ conv2d_3 (\u001b[38;5;33mConv2D\u001b[0m)               │ (\u001b[38;5;45mNone\u001b[0m, \u001b[38;5;34m12\u001b[0m, \u001b[38;5;34m12\u001b[0m, \u001b[38;5;34m64\u001b[0m)     │        \u001b[38;5;34m36,928\u001b[0m │\n",
       "├─────────────────────────────────┼────────────────────────┼───────────────┤\n",
       "│ max_pooling2d_3 (\u001b[38;5;33mMaxPooling2D\u001b[0m)  │ (\u001b[38;5;45mNone\u001b[0m, \u001b[38;5;34m6\u001b[0m, \u001b[38;5;34m6\u001b[0m, \u001b[38;5;34m64\u001b[0m)       │             \u001b[38;5;34m0\u001b[0m │\n",
       "├─────────────────────────────────┼────────────────────────┼───────────────┤\n",
       "│ flatten (\u001b[38;5;33mFlatten\u001b[0m)               │ (\u001b[38;5;45mNone\u001b[0m, \u001b[38;5;34m2304\u001b[0m)           │             \u001b[38;5;34m0\u001b[0m │\n",
       "├─────────────────────────────────┼────────────────────────┼───────────────┤\n",
       "│ dropout (\u001b[38;5;33mDropout\u001b[0m)               │ (\u001b[38;5;45mNone\u001b[0m, \u001b[38;5;34m2304\u001b[0m)           │             \u001b[38;5;34m0\u001b[0m │\n",
       "├─────────────────────────────────┼────────────────────────┼───────────────┤\n",
       "│ dense (\u001b[38;5;33mDense\u001b[0m)                   │ (\u001b[38;5;45mNone\u001b[0m, \u001b[38;5;34m1024\u001b[0m)           │     \u001b[38;5;34m2,360,320\u001b[0m │\n",
       "├─────────────────────────────────┼────────────────────────┼───────────────┤\n",
       "│ dense_1 (\u001b[38;5;33mDense\u001b[0m)                 │ (\u001b[38;5;45mNone\u001b[0m, \u001b[38;5;34m1\u001b[0m)              │         \u001b[38;5;34m1,025\u001b[0m │\n",
       "└─────────────────────────────────┴────────────────────────┴───────────────┘\n"
      ]
     },
     "metadata": {},
     "output_type": "display_data"
    },
    {
     "data": {
      "text/html": [
       "<pre style=\"white-space:pre;overflow-x:auto;line-height:normal;font-family:Menlo,'DejaVu Sans Mono',consolas,'Courier New',monospace\"><span style=\"font-weight: bold\"> Total params: </span><span style=\"color: #00af00; text-decoration-color: #00af00\">2,440,265</span> (9.31 MB)\n",
       "</pre>\n"
      ],
      "text/plain": [
       "\u001b[1m Total params: \u001b[0m\u001b[38;5;34m2,440,265\u001b[0m (9.31 MB)\n"
      ]
     },
     "metadata": {},
     "output_type": "display_data"
    },
    {
     "data": {
      "text/html": [
       "<pre style=\"white-space:pre;overflow-x:auto;line-height:normal;font-family:Menlo,'DejaVu Sans Mono',consolas,'Courier New',monospace\"><span style=\"font-weight: bold\"> Trainable params: </span><span style=\"color: #00af00; text-decoration-color: #00af00\">2,440,265</span> (9.31 MB)\n",
       "</pre>\n"
      ],
      "text/plain": [
       "\u001b[1m Trainable params: \u001b[0m\u001b[38;5;34m2,440,265\u001b[0m (9.31 MB)\n"
      ]
     },
     "metadata": {},
     "output_type": "display_data"
    },
    {
     "data": {
      "text/html": [
       "<pre style=\"white-space:pre;overflow-x:auto;line-height:normal;font-family:Menlo,'DejaVu Sans Mono',consolas,'Courier New',monospace\"><span style=\"font-weight: bold\"> Non-trainable params: </span><span style=\"color: #00af00; text-decoration-color: #00af00\">0</span> (0.00 B)\n",
       "</pre>\n"
      ],
      "text/plain": [
       "\u001b[1m Non-trainable params: \u001b[0m\u001b[38;5;34m0\u001b[0m (0.00 B)\n"
      ]
     },
     "metadata": {},
     "output_type": "display_data"
    }
   ],
   "source": [
    "# Create the compiled but untrained model\n",
    "model = create_and_compile_model()\n",
    "model.summary()"
   ]
  },
  {
   "cell_type": "code",
   "execution_count": 15,
   "id": "89abb112-31e4-462d-aeb5-ac878eb84cb1",
   "metadata": {},
   "outputs": [
    {
     "data": {
      "text/plain": [
       "'\\ntraining_history = model.fit(\\n    training_dataset,\\n    epochs = epochs,\\n    validation_data = validation_dataset,\\n    callbacks = [EarlyStoppingCallback()],\\n    verbose = 2\\n)\\n'"
      ]
     },
     "execution_count": 15,
     "metadata": {},
     "output_type": "execute_result"
    }
   ],
   "source": [
    "'''\n",
    "training_history = model.fit(\n",
    "    training_dataset,\n",
    "    epochs = epochs,\n",
    "    validation_data = validation_dataset,\n",
    "    callbacks = [EarlyStoppingCallback()],\n",
    "    verbose = 2\n",
    ")\n",
    "'''"
   ]
  },
  {
   "cell_type": "code",
   "execution_count": 16,
   "id": "84b5a348-8f19-43d7-b96d-764b239959e9",
   "metadata": {},
   "outputs": [
    {
     "data": {
      "text/plain": [
       "'\\ntraining_history = model.fit(\\n    training_dataset,\\n    epochs = epochs,\\n    validation_data = validation_dataset,\\n    callbacks=[early_stop],\\n    verbose = 2\\n)\\n'"
      ]
     },
     "execution_count": 16,
     "metadata": {},
     "output_type": "execute_result"
    }
   ],
   "source": [
    "'''\n",
    "training_history = model.fit(\n",
    "    training_dataset,\n",
    "    epochs = epochs,\n",
    "    validation_data = validation_dataset,\n",
    "    callbacks=[early_stop],\n",
    "    verbose = 2\n",
    ")\n",
    "'''"
   ]
  },
  {
   "cell_type": "code",
   "execution_count": 17,
   "id": "8e9ceea5-9f80-4011-aeb4-9951bc88ac66",
   "metadata": {},
   "outputs": [
    {
     "name": "stdout",
     "output_type": "stream",
     "text": [
      "Epoch 1/100\n",
      "27/27 - 5s - 187ms/step - accuracy: 0.5972 - loss: 0.6619 - val_accuracy: 0.6277 - val_loss: 0.6528 - learning_rate: 5.0000e-04\n",
      "Epoch 2/100\n",
      "27/27 - 2s - 65ms/step - accuracy: 0.6985 - loss: 0.5675 - val_accuracy: 0.7660 - val_loss: 0.5401 - learning_rate: 5.0000e-04\n",
      "Epoch 3/100\n",
      "27/27 - 2s - 64ms/step - accuracy: 0.7550 - loss: 0.5088 - val_accuracy: 0.8085 - val_loss: 0.5114 - learning_rate: 5.0000e-04\n",
      "Epoch 4/100\n",
      "27/27 - 2s - 64ms/step - accuracy: 0.7727 - loss: 0.4855 - val_accuracy: 0.7766 - val_loss: 0.4794 - learning_rate: 5.0000e-04\n",
      "Epoch 5/100\n",
      "27/27 - 2s - 64ms/step - accuracy: 0.7821 - loss: 0.4775 - val_accuracy: 0.8298 - val_loss: 0.4613 - learning_rate: 5.0000e-04\n",
      "Epoch 6/100\n",
      "27/27 - 2s - 67ms/step - accuracy: 0.7986 - loss: 0.4292 - val_accuracy: 0.8723 - val_loss: 0.4650 - learning_rate: 5.0000e-04\n",
      "Epoch 7/100\n",
      "27/27 - 2s - 65ms/step - accuracy: 0.7903 - loss: 0.4377 - val_accuracy: 0.8511 - val_loss: 0.4633 - learning_rate: 5.0000e-04\n",
      "Epoch 8/100\n",
      "27/27 - 2s - 64ms/step - accuracy: 0.8104 - loss: 0.4236 - val_accuracy: 0.8511 - val_loss: 0.4571 - learning_rate: 5.0000e-04\n",
      "Epoch 9/100\n",
      "27/27 - 2s - 64ms/step - accuracy: 0.8210 - loss: 0.4072 - val_accuracy: 0.8298 - val_loss: 0.4391 - learning_rate: 5.0000e-04\n",
      "Epoch 10/100\n",
      "27/27 - 2s - 64ms/step - accuracy: 0.8269 - loss: 0.3915 - val_accuracy: 0.8617 - val_loss: 0.4580 - learning_rate: 5.0000e-04\n",
      "Epoch 11/100\n",
      "27/27 - 2s - 64ms/step - accuracy: 0.8198 - loss: 0.3892 - val_accuracy: 0.8617 - val_loss: 0.3592 - learning_rate: 5.0000e-04\n",
      "Epoch 12/100\n",
      "27/27 - 2s - 64ms/step - accuracy: 0.8363 - loss: 0.3702 - val_accuracy: 0.8511 - val_loss: 0.3223 - learning_rate: 5.0000e-04\n",
      "Epoch 13/100\n",
      "27/27 - 2s - 64ms/step - accuracy: 0.8504 - loss: 0.3462 - val_accuracy: 0.8723 - val_loss: 0.4075 - learning_rate: 5.0000e-04\n",
      "Epoch 14/100\n",
      "27/27 - 2s - 64ms/step - accuracy: 0.8681 - loss: 0.3274 - val_accuracy: 0.8723 - val_loss: 0.3836 - learning_rate: 5.0000e-04\n",
      "Epoch 15/100\n",
      "27/27 - 2s - 65ms/step - accuracy: 0.8622 - loss: 0.3292 - val_accuracy: 0.8298 - val_loss: 0.5138 - learning_rate: 5.0000e-04\n",
      "Epoch 16/100\n",
      "27/27 - 2s - 66ms/step - accuracy: 0.8634 - loss: 0.3147 - val_accuracy: 0.8723 - val_loss: 0.3786 - learning_rate: 5.0000e-04\n",
      "Epoch 17/100\n",
      "27/27 - 2s - 64ms/step - accuracy: 0.8834 - loss: 0.3028 - val_accuracy: 0.8723 - val_loss: 0.3809 - learning_rate: 5.0000e-04\n",
      "Epoch 18/100\n",
      "27/27 - 2s - 64ms/step - accuracy: 0.8492 - loss: 0.3373 - val_accuracy: 0.8830 - val_loss: 0.3574 - learning_rate: 5.0000e-04\n",
      "Epoch 19/100\n",
      "27/27 - 2s - 64ms/step - accuracy: 0.8869 - loss: 0.2975 - val_accuracy: 0.8617 - val_loss: 0.3424 - learning_rate: 5.0000e-04\n",
      "Epoch 20/100\n",
      "27/27 - 2s - 64ms/step - accuracy: 0.8846 - loss: 0.2872 - val_accuracy: 0.8723 - val_loss: 0.3338 - learning_rate: 5.0000e-04\n",
      "Epoch 21/100\n",
      "27/27 - 2s - 64ms/step - accuracy: 0.8810 - loss: 0.2950 - val_accuracy: 0.8723 - val_loss: 0.3214 - learning_rate: 5.0000e-04\n",
      "Epoch 22/100\n",
      "27/27 - 2s - 64ms/step - accuracy: 0.8622 - loss: 0.3014 - val_accuracy: 0.8617 - val_loss: 0.3670 - learning_rate: 5.0000e-04\n",
      "Epoch 23/100\n",
      "27/27 - 2s - 64ms/step - accuracy: 0.8763 - loss: 0.2948 - val_accuracy: 0.8936 - val_loss: 0.3401 - learning_rate: 5.0000e-04\n",
      "Epoch 24/100\n",
      "27/27 - 2s - 65ms/step - accuracy: 0.8963 - loss: 0.2578 - val_accuracy: 0.8830 - val_loss: 0.3979 - learning_rate: 5.0000e-04\n",
      "Epoch 25/100\n",
      "27/27 - 2s - 66ms/step - accuracy: 0.8857 - loss: 0.2723 - val_accuracy: 0.9043 - val_loss: 0.3578 - learning_rate: 5.0000e-04\n",
      "Epoch 26/100\n",
      "27/27 - 2s - 64ms/step - accuracy: 0.8822 - loss: 0.2865 - val_accuracy: 0.8617 - val_loss: 0.3286 - learning_rate: 5.0000e-04\n",
      "Epoch 27/100\n",
      "27/27 - 2s - 64ms/step - accuracy: 0.9011 - loss: 0.2515 - val_accuracy: 0.8617 - val_loss: 0.3897 - learning_rate: 5.0000e-04\n",
      "Epoch 28/100\n",
      "27/27 - 2s - 64ms/step - accuracy: 0.9011 - loss: 0.2383 - val_accuracy: 0.8617 - val_loss: 0.3593 - learning_rate: 5.0000e-04\n",
      "Epoch 29/100\n",
      "27/27 - 2s - 65ms/step - accuracy: 0.9176 - loss: 0.2187 - val_accuracy: 0.8936 - val_loss: 0.4895 - learning_rate: 5.0000e-04\n",
      "Epoch 30/100\n",
      "27/27 - 2s - 64ms/step - accuracy: 0.9058 - loss: 0.2270 - val_accuracy: 0.8511 - val_loss: 0.3848 - learning_rate: 5.0000e-04\n",
      "Epoch 31/100\n",
      "27/27 - 2s - 64ms/step - accuracy: 0.9140 - loss: 0.2225 - val_accuracy: 0.8404 - val_loss: 0.3615 - learning_rate: 5.0000e-04\n",
      "Epoch 32/100\n",
      "27/27 - 2s - 65ms/step - accuracy: 0.9187 - loss: 0.2104 - val_accuracy: 0.8191 - val_loss: 0.3421 - learning_rate: 5.0000e-04\n",
      "Epoch 33/100\n",
      "27/27 - 2s - 65ms/step - accuracy: 0.9011 - loss: 0.2270 - val_accuracy: 0.8723 - val_loss: 0.4284 - learning_rate: 5.0000e-04\n",
      "Epoch 34/100\n",
      "27/27 - 2s - 66ms/step - accuracy: 0.9246 - loss: 0.1962 - val_accuracy: 0.8830 - val_loss: 0.2805 - learning_rate: 5.0000e-04\n",
      "Epoch 35/100\n",
      "27/27 - 2s - 65ms/step - accuracy: 0.9081 - loss: 0.2264 - val_accuracy: 0.8936 - val_loss: 0.3087 - learning_rate: 5.0000e-04\n",
      "Epoch 36/100\n",
      "27/27 - 2s - 64ms/step - accuracy: 0.9152 - loss: 0.2184 - val_accuracy: 0.8936 - val_loss: 0.4204 - learning_rate: 5.0000e-04\n",
      "Epoch 37/100\n",
      "27/27 - 2s - 64ms/step - accuracy: 0.9140 - loss: 0.2028 - val_accuracy: 0.8936 - val_loss: 0.4711 - learning_rate: 5.0000e-04\n",
      "Epoch 38/100\n",
      "27/27 - 2s - 64ms/step - accuracy: 0.9117 - loss: 0.2092 - val_accuracy: 0.9043 - val_loss: 0.3851 - learning_rate: 5.0000e-04\n",
      "Epoch 39/100\n",
      "27/27 - 2s - 64ms/step - accuracy: 0.9105 - loss: 0.1856 - val_accuracy: 0.8830 - val_loss: 0.2916 - learning_rate: 5.0000e-04\n",
      "Epoch 40/100\n",
      "27/27 - 2s - 64ms/step - accuracy: 0.9199 - loss: 0.1861 - val_accuracy: 0.8723 - val_loss: 0.3277 - learning_rate: 5.0000e-04\n",
      "Epoch 41/100\n",
      "27/27 - 2s - 64ms/step - accuracy: 0.9058 - loss: 0.2380 - val_accuracy: 0.8511 - val_loss: 0.3179 - learning_rate: 5.0000e-04\n",
      "Epoch 42/100\n",
      "27/27 - 2s - 64ms/step - accuracy: 0.9223 - loss: 0.2006 - val_accuracy: 0.8830 - val_loss: 0.4281 - learning_rate: 5.0000e-04\n",
      "Epoch 43/100\n",
      "27/27 - 2s - 67ms/step - accuracy: 0.9317 - loss: 0.1728 - val_accuracy: 0.8723 - val_loss: 0.3305 - learning_rate: 5.0000e-04\n",
      "Epoch 44/100\n",
      "27/27 - 2s - 65ms/step - accuracy: 0.9305 - loss: 0.1688 - val_accuracy: 0.8936 - val_loss: 0.3968 - learning_rate: 5.0000e-04\n",
      "Epoch 45/100\n",
      "27/27 - 2s - 64ms/step - accuracy: 0.9352 - loss: 0.1551 - val_accuracy: 0.8723 - val_loss: 0.4000 - learning_rate: 5.0000e-04\n",
      "Epoch 46/100\n",
      "27/27 - 2s - 65ms/step - accuracy: 0.9270 - loss: 0.1790 - val_accuracy: 0.8723 - val_loss: 0.3184 - learning_rate: 5.0000e-04\n",
      "Epoch 47/100\n",
      "27/27 - 2s - 64ms/step - accuracy: 0.9352 - loss: 0.1578 - val_accuracy: 0.8830 - val_loss: 0.3721 - learning_rate: 5.0000e-04\n",
      "Epoch 48/100\n",
      "27/27 - 2s - 65ms/step - accuracy: 0.9541 - loss: 0.1450 - val_accuracy: 0.8830 - val_loss: 0.6123 - learning_rate: 5.0000e-04\n",
      "Epoch 49/100\n",
      "27/27 - 2s - 65ms/step - accuracy: 0.9423 - loss: 0.1460 - val_accuracy: 0.8723 - val_loss: 0.4880 - learning_rate: 5.0000e-04\n",
      "Epoch 50/100\n",
      "27/27 - 2s - 65ms/step - accuracy: 0.9458 - loss: 0.1576 - val_accuracy: 0.8723 - val_loss: 0.4459 - learning_rate: 5.0000e-04\n",
      "Epoch 51/100\n",
      "27/27 - 2s - 64ms/step - accuracy: 0.9282 - loss: 0.1884 - val_accuracy: 0.9043 - val_loss: 0.3742 - learning_rate: 5.0000e-04\n",
      "Epoch 52/100\n",
      "27/27 - 2s - 67ms/step - accuracy: 0.9517 - loss: 0.1467 - val_accuracy: 0.8723 - val_loss: 0.4273 - learning_rate: 5.0000e-04\n",
      "Epoch 53/100\n",
      "27/27 - 2s - 67ms/step - accuracy: 0.9470 - loss: 0.1371 - val_accuracy: 0.8830 - val_loss: 0.3628 - learning_rate: 5.0000e-04\n",
      "Epoch 54/100\n",
      "27/27 - 2s - 64ms/step - accuracy: 0.9411 - loss: 0.1473 - val_accuracy: 0.8830 - val_loss: 0.3502 - learning_rate: 5.0000e-04\n",
      "Epoch 55/100\n",
      "27/27 - 2s - 64ms/step - accuracy: 0.9352 - loss: 0.1541 - val_accuracy: 0.8936 - val_loss: 0.3758 - learning_rate: 5.0000e-04\n",
      "Epoch 56/100\n",
      "27/27 - 2s - 64ms/step - accuracy: 0.9564 - loss: 0.1303 - val_accuracy: 0.8617 - val_loss: 0.5050 - learning_rate: 5.0000e-04\n",
      "Epoch 57/100\n",
      "27/27 - 2s - 64ms/step - accuracy: 0.9446 - loss: 0.1234 - val_accuracy: 0.8936 - val_loss: 0.3627 - learning_rate: 5.0000e-04\n",
      "Epoch 58/100\n",
      "27/27 - 2s - 64ms/step - accuracy: 0.9517 - loss: 0.1209 - val_accuracy: 0.8830 - val_loss: 0.3652 - learning_rate: 5.0000e-04\n",
      "Epoch 59/100\n",
      "27/27 - 2s - 65ms/step - accuracy: 0.9552 - loss: 0.1213 - val_accuracy: 0.8936 - val_loss: 0.2821 - learning_rate: 5.0000e-04\n",
      "Epoch 60/100\n",
      "27/27 - 2s - 64ms/step - accuracy: 0.9517 - loss: 0.1324 - val_accuracy: 0.8936 - val_loss: 0.4459 - learning_rate: 5.0000e-04\n",
      "Epoch 61/100\n",
      "27/27 - 2s - 67ms/step - accuracy: 0.9458 - loss: 0.1155 - val_accuracy: 0.9043 - val_loss: 0.5387 - learning_rate: 5.0000e-04\n",
      "Epoch 62/100\n",
      "27/27 - 2s - 65ms/step - accuracy: 0.9482 - loss: 0.1250 - val_accuracy: 0.8936 - val_loss: 0.3472 - learning_rate: 5.0000e-04\n",
      "Epoch 63/100\n",
      "27/27 - 2s - 64ms/step - accuracy: 0.9517 - loss: 0.1182 - val_accuracy: 0.8723 - val_loss: 0.6193 - learning_rate: 5.0000e-04\n",
      "Epoch 64/100\n",
      "27/27 - 2s - 64ms/step - accuracy: 0.9635 - loss: 0.1098 - val_accuracy: 0.8830 - val_loss: 0.3957 - learning_rate: 5.0000e-04\n",
      "Epoch 65/100\n",
      "27/27 - 2s - 64ms/step - accuracy: 0.9647 - loss: 0.1153 - val_accuracy: 0.9043 - val_loss: 0.2974 - learning_rate: 5.0000e-04\n",
      "Epoch 66/100\n",
      "27/27 - 2s - 64ms/step - accuracy: 0.9623 - loss: 0.1020 - val_accuracy: 0.8830 - val_loss: 0.5188 - learning_rate: 5.0000e-04\n",
      "Epoch 67/100\n",
      "27/27 - 2s - 64ms/step - accuracy: 0.9541 - loss: 0.1223 - val_accuracy: 0.8936 - val_loss: 0.2647 - learning_rate: 5.0000e-04\n",
      "Epoch 68/100\n",
      "27/27 - 2s - 64ms/step - accuracy: 0.9399 - loss: 0.1306 - val_accuracy: 0.8723 - val_loss: 0.5406 - learning_rate: 5.0000e-04\n",
      "Epoch 69/100\n",
      "27/27 - 2s - 64ms/step - accuracy: 0.9588 - loss: 0.0984 - val_accuracy: 0.8723 - val_loss: 0.4730 - learning_rate: 5.0000e-04\n",
      "Epoch 70/100\n",
      "27/27 - 2s - 65ms/step - accuracy: 0.9552 - loss: 0.1179 - val_accuracy: 0.8830 - val_loss: 0.4621 - learning_rate: 5.0000e-04\n",
      "Epoch 71/100\n",
      "27/27 - 2s - 67ms/step - accuracy: 0.9505 - loss: 0.1281 - val_accuracy: 0.8830 - val_loss: 0.3930 - learning_rate: 5.0000e-04\n",
      "Epoch 72/100\n",
      "27/27 - 2s - 64ms/step - accuracy: 0.9576 - loss: 0.1265 - val_accuracy: 0.8830 - val_loss: 0.5429 - learning_rate: 5.0000e-04\n",
      "Epoch 73/100\n",
      "27/27 - 2s - 64ms/step - accuracy: 0.9564 - loss: 0.1125 - val_accuracy: 0.8617 - val_loss: 0.2919 - learning_rate: 5.0000e-04\n",
      "Epoch 74/100\n",
      "27/27 - 2s - 65ms/step - accuracy: 0.9552 - loss: 0.1182 - val_accuracy: 0.9043 - val_loss: 0.3733 - learning_rate: 5.0000e-04\n",
      "Epoch 75/100\n",
      "27/27 - 2s - 65ms/step - accuracy: 0.9635 - loss: 0.0934 - val_accuracy: 0.8830 - val_loss: 0.4160 - learning_rate: 5.0000e-04\n",
      "Epoch 76/100\n",
      "27/27 - 2s - 65ms/step - accuracy: 0.9729 - loss: 0.0702 - val_accuracy: 0.8830 - val_loss: 0.5012 - learning_rate: 5.0000e-04\n",
      "Epoch 77/100\n",
      "27/27 - 2s - 65ms/step - accuracy: 0.9682 - loss: 0.0788 - val_accuracy: 0.8936 - val_loss: 0.4122 - learning_rate: 5.0000e-04\n",
      "Epoch 78/100\n",
      "27/27 - 2s - 64ms/step - accuracy: 0.9647 - loss: 0.0900 - val_accuracy: 0.8936 - val_loss: 0.6211 - learning_rate: 5.0000e-04\n",
      "Epoch 79/100\n",
      "27/27 - 2s - 65ms/step - accuracy: 0.9670 - loss: 0.0899 - val_accuracy: 0.8511 - val_loss: 0.5933 - learning_rate: 5.0000e-04\n",
      "Epoch 80/100\n",
      "27/27 - 2s - 66ms/step - accuracy: 0.9576 - loss: 0.0938 - val_accuracy: 0.8830 - val_loss: 0.5205 - learning_rate: 5.0000e-04\n",
      "Epoch 81/100\n",
      "27/27 - 2s - 64ms/step - accuracy: 0.9635 - loss: 0.0901 - val_accuracy: 0.8936 - val_loss: 0.5109 - learning_rate: 5.0000e-04\n",
      "Epoch 82/100\n",
      "27/27 - 2s - 64ms/step - accuracy: 0.9741 - loss: 0.0735 - val_accuracy: 0.8830 - val_loss: 0.4409 - learning_rate: 5.0000e-04\n",
      "Epoch 83/100\n",
      "27/27 - 2s - 65ms/step - accuracy: 0.9706 - loss: 0.0901 - val_accuracy: 0.8936 - val_loss: 0.5611 - learning_rate: 5.0000e-04\n",
      "Epoch 84/100\n",
      "27/27 - 2s - 65ms/step - accuracy: 0.9611 - loss: 0.0986 - val_accuracy: 0.8936 - val_loss: 0.4061 - learning_rate: 5.0000e-04\n",
      "Epoch 85/100\n",
      "27/27 - 2s - 64ms/step - accuracy: 0.9458 - loss: 0.1372 - val_accuracy: 0.9043 - val_loss: 0.4400 - learning_rate: 5.0000e-04\n",
      "Epoch 86/100\n",
      "27/27 - 2s - 65ms/step - accuracy: 0.9694 - loss: 0.0798 - val_accuracy: 0.8936 - val_loss: 0.4617 - learning_rate: 5.0000e-04\n",
      "Epoch 87/100\n",
      "27/27 - 2s - 64ms/step - accuracy: 0.9753 - loss: 0.0655 - val_accuracy: 0.8936 - val_loss: 0.4748 - learning_rate: 5.0000e-04\n",
      "Epoch 88/100\n",
      "27/27 - 2s - 65ms/step - accuracy: 0.9729 - loss: 0.0780 - val_accuracy: 0.9043 - val_loss: 0.5774 - learning_rate: 5.0000e-04\n",
      "Epoch 89/100\n",
      "27/27 - 2s - 74ms/step - accuracy: 0.9635 - loss: 0.0996 - val_accuracy: 0.9043 - val_loss: 0.6583 - learning_rate: 5.0000e-04\n",
      "Epoch 90/100\n",
      "27/27 - 2s - 73ms/step - accuracy: 0.9694 - loss: 0.0807 - val_accuracy: 0.8936 - val_loss: 0.4762 - learning_rate: 5.0000e-04\n",
      "Epoch 91/100\n",
      "27/27 - 2s - 71ms/step - accuracy: 0.9658 - loss: 0.0694 - val_accuracy: 0.9043 - val_loss: 0.5567 - learning_rate: 5.0000e-04\n",
      "Epoch 92/100\n",
      "27/27 - 2s - 66ms/step - accuracy: 0.9706 - loss: 0.0833 - val_accuracy: 0.9043 - val_loss: 0.3714 - learning_rate: 5.0000e-04\n",
      "Epoch 93/100\n",
      "27/27 - 2s - 67ms/step - accuracy: 0.9764 - loss: 0.0719 - val_accuracy: 0.8936 - val_loss: 0.4424 - learning_rate: 5.0000e-04\n",
      "Epoch 94/100\n",
      "27/27 - 2s - 66ms/step - accuracy: 0.9741 - loss: 0.0697 - val_accuracy: 0.9149 - val_loss: 0.3458 - learning_rate: 5.0000e-04\n",
      "Epoch 95/100\n",
      "27/27 - 2s - 67ms/step - accuracy: 0.9776 - loss: 0.0679 - val_accuracy: 0.9255 - val_loss: 0.3408 - learning_rate: 5.0000e-04\n",
      "Epoch 96/100\n",
      "27/27 - 2s - 66ms/step - accuracy: 0.9800 - loss: 0.0606 - val_accuracy: 0.9149 - val_loss: 0.5904 - learning_rate: 5.0000e-04\n",
      "Epoch 97/100\n",
      "27/27 - 2s - 69ms/step - accuracy: 0.9800 - loss: 0.0595 - val_accuracy: 0.9043 - val_loss: 0.6656 - learning_rate: 5.0000e-04\n",
      "Epoch 98/100\n",
      "27/27 - 2s - 70ms/step - accuracy: 0.9800 - loss: 0.0535 - val_accuracy: 0.9043 - val_loss: 0.5594 - learning_rate: 5.0000e-04\n",
      "Epoch 99/100\n",
      "27/27 - 2s - 65ms/step - accuracy: 0.9812 - loss: 0.0497 - val_accuracy: 0.8936 - val_loss: 0.4971 - learning_rate: 5.0000e-04\n",
      "Epoch 100/100\n",
      "27/27 - 2s - 66ms/step - accuracy: 0.9788 - loss: 0.0526 - val_accuracy: 0.9149 - val_loss: 0.5009 - learning_rate: 5.0000e-04\n"
     ]
    }
   ],
   "source": [
    "training_history = model.fit(\n",
    "    training_dataset,\n",
    "    epochs = epochs,\n",
    "    validation_data = validation_dataset,\n",
    "    callbacks = [lr_callback],\n",
    "    verbose = 2\n",
    ")"
   ]
  },
  {
   "cell_type": "code",
   "execution_count": 18,
   "id": "eb32643e-ba36-4ab6-bf3b-43313b52bfcf",
   "metadata": {},
   "outputs": [],
   "source": [
    "#from tensorflow.keras.models import load_model\n",
    "#model.save('gender_recognition_project04_v10.h5')"
   ]
  },
  {
   "cell_type": "code",
   "execution_count": 19,
   "id": "662ce52e-7f7c-47c7-9d63-f8d21a4ef5e0",
   "metadata": {},
   "outputs": [
    {
     "data": {
      "text/plain": [
       "['loss', 'compile_metrics']"
      ]
     },
     "execution_count": 19,
     "metadata": {},
     "output_type": "execute_result"
    }
   ],
   "source": [
    "model.metrics_names"
   ]
  },
  {
   "cell_type": "code",
   "execution_count": 20,
   "id": "cc16344a-bbc7-4ed5-a01e-39b651f802c8",
   "metadata": {},
   "outputs": [
    {
     "data": {
      "text/html": [
       "<div>\n",
       "<style scoped>\n",
       "    .dataframe tbody tr th:only-of-type {\n",
       "        vertical-align: middle;\n",
       "    }\n",
       "\n",
       "    .dataframe tbody tr th {\n",
       "        vertical-align: top;\n",
       "    }\n",
       "\n",
       "    .dataframe thead th {\n",
       "        text-align: right;\n",
       "    }\n",
       "</style>\n",
       "<table border=\"1\" class=\"dataframe\">\n",
       "  <thead>\n",
       "    <tr style=\"text-align: right;\">\n",
       "      <th></th>\n",
       "      <th>accuracy</th>\n",
       "      <th>loss</th>\n",
       "      <th>val_accuracy</th>\n",
       "      <th>val_loss</th>\n",
       "      <th>learning_rate</th>\n",
       "    </tr>\n",
       "  </thead>\n",
       "  <tbody>\n",
       "    <tr>\n",
       "      <th>0</th>\n",
       "      <td>0.597173</td>\n",
       "      <td>0.661883</td>\n",
       "      <td>0.627660</td>\n",
       "      <td>0.652750</td>\n",
       "      <td>0.0005</td>\n",
       "    </tr>\n",
       "    <tr>\n",
       "      <th>1</th>\n",
       "      <td>0.698469</td>\n",
       "      <td>0.567529</td>\n",
       "      <td>0.765957</td>\n",
       "      <td>0.540118</td>\n",
       "      <td>0.0005</td>\n",
       "    </tr>\n",
       "    <tr>\n",
       "      <th>2</th>\n",
       "      <td>0.755006</td>\n",
       "      <td>0.508771</td>\n",
       "      <td>0.808511</td>\n",
       "      <td>0.511438</td>\n",
       "      <td>0.0005</td>\n",
       "    </tr>\n",
       "    <tr>\n",
       "      <th>3</th>\n",
       "      <td>0.772674</td>\n",
       "      <td>0.485490</td>\n",
       "      <td>0.776596</td>\n",
       "      <td>0.479405</td>\n",
       "      <td>0.0005</td>\n",
       "    </tr>\n",
       "    <tr>\n",
       "      <th>4</th>\n",
       "      <td>0.782097</td>\n",
       "      <td>0.477533</td>\n",
       "      <td>0.829787</td>\n",
       "      <td>0.461324</td>\n",
       "      <td>0.0005</td>\n",
       "    </tr>\n",
       "    <tr>\n",
       "      <th>5</th>\n",
       "      <td>0.798587</td>\n",
       "      <td>0.429238</td>\n",
       "      <td>0.872340</td>\n",
       "      <td>0.465032</td>\n",
       "      <td>0.0005</td>\n",
       "    </tr>\n",
       "    <tr>\n",
       "      <th>6</th>\n",
       "      <td>0.790342</td>\n",
       "      <td>0.437729</td>\n",
       "      <td>0.851064</td>\n",
       "      <td>0.463285</td>\n",
       "      <td>0.0005</td>\n",
       "    </tr>\n",
       "    <tr>\n",
       "      <th>7</th>\n",
       "      <td>0.810365</td>\n",
       "      <td>0.423573</td>\n",
       "      <td>0.851064</td>\n",
       "      <td>0.457069</td>\n",
       "      <td>0.0005</td>\n",
       "    </tr>\n",
       "    <tr>\n",
       "      <th>8</th>\n",
       "      <td>0.820966</td>\n",
       "      <td>0.407160</td>\n",
       "      <td>0.829787</td>\n",
       "      <td>0.439092</td>\n",
       "      <td>0.0005</td>\n",
       "    </tr>\n",
       "    <tr>\n",
       "      <th>9</th>\n",
       "      <td>0.826855</td>\n",
       "      <td>0.391491</td>\n",
       "      <td>0.861702</td>\n",
       "      <td>0.457968</td>\n",
       "      <td>0.0005</td>\n",
       "    </tr>\n",
       "    <tr>\n",
       "      <th>10</th>\n",
       "      <td>0.819788</td>\n",
       "      <td>0.389198</td>\n",
       "      <td>0.861702</td>\n",
       "      <td>0.359200</td>\n",
       "      <td>0.0005</td>\n",
       "    </tr>\n",
       "    <tr>\n",
       "      <th>11</th>\n",
       "      <td>0.836278</td>\n",
       "      <td>0.370200</td>\n",
       "      <td>0.851064</td>\n",
       "      <td>0.322332</td>\n",
       "      <td>0.0005</td>\n",
       "    </tr>\n",
       "    <tr>\n",
       "      <th>12</th>\n",
       "      <td>0.850412</td>\n",
       "      <td>0.346248</td>\n",
       "      <td>0.872340</td>\n",
       "      <td>0.407532</td>\n",
       "      <td>0.0005</td>\n",
       "    </tr>\n",
       "    <tr>\n",
       "      <th>13</th>\n",
       "      <td>0.868080</td>\n",
       "      <td>0.327439</td>\n",
       "      <td>0.872340</td>\n",
       "      <td>0.383628</td>\n",
       "      <td>0.0005</td>\n",
       "    </tr>\n",
       "    <tr>\n",
       "      <th>14</th>\n",
       "      <td>0.862191</td>\n",
       "      <td>0.329153</td>\n",
       "      <td>0.829787</td>\n",
       "      <td>0.513823</td>\n",
       "      <td>0.0005</td>\n",
       "    </tr>\n",
       "  </tbody>\n",
       "</table>\n",
       "</div>"
      ],
      "text/plain": [
       "    accuracy      loss  val_accuracy  val_loss  learning_rate\n",
       "0   0.597173  0.661883      0.627660  0.652750         0.0005\n",
       "1   0.698469  0.567529      0.765957  0.540118         0.0005\n",
       "2   0.755006  0.508771      0.808511  0.511438         0.0005\n",
       "3   0.772674  0.485490      0.776596  0.479405         0.0005\n",
       "4   0.782097  0.477533      0.829787  0.461324         0.0005\n",
       "5   0.798587  0.429238      0.872340  0.465032         0.0005\n",
       "6   0.790342  0.437729      0.851064  0.463285         0.0005\n",
       "7   0.810365  0.423573      0.851064  0.457069         0.0005\n",
       "8   0.820966  0.407160      0.829787  0.439092         0.0005\n",
       "9   0.826855  0.391491      0.861702  0.457968         0.0005\n",
       "10  0.819788  0.389198      0.861702  0.359200         0.0005\n",
       "11  0.836278  0.370200      0.851064  0.322332         0.0005\n",
       "12  0.850412  0.346248      0.872340  0.407532         0.0005\n",
       "13  0.868080  0.327439      0.872340  0.383628         0.0005\n",
       "14  0.862191  0.329153      0.829787  0.513823         0.0005"
      ]
     },
     "execution_count": 20,
     "metadata": {},
     "output_type": "execute_result"
    }
   ],
   "source": [
    "result_history = pd.DataFrame(model.history.history)\n",
    "result_history.head(15)"
   ]
  },
  {
   "cell_type": "code",
   "execution_count": 21,
   "id": "89d8df04-5bbc-4d47-a131-1e4a3a1c7ea8",
   "metadata": {},
   "outputs": [
    {
     "data": {
      "text/plain": [
       "<Axes: >"
      ]
     },
     "execution_count": 21,
     "metadata": {},
     "output_type": "execute_result"
    },
    {
     "data": {
      "image/png": "[encoded data removed]",
      "text/plain": [
       "<Figure size 500x300 with 1 Axes>"
      ]
     },
     "metadata": {},
     "output_type": "display_data"
    }
   ],
   "source": [
    "result_history[['loss', 'val_loss']].plot(figsize=(5, 3))"
   ]
  },
  {
   "cell_type": "code",
   "execution_count": 22,
   "id": "a2b61e9e-deaf-4f91-8b90-d23082a18b5f",
   "metadata": {},
   "outputs": [
    {
     "data": {
      "text/plain": [
       "<Axes: >"
      ]
     },
     "execution_count": 22,
     "metadata": {},
     "output_type": "execute_result"
    },
    {
     "data": {
      "image/png": "[encoded data removed]",
      "text/plain": [
       "<Figure size 500x300 with 1 Axes>"
      ]
     },
     "metadata": {},
     "output_type": "display_data"
    }
   ],
   "source": [
    "result_history[['accuracy', 'val_accuracy']].plot(figsize=(5, 3))"
   ]
  },
  {
   "cell_type": "code",
   "execution_count": 23,
   "id": "4b259fcb-df40-4d21-a911-032373c25358",
   "metadata": {},
   "outputs": [
    {
     "name": "stdout",
     "output_type": "stream",
     "text": [
      "['loss', 'compile_metrics']\n",
      "\u001b[1m3/3\u001b[0m \u001b[32m━━━━━━━━━━━━━━━━━━━━\u001b[0m\u001b[37m\u001b[0m \u001b[1m0s\u001b[0m 22ms/step - accuracy: 0.9106 - loss: 0.5374\n",
      "[0.5008614659309387, 0.914893627166748]\n"
     ]
    }
   ],
   "source": [
    "print(model.metrics_names)\n",
    "print(model.evaluate(validation_dataset))"
   ]
  },
  {
   "cell_type": "code",
   "execution_count": 24,
   "id": "86ce3add-a314-4d29-91ea-76cb3ba57cd4",
   "metadata": {},
   "outputs": [
    {
     "name": "stdout",
     "output_type": "stream",
     "text": [
      "\u001b[1m3/3\u001b[0m \u001b[32m━━━━━━━━━━━━━━━━━━━━\u001b[0m\u001b[37m\u001b[0m \u001b[1m0s\u001b[0m 78ms/step\n",
      "Classification Report:\n",
      "               precision    recall  f1-score   support\n",
      "\n",
      "      Female       0.87      0.95      0.91        41\n",
      "        Male       0.96      0.89      0.92        53\n",
      "\n",
      "    accuracy                           0.91        94\n",
      "   macro avg       0.91      0.92      0.91        94\n",
      "weighted avg       0.92      0.91      0.92        94\n",
      "\n"
     ]
    }
   ],
   "source": [
    "from sklearn.metrics import classification_report, confusion_matrix\n",
    "\n",
    "y_true = np.concatenate([y.numpy() for _, y in validation_dataset])\n",
    "y_pred_prob = model.predict(validation_dataset)\n",
    "# Convert probabilities to class labels (0:Female or 1:Male)\n",
    "y_pred = (y_pred_prob > 0.5).astype(int).flatten()\n",
    "\n",
    "print(\"Classification Report:\\n\", classification_report(y_true, y_pred, target_names=['Female', 'Male']))"
   ]
  },
  {
   "cell_type": "code",
   "execution_count": 25,
   "id": "063526cc-e2a0-4c8c-b01c-47ae3654a25c",
   "metadata": {},
   "outputs": [
    {
     "name": "stderr",
     "output_type": "stream",
     "text": [
      "WARNING:absl:Compiled the loaded model, but the compiled metrics have yet to be built. `model.compile_metrics` will be empty until you train or evaluate the model.\n"
     ]
    },
    {
     "name": "stdout",
     "output_type": "stream",
     "text": [
      "\u001b[1m1/1\u001b[0m \u001b[32m━━━━━━━━━━━━━━━━━━━━\u001b[0m\u001b[37m\u001b[0m \u001b[1m0s\u001b[0m 169ms/step\n",
      "\u001b[1m1/1\u001b[0m \u001b[32m━━━━━━━━━━━━━━━━━━━━\u001b[0m\u001b[37m\u001b[0m \u001b[1m0s\u001b[0m 67ms/step\n",
      "Prediction result: Male (confidence= 94.19 %)\n"
     ]
    },
    {
     "ename": "NameError",
     "evalue": "name 'visualization_model' is not defined",
     "output_type": "error",
     "traceback": [
      "\u001b[1;31m---------------------------------------------------------------------------\u001b[0m",
      "\u001b[1;31mNameError\u001b[0m                                 Traceback (most recent call last)",
      "Cell \u001b[1;32mIn[25], line 26\u001b[0m\n\u001b[0;32m     23\u001b[0m \u001b[38;5;28mprint\u001b[39m(\u001b[38;5;124mf\u001b[39m\u001b[38;5;124m\"\u001b[39m\u001b[38;5;124mPrediction result: \u001b[39m\u001b[38;5;132;01m{\u001b[39;00mresult\u001b[38;5;132;01m}\u001b[39;00m\u001b[38;5;124m (confidence= \u001b[39m\u001b[38;5;132;01m{\u001b[39;00mconfidence\u001b[38;5;132;01m:\u001b[39;00m\u001b[38;5;124m.2f\u001b[39m\u001b[38;5;132;01m}\u001b[39;00m\u001b[38;5;124m %)\u001b[39m\u001b[38;5;124m\"\u001b[39m)\n\u001b[0;32m     25\u001b[0m \u001b[38;5;66;03m# Visualize CNN Layers\u001b[39;00m\n\u001b[1;32m---> 26\u001b[0m successive_feature_maps \u001b[38;5;241m=\u001b[39m visualization_model\u001b[38;5;241m.\u001b[39mpredict(final_img)\n\u001b[0;32m     27\u001b[0m layer_names \u001b[38;5;241m=\u001b[39m [layer\u001b[38;5;241m.\u001b[39mname \u001b[38;5;28;01mfor\u001b[39;00m layer \u001b[38;5;129;01min\u001b[39;00m model\u001b[38;5;241m.\u001b[39mlayers]\n\u001b[0;32m     29\u001b[0m \u001b[38;5;28;01mfor\u001b[39;00m layer_name, feature_map \u001b[38;5;129;01min\u001b[39;00m \u001b[38;5;28mzip\u001b[39m(layer_names, successive_feature_maps):\n",
      "\u001b[1;31mNameError\u001b[0m: name 'visualization_model' is not defined"
     ]
    }
   ],
   "source": [
    "import tensorflow as tf\n",
    "import numpy as np\n",
    "import matplotlib.pyplot as plt\n",
    "from tensorflow.keras.models import Model\n",
    "from tensorflow.keras.utils import load_img, img_to_array\n",
    "\n",
    "img_size = img_size\n",
    "model = tf.keras.models.load_model(\"gender_recognition_project04_v10.h5\")\n",
    "\n",
    "# Load your personal image if you are interested to predict:\n",
    "your_image_path = \"D:\\\\Hossein's desktop files in Microsoft Studio Laptop\\\\Personal Photos\\\\Hossein_10.jpg\"\n",
    "\n",
    "img = load_img(your_image_path, target_size=(img_size, img_size))\n",
    "final_img = img_to_array(img)\n",
    "# Adding a batch dimension:\n",
    "final_img = np.expand_dims(final_img, axis=0)\n",
    "prediction = model.predict(final_img)\n",
    "result = \"Female\" if prediction > 0.5 else \"Male\"\n",
    "if result==\"Female\":\n",
    "    confidence = (model.predict(final_img)[0][0])*100\n",
    "else:\n",
    "    confidence = (1-model.predict(final_img)[0][0])*100\n",
    "print(f\"Prediction result: {result} (confidence= {confidence:.2f} %)\")\n",
    "\n",
    "# Visualize CNN Layers\n",
    "successive_feature_maps = visualization_model.predict(final_img)\n",
    "layer_names = [layer.name for layer in model.layers]\n",
    "\n",
    "for layer_name, feature_map in zip(layer_names, successive_feature_maps):\n",
    "    if len(feature_map.shape) == 4:  # Only visualize conv/maxpool layers\n",
    "        n_features = feature_map.shape[-1]  # Number of filters\n",
    "        size = feature_map.shape[1]  # Feature map size\n",
    "        display_grid = np.zeros((size, size * n_features))\n",
    "\n",
    "        for i in range(n_features):\n",
    "            x = feature_map[0, :, :, i]\n",
    "            x -= x.mean()\n",
    "            x /= (x.std() + 1e-8)  # Normalize\n",
    "            x *= 64\n",
    "            x += 128\n",
    "            x = np.clip(x, 0, 255).astype('uint8')  # Convert to image format\n",
    "            display_grid[:, i * size: (i + 1) * size] = x\n",
    "\n",
    "        scale = 20. / n_features\n",
    "        plt.figure(figsize=(scale * n_features, scale))\n",
    "        plt.title(layer_name)\n",
    "        plt.grid(False)\n",
    "        plt.imshow(display_grid, aspect='auto', cmap='cividis')\n",
    "        plt.show()"
   ]
  },
  {
   "cell_type": "code",
   "execution_count": null,
   "id": "4199738b-2405-4223-9eae-21b5840224a9",
   "metadata": {},
   "outputs": [],
   "source": []
  },
  {
   "cell_type": "code",
   "execution_count": null,
   "id": "72a87fb2-d828-420e-883f-709ca46ba4e6",
   "metadata": {},
   "outputs": [],
   "source": []
  },
  {
   "cell_type": "code",
   "execution_count": null,
   "id": "5fb26553-bde6-4c23-ba84-69763691803d",
   "metadata": {},
   "outputs": [],
   "source": []
  }
 ],
 "metadata": {
  "kernelspec": {
   "display_name": "Python 3 (ipykernel)",
   "language": "python",
   "name": "python3"
  },
  "language_info": {
   "codemirror_mode": {
    "name": "ipython",
    "version": 3
   },
   "file_extension": ".py",
   "mimetype": "text/x-python",
   "name": "python",
   "nbconvert_exporter": "python",
   "pygments_lexer": "ipython3",
   "version": "3.12.3"
  }
 },
 "nbformat": 4,
 "nbformat_minor": 5
}
