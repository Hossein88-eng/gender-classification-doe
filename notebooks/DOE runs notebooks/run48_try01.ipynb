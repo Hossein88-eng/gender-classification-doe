{
 "cells": [
  {
   "cell_type": "code",
   "execution_count": 1,
   "id": "40aaebb4-037c-4ca4-a4c7-b63f03b071b7",
   "metadata": {},
   "outputs": [],
   "source": [
    "import pandas as pd\n",
    "import numpy as np\n",
    "import matplotlib.pyplot as plt\n",
    "%matplotlib inline\n",
    "import matplotlib.image as mpimg\n",
    "import tensorflow as tf"
   ]
  },
  {
   "cell_type": "code",
   "execution_count": 2,
   "id": "cfe0da97-852e-4243-a988-848082ac2201",
   "metadata": {},
   "outputs": [],
   "source": [
    "# default initial values of DOE factors:\n",
    "# learning_rate = 0.001\n",
    "# dropout_value = 0.3\n",
    "# #n-conv_layers = 3\n",
    "# n_units_last_layer = 2048\n",
    "# n_filters_l1 = 32\n",
    "# n_filters_l2 = 16"
   ]
  },
  {
   "cell_type": "code",
   "execution_count": 3,
   "id": "e168a015-372f-4ba6-be82-501458ed9547",
   "metadata": {},
   "outputs": [],
   "source": [
    "# DOE factors:\n",
    "learning_rate = 0.0005\n",
    "dropout_value = 0.2\n",
    "# n-conv_layers = 4\n",
    "n_units_last_layer = 1024\n",
    "n_filters_l1 = 8\n",
    "n_filters_l2 = 64"
   ]
  },
  {
   "cell_type": "code",
   "execution_count": 4,
   "id": "3f023191-b81d-488e-bcf7-47cb6de0ed76",
   "metadata": {},
   "outputs": [],
   "source": [
    "# other factors:\n",
    "img_size = 130\n",
    "batch_size = 32\n",
    "validation_split = 0.1  # 10% for validation\n",
    "test_split = 0.00  # 0% for testing\n",
    "shuffle_buffer_size = 1000\n",
    "seed_num = 101\n",
    "desired_accuracy = 0.99  # it should be active if EarlyStoppingCallback is activated\n",
    "loss = 'binary_crossentropy'\n",
    "#optimizer = tf.keras.optimizers.RMSprop(learning_rate=learning_rate)\n",
    "optimizer = tf.keras.optimizers.Adam(learning_rate=learning_rate)\n",
    "metrics = ['accuracy']\n",
    "epochs = 15\n",
    "f_mode = 'nearest'  # fill_mode in image augmentation"
   ]
  },
  {
   "cell_type": "markdown",
   "id": "0ef4c91d-2f8f-4aad-8f3d-b5c4083437ab",
   "metadata": {},
   "source": [
    "    My dataset_root/\n",
    "    ├── woman/\n",
    "    │   ├── woman_1.jpg\n",
    "    │   ├── woman_2.jpg\n",
    "    │   ├── ...\n",
    "    ├── man/\n",
    "    │   ├── man_1.jpg\n",
    "    │   ├── man_2.jpg\n",
    "    │   ├── ..."
   ]
  },
  {
   "cell_type": "code",
   "execution_count": 6,
   "id": "a63419a3-8c4c-420c-a1ee-81d06c316f18",
   "metadata": {},
   "outputs": [
    {
     "name": "stdout",
     "output_type": "stream",
     "text": [
      "There are 471 images of woman.\n",
      "There are 472 images of man.\n"
     ]
    }
   ],
   "source": [
    "import os\n",
    "\n",
    "DATA_DIR = \"D:\\\\CS online courses\\\\Free DataSets\\\\Free Images\\\\Easier portrait images_GPU_03\"\n",
    "\n",
    "# Subdirectories for each class\n",
    "data_dir_woman = os.path.join(DATA_DIR, 'woman')\n",
    "data_dir_man = os.path.join(DATA_DIR, 'man')\n",
    "\n",
    "# os.listdir returns a list containing all files under the given dir\n",
    "print(f\"There are {len(os.listdir(data_dir_woman))} images of woman.\")\n",
    "print(f\"There are {len(os.listdir(data_dir_man))} images of man.\")"
   ]
  },
  {
   "cell_type": "code",
   "execution_count": 7,
   "id": "ef0d2806-2487-4ac5-97c4-ff2210416dcc",
   "metadata": {},
   "outputs": [
    {
     "name": "stdout",
     "output_type": "stream",
     "text": [
      "Found 943 files belonging to 2 classes.\n",
      "Using 849 files for training.\n",
      "Found 943 files belonging to 2 classes.\n",
      "Using 94 files for validation.\n",
      "Train batches: 27\n",
      "Validation batches: 3\n",
      "Test batches: 0\n"
     ]
    }
   ],
   "source": [
    "image_size = (img_size, img_size)  # Resize images to this size\n",
    "\n",
    "# Load train dataset (excluding validation & test set):\n",
    "train_dataset = tf.keras.utils.image_dataset_from_directory(\n",
    "    directory = DATA_DIR,\n",
    "    image_size = image_size,\n",
    "    batch_size = batch_size,\n",
    "    label_mode='binary',\n",
    "    validation_split = validation_split + test_split,  # Total split for val + test\n",
    "    subset = \"training\",\n",
    "    seed = seed_num\n",
    ")\n",
    "\n",
    "# Load validation dataset\n",
    "val_dataset = tf.keras.utils.image_dataset_from_directory(\n",
    "    directory = DATA_DIR,\n",
    "    image_size = image_size,\n",
    "    batch_size = batch_size,\n",
    "    label_mode='binary',\n",
    "    validation_split = validation_split + test_split,\n",
    "    subset = \"validation\",\n",
    "    seed = seed_num\n",
    ")\n",
    "\n",
    "# Further manually split validation dataset to extract test dataset\n",
    "val_batches = tf.data.experimental.cardinality(val_dataset)\n",
    "# Compute test dataset size (number of batches)\n",
    "test_size = round(val_batches.numpy() * (test_split / (validation_split + test_split)))\n",
    "# Split validation dataset into validation and test subsets\n",
    "test_dataset = val_dataset.take(test_size)\n",
    "val_dataset = val_dataset.skip(test_size)\n",
    "\n",
    "\n",
    "print(f\"Train batches: {tf.data.experimental.cardinality(train_dataset).numpy()}\")\n",
    "print(f\"Validation batches: {tf.data.experimental.cardinality(val_dataset).numpy()}\")\n",
    "print(f\"Test batches: {tf.data.experimental.cardinality(test_dataset).numpy()}\")\n",
    "\n",
    "# Optimize for performance\n",
    "AUTOTUNE = tf.data.AUTOTUNE\n",
    "training_dataset = train_dataset.cache().shuffle(shuffle_buffer_size).prefetch(buffer_size = AUTOTUNE)\n",
    "validation_dataset = val_dataset.cache().prefetch(buffer_size = AUTOTUNE)\n",
    "test_dataset = test_dataset.cache().prefetch(buffer_size = AUTOTUNE)"
   ]
  },
  {
   "cell_type": "code",
   "execution_count": 8,
   "id": "96d9e533-9ca2-45af-af85-a7e030fa184b",
   "metadata": {},
   "outputs": [
    {
     "name": "stdout",
     "output_type": "stream",
     "text": [
      "Maximum pixel value of images: 255.0\n",
      "\n",
      "Shape of batch of images: (32, 130, 130, 3)\n",
      "Shape of batch of labels: (32, 1)\n"
     ]
    }
   ],
   "source": [
    "# Get the first batch of images and labels\n",
    "for images, labels in training_dataset.take(1):\n",
    "\texample_batch_images = images\n",
    "\texample_batch_labels = labels\n",
    "\n",
    "max_pixel = np.max(example_batch_images)\n",
    "print(f\"Maximum pixel value of images: {max_pixel}\\n\")\n",
    "print(f\"Shape of batch of images: {example_batch_images.shape}\")\n",
    "print(f\"Shape of batch of labels: {example_batch_labels.shape}\")"
   ]
  },
  {
   "cell_type": "code",
   "execution_count": 9,
   "id": "85453247-adf0-4e7d-8924-f86415759f1f",
   "metadata": {},
   "outputs": [
    {
     "data": {
      "text/plain": [
       "'\\nclass EarlyStoppingCallback(tf.keras.callbacks.Callback):\\n    def on_epoch_end(self, epoch, logs=None):\\n        train_accuracy = logs.get(\\'accuracy\\')\\n        val_accuracy = logs.get(\\'val_accuracy\\')\\n        if train_accuracy >= desired_accuracy and val_accuracy >= desired_accuracy:\\n            self.model.stop_training = True\\n            print(f\"\\nReached {desired_accuracy}% accuracy so cancelling training!\")\\n'"
      ]
     },
     "execution_count": 9,
     "metadata": {},
     "output_type": "execute_result"
    }
   ],
   "source": [
    "'''\n",
    "class EarlyStoppingCallback(tf.keras.callbacks.Callback):\n",
    "    def on_epoch_end(self, epoch, logs=None):\n",
    "        train_accuracy = logs.get('accuracy')\n",
    "        val_accuracy = logs.get('val_accuracy')\n",
    "        if train_accuracy >= desired_accuracy and val_accuracy >= desired_accuracy:\n",
    "            self.model.stop_training = True\n",
    "            print(f\"\\nReached {desired_accuracy}% accuracy so cancelling training!\")\n",
    "'''"
   ]
  },
  {
   "cell_type": "code",
   "execution_count": 10,
   "id": "7906f3e8-d63c-4210-b096-5ee54e2c1895",
   "metadata": {},
   "outputs": [
    {
     "data": {
      "text/plain": [
       "\"\\nfrom tensorflow.keras.callbacks import EarlyStopping\\nearly_stop = EarlyStopping(monitor='val_loss', patience=3)\\n\""
      ]
     },
     "execution_count": 10,
     "metadata": {},
     "output_type": "execute_result"
    }
   ],
   "source": [
    "'''\n",
    "from tensorflow.keras.callbacks import EarlyStopping\n",
    "early_stop = EarlyStopping(monitor='val_loss', patience=3)\n",
    "'''"
   ]
  },
  {
   "cell_type": "code",
   "execution_count": 11,
   "id": "8b7fe37b-3831-478d-9fd5-d018ce786472",
   "metadata": {},
   "outputs": [],
   "source": [
    "from tensorflow.keras.callbacks import LearningRateScheduler\n",
    "\n",
    "# Reduce LR every 10 epochs (Learning rate decay factor)\n",
    "def scheduler(epoch, lr):\n",
    "    if epoch % 10 == 0 and epoch > 0:\n",
    "        return lr * 1.0\n",
    "    return lr\n",
    "\n",
    "lr_callback = LearningRateScheduler(scheduler)"
   ]
  },
  {
   "cell_type": "code",
   "execution_count": 12,
   "id": "06db003d-e408-472a-986b-54e0728db183",
   "metadata": {},
   "outputs": [],
   "source": [
    "# augmentation_model\n",
    "def augment_model():\n",
    "    \"\"\"Creates a model (layers stacked on top of each other) for augmenting images of woman and man.\n",
    "\n",
    "    Returns:\n",
    "        tf.keras.Model: The model made up of the layers that will be used to augment the images of woman and man.\n",
    "    \"\"\"\n",
    "\n",
    "    augmentation_model = tf.keras.Sequential([\n",
    "        # Specify the input shape.\n",
    "        tf.keras.Input(shape = (img_size, img_size, 3)),\n",
    "        \n",
    "        tf.keras.layers.RandomFlip(\"horizontal\"),\n",
    "        tf.keras.layers.RandomRotation(0.1, fill_mode = f_mode),\n",
    "        #tf.keras.layers.RandomTranslation(0.1, 0.1, fill_mode = f_mode),\n",
    "        #tf.keras.layers.RandomZoom(0.1, fill_mode=f_mode)\n",
    "        ])\n",
    "\n",
    "    return augmentation_model"
   ]
  },
  {
   "cell_type": "code",
   "execution_count": 13,
   "id": "57d8ea70-8df3-4dd5-93e0-013cd42546e6",
   "metadata": {},
   "outputs": [],
   "source": [
    "def create_and_compile_model():\n",
    "    \"\"\"Creates, compiles and trains the model to predict woman and man images.\n",
    "\n",
    "    Returns:\n",
    "        tf.keras.Model: The model that will be trained to predict woman and man images.\n",
    "    \"\"\"\n",
    "\n",
    "    augmentation_layers = augment_model()\n",
    "    \n",
    "    model = tf.keras.Sequential([\n",
    "        # Note: the input shape is the desired size of the image: 150x150 with 3 bytes for color\n",
    "        tf.keras.layers.InputLayer(shape = (img_size, img_size, 3)),\n",
    "        augmentation_layers,\n",
    "        tf.keras.layers.Rescaling(1./255),\n",
    "        #####    CONV_LAYER_1:     #####\n",
    "        tf.keras.layers.Conv2D(n_filters_l1, (4, 4), activation = 'linear'),\n",
    "        tf.keras.layers.MaxPooling2D(2, 2),\n",
    "        #####    CONV_LAYER_2:     #####\n",
    "        tf.keras.layers.Conv2D(n_filters_l2, (3, 3), activation = 'relu'),\n",
    "        tf.keras.layers.MaxPooling2D(2, 2),\n",
    "        #####    CONV_LAYER_3:     #####\n",
    "        tf.keras.layers.Conv2D(64, (3, 3), activation = 'relu'),\n",
    "        tf.keras.layers.MaxPooling2D(2, 2),\n",
    "        #####    CONV_LAYER_4:     #####\n",
    "        tf.keras.layers.Conv2D(64, (3, 3), activation = 'relu'),\n",
    "        tf.keras.layers.MaxPooling2D(2, 2),\n",
    "        tf.keras.layers.Flatten(),\n",
    "        tf.keras.layers.Dropout(dropout_value),\n",
    "        #####    BEFORE_LAST_LAYER:     #####\n",
    "        tf.keras.layers.Dense(n_units_last_layer, activation = 'relu'),\n",
    "        # It will contain a value from 0-1 where 0 for the class 'female' and 1 for the 'male'\n",
    "        tf.keras.layers.Dense(1, activation = 'sigmoid')]) \n",
    "\n",
    "    model.compile(\n",
    "        loss = loss,\n",
    "        optimizer = optimizer,\n",
    "        metrics = metrics\n",
    "    )\n",
    "\n",
    "    return model"
   ]
  },
  {
   "cell_type": "code",
   "execution_count": 14,
   "id": "0ecc4042-af60-4d6a-a989-f81761b5bc1f",
   "metadata": {},
   "outputs": [
    {
     "data": {
      "text/html": [
       "<pre style=\"white-space:pre;overflow-x:auto;line-height:normal;font-family:Menlo,'DejaVu Sans Mono',consolas,'Courier New',monospace\"><span style=\"font-weight: bold\">Model: \"sequential_1\"</span>\n",
       "</pre>\n"
      ],
      "text/plain": [
       "\u001b[1mModel: \"sequential_1\"\u001b[0m\n"
      ]
     },
     "metadata": {},
     "output_type": "display_data"
    },
    {
     "data": {
      "text/html": [
       "<pre style=\"white-space:pre;overflow-x:auto;line-height:normal;font-family:Menlo,'DejaVu Sans Mono',consolas,'Courier New',monospace\">┏━━━━━━━━━━━━━━━━━━━━━━━━━━━━━━━━━┳━━━━━━━━━━━━━━━━━━━━━━━━┳━━━━━━━━━━━━━━━┓\n",
       "┃<span style=\"font-weight: bold\"> Layer (type)                    </span>┃<span style=\"font-weight: bold\"> Output Shape           </span>┃<span style=\"font-weight: bold\">       Param # </span>┃\n",
       "┡━━━━━━━━━━━━━━━━━━━━━━━━━━━━━━━━━╇━━━━━━━━━━━━━━━━━━━━━━━━╇━━━━━━━━━━━━━━━┩\n",
       "│ sequential (<span style=\"color: #0087ff; text-decoration-color: #0087ff\">Sequential</span>)         │ (<span style=\"color: #00d7ff; text-decoration-color: #00d7ff\">None</span>, <span style=\"color: #00af00; text-decoration-color: #00af00\">130</span>, <span style=\"color: #00af00; text-decoration-color: #00af00\">130</span>, <span style=\"color: #00af00; text-decoration-color: #00af00\">3</span>)    │             <span style=\"color: #00af00; text-decoration-color: #00af00\">0</span> │\n",
       "├─────────────────────────────────┼────────────────────────┼───────────────┤\n",
       "│ rescaling (<span style=\"color: #0087ff; text-decoration-color: #0087ff\">Rescaling</span>)           │ (<span style=\"color: #00d7ff; text-decoration-color: #00d7ff\">None</span>, <span style=\"color: #00af00; text-decoration-color: #00af00\">130</span>, <span style=\"color: #00af00; text-decoration-color: #00af00\">130</span>, <span style=\"color: #00af00; text-decoration-color: #00af00\">3</span>)    │             <span style=\"color: #00af00; text-decoration-color: #00af00\">0</span> │\n",
       "├─────────────────────────────────┼────────────────────────┼───────────────┤\n",
       "│ conv2d (<span style=\"color: #0087ff; text-decoration-color: #0087ff\">Conv2D</span>)                 │ (<span style=\"color: #00d7ff; text-decoration-color: #00d7ff\">None</span>, <span style=\"color: #00af00; text-decoration-color: #00af00\">127</span>, <span style=\"color: #00af00; text-decoration-color: #00af00\">127</span>, <span style=\"color: #00af00; text-decoration-color: #00af00\">8</span>)    │           <span style=\"color: #00af00; text-decoration-color: #00af00\">392</span> │\n",
       "├─────────────────────────────────┼────────────────────────┼───────────────┤\n",
       "│ max_pooling2d (<span style=\"color: #0087ff; text-decoration-color: #0087ff\">MaxPooling2D</span>)    │ (<span style=\"color: #00d7ff; text-decoration-color: #00d7ff\">None</span>, <span style=\"color: #00af00; text-decoration-color: #00af00\">63</span>, <span style=\"color: #00af00; text-decoration-color: #00af00\">63</span>, <span style=\"color: #00af00; text-decoration-color: #00af00\">8</span>)      │             <span style=\"color: #00af00; text-decoration-color: #00af00\">0</span> │\n",
       "├─────────────────────────────────┼────────────────────────┼───────────────┤\n",
       "│ conv2d_1 (<span style=\"color: #0087ff; text-decoration-color: #0087ff\">Conv2D</span>)               │ (<span style=\"color: #00d7ff; text-decoration-color: #00d7ff\">None</span>, <span style=\"color: #00af00; text-decoration-color: #00af00\">61</span>, <span style=\"color: #00af00; text-decoration-color: #00af00\">61</span>, <span style=\"color: #00af00; text-decoration-color: #00af00\">16</span>)     │         <span style=\"color: #00af00; text-decoration-color: #00af00\">1,168</span> │\n",
       "├─────────────────────────────────┼────────────────────────┼───────────────┤\n",
       "│ max_pooling2d_1 (<span style=\"color: #0087ff; text-decoration-color: #0087ff\">MaxPooling2D</span>)  │ (<span style=\"color: #00d7ff; text-decoration-color: #00d7ff\">None</span>, <span style=\"color: #00af00; text-decoration-color: #00af00\">30</span>, <span style=\"color: #00af00; text-decoration-color: #00af00\">30</span>, <span style=\"color: #00af00; text-decoration-color: #00af00\">16</span>)     │             <span style=\"color: #00af00; text-decoration-color: #00af00\">0</span> │\n",
       "├─────────────────────────────────┼────────────────────────┼───────────────┤\n",
       "│ conv2d_2 (<span style=\"color: #0087ff; text-decoration-color: #0087ff\">Conv2D</span>)               │ (<span style=\"color: #00d7ff; text-decoration-color: #00d7ff\">None</span>, <span style=\"color: #00af00; text-decoration-color: #00af00\">28</span>, <span style=\"color: #00af00; text-decoration-color: #00af00\">28</span>, <span style=\"color: #00af00; text-decoration-color: #00af00\">64</span>)     │         <span style=\"color: #00af00; text-decoration-color: #00af00\">9,280</span> │\n",
       "├─────────────────────────────────┼────────────────────────┼───────────────┤\n",
       "│ max_pooling2d_2 (<span style=\"color: #0087ff; text-decoration-color: #0087ff\">MaxPooling2D</span>)  │ (<span style=\"color: #00d7ff; text-decoration-color: #00d7ff\">None</span>, <span style=\"color: #00af00; text-decoration-color: #00af00\">14</span>, <span style=\"color: #00af00; text-decoration-color: #00af00\">14</span>, <span style=\"color: #00af00; text-decoration-color: #00af00\">64</span>)     │             <span style=\"color: #00af00; text-decoration-color: #00af00\">0</span> │\n",
       "├─────────────────────────────────┼────────────────────────┼───────────────┤\n",
       "│ conv2d_3 (<span style=\"color: #0087ff; text-decoration-color: #0087ff\">Conv2D</span>)               │ (<span style=\"color: #00d7ff; text-decoration-color: #00d7ff\">None</span>, <span style=\"color: #00af00; text-decoration-color: #00af00\">12</span>, <span style=\"color: #00af00; text-decoration-color: #00af00\">12</span>, <span style=\"color: #00af00; text-decoration-color: #00af00\">64</span>)     │        <span style=\"color: #00af00; text-decoration-color: #00af00\">36,928</span> │\n",
       "├─────────────────────────────────┼────────────────────────┼───────────────┤\n",
       "│ max_pooling2d_3 (<span style=\"color: #0087ff; text-decoration-color: #0087ff\">MaxPooling2D</span>)  │ (<span style=\"color: #00d7ff; text-decoration-color: #00d7ff\">None</span>, <span style=\"color: #00af00; text-decoration-color: #00af00\">6</span>, <span style=\"color: #00af00; text-decoration-color: #00af00\">6</span>, <span style=\"color: #00af00; text-decoration-color: #00af00\">64</span>)       │             <span style=\"color: #00af00; text-decoration-color: #00af00\">0</span> │\n",
       "├─────────────────────────────────┼────────────────────────┼───────────────┤\n",
       "│ flatten (<span style=\"color: #0087ff; text-decoration-color: #0087ff\">Flatten</span>)               │ (<span style=\"color: #00d7ff; text-decoration-color: #00d7ff\">None</span>, <span style=\"color: #00af00; text-decoration-color: #00af00\">2304</span>)           │             <span style=\"color: #00af00; text-decoration-color: #00af00\">0</span> │\n",
       "├─────────────────────────────────┼────────────────────────┼───────────────┤\n",
       "│ dropout (<span style=\"color: #0087ff; text-decoration-color: #0087ff\">Dropout</span>)               │ (<span style=\"color: #00d7ff; text-decoration-color: #00d7ff\">None</span>, <span style=\"color: #00af00; text-decoration-color: #00af00\">2304</span>)           │             <span style=\"color: #00af00; text-decoration-color: #00af00\">0</span> │\n",
       "├─────────────────────────────────┼────────────────────────┼───────────────┤\n",
       "│ dense (<span style=\"color: #0087ff; text-decoration-color: #0087ff\">Dense</span>)                   │ (<span style=\"color: #00d7ff; text-decoration-color: #00d7ff\">None</span>, <span style=\"color: #00af00; text-decoration-color: #00af00\">1024</span>)           │     <span style=\"color: #00af00; text-decoration-color: #00af00\">2,360,320</span> │\n",
       "├─────────────────────────────────┼────────────────────────┼───────────────┤\n",
       "│ dense_1 (<span style=\"color: #0087ff; text-decoration-color: #0087ff\">Dense</span>)                 │ (<span style=\"color: #00d7ff; text-decoration-color: #00d7ff\">None</span>, <span style=\"color: #00af00; text-decoration-color: #00af00\">1</span>)              │         <span style=\"color: #00af00; text-decoration-color: #00af00\">1,025</span> │\n",
       "└─────────────────────────────────┴────────────────────────┴───────────────┘\n",
       "</pre>\n"
      ],
      "text/plain": [
       "┏━━━━━━━━━━━━━━━━━━━━━━━━━━━━━━━━━┳━━━━━━━━━━━━━━━━━━━━━━━━┳━━━━━━━━━━━━━━━┓\n",
       "┃\u001b[1m \u001b[0m\u001b[1mLayer (type)                   \u001b[0m\u001b[1m \u001b[0m┃\u001b[1m \u001b[0m\u001b[1mOutput Shape          \u001b[0m\u001b[1m \u001b[0m┃\u001b[1m \u001b[0m\u001b[1m      Param #\u001b[0m\u001b[1m \u001b[0m┃\n",
       "┡━━━━━━━━━━━━━━━━━━━━━━━━━━━━━━━━━╇━━━━━━━━━━━━━━━━━━━━━━━━╇━━━━━━━━━━━━━━━┩\n",
       "│ sequential (\u001b[38;5;33mSequential\u001b[0m)         │ (\u001b[38;5;45mNone\u001b[0m, \u001b[38;5;34m130\u001b[0m, \u001b[38;5;34m130\u001b[0m, \u001b[38;5;34m3\u001b[0m)    │             \u001b[38;5;34m0\u001b[0m │\n",
       "├─────────────────────────────────┼────────────────────────┼───────────────┤\n",
       "│ rescaling (\u001b[38;5;33mRescaling\u001b[0m)           │ (\u001b[38;5;45mNone\u001b[0m, \u001b[38;5;34m130\u001b[0m, \u001b[38;5;34m130\u001b[0m, \u001b[38;5;34m3\u001b[0m)    │             \u001b[38;5;34m0\u001b[0m │\n",
       "├─────────────────────────────────┼────────────────────────┼───────────────┤\n",
       "│ conv2d (\u001b[38;5;33mConv2D\u001b[0m)                 │ (\u001b[38;5;45mNone\u001b[0m, \u001b[38;5;34m127\u001b[0m, \u001b[38;5;34m127\u001b[0m, \u001b[38;5;34m8\u001b[0m)    │           \u001b[38;5;34m392\u001b[0m │\n",
       "├─────────────────────────────────┼────────────────────────┼───────────────┤\n",
       "│ max_pooling2d (\u001b[38;5;33mMaxPooling2D\u001b[0m)    │ (\u001b[38;5;45mNone\u001b[0m, \u001b[38;5;34m63\u001b[0m, \u001b[38;5;34m63\u001b[0m, \u001b[38;5;34m8\u001b[0m)      │             \u001b[38;5;34m0\u001b[0m │\n",
       "├─────────────────────────────────┼────────────────────────┼───────────────┤\n",
       "│ conv2d_1 (\u001b[38;5;33mConv2D\u001b[0m)               │ (\u001b[38;5;45mNone\u001b[0m, \u001b[38;5;34m61\u001b[0m, \u001b[38;5;34m61\u001b[0m, \u001b[38;5;34m16\u001b[0m)     │         \u001b[38;5;34m1,168\u001b[0m │\n",
       "├─────────────────────────────────┼────────────────────────┼───────────────┤\n",
       "│ max_pooling2d_1 (\u001b[38;5;33mMaxPooling2D\u001b[0m)  │ (\u001b[38;5;45mNone\u001b[0m, \u001b[38;5;34m30\u001b[0m, \u001b[38;5;34m30\u001b[0m, \u001b[38;5;34m16\u001b[0m)     │             \u001b[38;5;34m0\u001b[0m │\n",
       "├─────────────────────────────────┼────────────────────────┼───────────────┤\n",
       "│ conv2d_2 (\u001b[38;5;33mConv2D\u001b[0m)               │ (\u001b[38;5;45mNone\u001b[0m, \u001b[38;5;34m28\u001b[0m, \u001b[38;5;34m28\u001b[0m, \u001b[38;5;34m64\u001b[0m)     │         \u001b[38;5;34m9,280\u001b[0m │\n",
       "├─────────────────────────────────┼────────────────────────┼───────────────┤\n",
       "│ max_pooling2d_2 (\u001b[38;5;33mMaxPooling2D\u001b[0m)  │ (\u001b[38;5;45mNone\u001b[0m, \u001b[38;5;34m14\u001b[0m, \u001b[38;5;34m14\u001b[0m, \u001b[38;5;34m64\u001b[0m)     │             \u001b[38;5;34m0\u001b[0m │\n",
       "├─────────────────────────────────┼────────────────────────┼───────────────┤\n",
       "│ conv2d_3 (\u001b[38;5;33mConv2D\u001b[0m)               │ (\u001b[38;5;45mNone\u001b[0m, \u001b[38;5;34m12\u001b[0m, \u001b[38;5;34m12\u001b[0m, \u001b[38;5;34m64\u001b[0m)     │        \u001b[38;5;34m36,928\u001b[0m │\n",
       "├─────────────────────────────────┼────────────────────────┼───────────────┤\n",
       "│ max_pooling2d_3 (\u001b[38;5;33mMaxPooling2D\u001b[0m)  │ (\u001b[38;5;45mNone\u001b[0m, \u001b[38;5;34m6\u001b[0m, \u001b[38;5;34m6\u001b[0m, \u001b[38;5;34m64\u001b[0m)       │             \u001b[38;5;34m0\u001b[0m │\n",
       "├─────────────────────────────────┼────────────────────────┼───────────────┤\n",
       "│ flatten (\u001b[38;5;33mFlatten\u001b[0m)               │ (\u001b[38;5;45mNone\u001b[0m, \u001b[38;5;34m2304\u001b[0m)           │             \u001b[38;5;34m0\u001b[0m │\n",
       "├─────────────────────────────────┼────────────────────────┼───────────────┤\n",
       "│ dropout (\u001b[38;5;33mDropout\u001b[0m)               │ (\u001b[38;5;45mNone\u001b[0m, \u001b[38;5;34m2304\u001b[0m)           │             \u001b[38;5;34m0\u001b[0m │\n",
       "├─────────────────────────────────┼────────────────────────┼───────────────┤\n",
       "│ dense (\u001b[38;5;33mDense\u001b[0m)                   │ (\u001b[38;5;45mNone\u001b[0m, \u001b[38;5;34m1024\u001b[0m)           │     \u001b[38;5;34m2,360,320\u001b[0m │\n",
       "├─────────────────────────────────┼────────────────────────┼───────────────┤\n",
       "│ dense_1 (\u001b[38;5;33mDense\u001b[0m)                 │ (\u001b[38;5;45mNone\u001b[0m, \u001b[38;5;34m1\u001b[0m)              │         \u001b[38;5;34m1,025\u001b[0m │\n",
       "└─────────────────────────────────┴────────────────────────┴───────────────┘\n"
      ]
     },
     "metadata": {},
     "output_type": "display_data"
    },
    {
     "data": {
      "text/html": [
       "<pre style=\"white-space:pre;overflow-x:auto;line-height:normal;font-family:Menlo,'DejaVu Sans Mono',consolas,'Courier New',monospace\"><span style=\"font-weight: bold\"> Total params: </span><span style=\"color: #00af00; text-decoration-color: #00af00\">2,409,113</span> (9.19 MB)\n",
       "</pre>\n"
      ],
      "text/plain": [
       "\u001b[1m Total params: \u001b[0m\u001b[38;5;34m2,409,113\u001b[0m (9.19 MB)\n"
      ]
     },
     "metadata": {},
     "output_type": "display_data"
    },
    {
     "data": {
      "text/html": [
       "<pre style=\"white-space:pre;overflow-x:auto;line-height:normal;font-family:Menlo,'DejaVu Sans Mono',consolas,'Courier New',monospace\"><span style=\"font-weight: bold\"> Trainable params: </span><span style=\"color: #00af00; text-decoration-color: #00af00\">2,409,113</span> (9.19 MB)\n",
       "</pre>\n"
      ],
      "text/plain": [
       "\u001b[1m Trainable params: \u001b[0m\u001b[38;5;34m2,409,113\u001b[0m (9.19 MB)\n"
      ]
     },
     "metadata": {},
     "output_type": "display_data"
    },
    {
     "data": {
      "text/html": [
       "<pre style=\"white-space:pre;overflow-x:auto;line-height:normal;font-family:Menlo,'DejaVu Sans Mono',consolas,'Courier New',monospace\"><span style=\"font-weight: bold\"> Non-trainable params: </span><span style=\"color: #00af00; text-decoration-color: #00af00\">0</span> (0.00 B)\n",
       "</pre>\n"
      ],
      "text/plain": [
       "\u001b[1m Non-trainable params: \u001b[0m\u001b[38;5;34m0\u001b[0m (0.00 B)\n"
      ]
     },
     "metadata": {},
     "output_type": "display_data"
    }
   ],
   "source": [
    "# Create the compiled but untrained model\n",
    "model = create_and_compile_model()\n",
    "model.summary()"
   ]
  },
  {
   "cell_type": "code",
   "execution_count": 15,
   "id": "89abb112-31e4-462d-aeb5-ac878eb84cb1",
   "metadata": {},
   "outputs": [
    {
     "data": {
      "text/plain": [
       "'\\ntraining_history = model.fit(\\n    training_dataset,\\n    epochs = epochs,\\n    validation_data = validation_dataset,\\n    callbacks = [EarlyStoppingCallback()],\\n    verbose = 2\\n)\\n'"
      ]
     },
     "execution_count": 15,
     "metadata": {},
     "output_type": "execute_result"
    }
   ],
   "source": [
    "'''\n",
    "training_history = model.fit(\n",
    "    training_dataset,\n",
    "    epochs = epochs,\n",
    "    validation_data = validation_dataset,\n",
    "    callbacks = [EarlyStoppingCallback()],\n",
    "    verbose = 2\n",
    ")\n",
    "'''"
   ]
  },
  {
   "cell_type": "code",
   "execution_count": 16,
   "id": "84b5a348-8f19-43d7-b96d-764b239959e9",
   "metadata": {},
   "outputs": [
    {
     "data": {
      "text/plain": [
       "'\\ntraining_history = model.fit(\\n    training_dataset,\\n    epochs = epochs,\\n    validation_data = validation_dataset,\\n    callbacks=[early_stop],\\n    verbose = 2\\n)\\n'"
      ]
     },
     "execution_count": 16,
     "metadata": {},
     "output_type": "execute_result"
    }
   ],
   "source": [
    "'''\n",
    "training_history = model.fit(\n",
    "    training_dataset,\n",
    "    epochs = epochs,\n",
    "    validation_data = validation_dataset,\n",
    "    callbacks=[early_stop],\n",
    "    verbose = 2\n",
    ")\n",
    "'''"
   ]
  },
  {
   "cell_type": "code",
   "execution_count": 17,
   "id": "8e9ceea5-9f80-4011-aeb4-9951bc88ac66",
   "metadata": {},
   "outputs": [
    {
     "name": "stdout",
     "output_type": "stream",
     "text": [
      "Epoch 1/200\n",
      "27/27 - 4s - 134ms/step - accuracy: 0.5559 - loss: 0.8324 - val_accuracy: 0.6170 - val_loss: 0.6749 - learning_rate: 0.0050\n",
      "Epoch 2/200\n",
      "27/27 - 1s - 42ms/step - accuracy: 0.5925 - loss: 0.6797 - val_accuracy: 0.6277 - val_loss: 0.6527 - learning_rate: 0.0050\n",
      "Epoch 3/200\n",
      "27/27 - 1s - 41ms/step - accuracy: 0.5253 - loss: 0.7124 - val_accuracy: 0.5532 - val_loss: 0.6882 - learning_rate: 0.0050\n",
      "Epoch 4/200\n",
      "27/27 - 1s - 41ms/step - accuracy: 0.5536 - loss: 0.6922 - val_accuracy: 0.4255 - val_loss: 0.6979 - learning_rate: 0.0050\n",
      "Epoch 5/200\n",
      "27/27 - 1s - 40ms/step - accuracy: 0.5583 - loss: 0.6727 - val_accuracy: 0.5638 - val_loss: 0.6685 - learning_rate: 0.0050\n",
      "Epoch 6/200\n",
      "27/27 - 1s - 41ms/step - accuracy: 0.5830 - loss: 0.6650 - val_accuracy: 0.5000 - val_loss: 0.6977 - learning_rate: 0.0050\n",
      "Epoch 7/200\n",
      "27/27 - 1s - 41ms/step - accuracy: 0.6254 - loss: 0.6469 - val_accuracy: 0.6170 - val_loss: 0.6298 - learning_rate: 0.0050\n",
      "Epoch 8/200\n",
      "27/27 - 1s - 41ms/step - accuracy: 0.6667 - loss: 0.6125 - val_accuracy: 0.6383 - val_loss: 0.6207 - learning_rate: 0.0050\n",
      "Epoch 9/200\n",
      "27/27 - 1s - 42ms/step - accuracy: 0.6996 - loss: 0.6109 - val_accuracy: 0.6383 - val_loss: 0.6303 - learning_rate: 0.0050\n",
      "Epoch 10/200\n",
      "27/27 - 1s - 42ms/step - accuracy: 0.6443 - loss: 0.6339 - val_accuracy: 0.5319 - val_loss: 0.7423 - learning_rate: 0.0050\n",
      "Epoch 11/200\n",
      "27/27 - 1s - 41ms/step - accuracy: 0.6973 - loss: 0.5826 - val_accuracy: 0.6596 - val_loss: 0.6977 - learning_rate: 0.0050\n",
      "Epoch 12/200\n",
      "27/27 - 1s - 41ms/step - accuracy: 0.7126 - loss: 0.5661 - val_accuracy: 0.6596 - val_loss: 0.6501 - learning_rate: 0.0050\n",
      "Epoch 13/200\n",
      "27/27 - 1s - 41ms/step - accuracy: 0.6961 - loss: 0.5924 - val_accuracy: 0.5319 - val_loss: 0.7238 - learning_rate: 0.0050\n",
      "Epoch 14/200\n",
      "27/27 - 1s - 41ms/step - accuracy: 0.7161 - loss: 0.5687 - val_accuracy: 0.6277 - val_loss: 0.6380 - learning_rate: 0.0050\n",
      "Epoch 15/200\n",
      "27/27 - 1s - 41ms/step - accuracy: 0.6985 - loss: 0.5698 - val_accuracy: 0.6489 - val_loss: 0.6094 - learning_rate: 0.0050\n",
      "Epoch 16/200\n",
      "27/27 - 1s - 41ms/step - accuracy: 0.6985 - loss: 0.5609 - val_accuracy: 0.6702 - val_loss: 0.6121 - learning_rate: 0.0050\n",
      "Epoch 17/200\n",
      "27/27 - 1s - 42ms/step - accuracy: 0.7197 - loss: 0.5562 - val_accuracy: 0.6809 - val_loss: 0.5719 - learning_rate: 0.0050\n",
      "Epoch 18/200\n",
      "27/27 - 1s - 41ms/step - accuracy: 0.7420 - loss: 0.5131 - val_accuracy: 0.7021 - val_loss: 0.6065 - learning_rate: 0.0050\n",
      "Epoch 19/200\n",
      "27/27 - 1s - 43ms/step - accuracy: 0.7338 - loss: 0.5304 - val_accuracy: 0.7340 - val_loss: 0.5407 - learning_rate: 0.0050\n",
      "Epoch 20/200\n",
      "27/27 - 1s - 41ms/step - accuracy: 0.7456 - loss: 0.5176 - val_accuracy: 0.6383 - val_loss: 0.6062 - learning_rate: 0.0050\n",
      "Epoch 21/200\n",
      "27/27 - 1s - 42ms/step - accuracy: 0.7621 - loss: 0.5131 - val_accuracy: 0.6915 - val_loss: 0.5396 - learning_rate: 0.0050\n",
      "Epoch 22/200\n",
      "27/27 - 1s - 42ms/step - accuracy: 0.7444 - loss: 0.5185 - val_accuracy: 0.6596 - val_loss: 0.5887 - learning_rate: 0.0050\n",
      "Epoch 23/200\n",
      "27/27 - 1s - 42ms/step - accuracy: 0.7479 - loss: 0.4933 - val_accuracy: 0.6915 - val_loss: 0.5800 - learning_rate: 0.0050\n",
      "Epoch 24/200\n",
      "27/27 - 1s - 42ms/step - accuracy: 0.7397 - loss: 0.5335 - val_accuracy: 0.6809 - val_loss: 0.5632 - learning_rate: 0.0050\n",
      "Epoch 25/200\n",
      "27/27 - 1s - 41ms/step - accuracy: 0.7621 - loss: 0.4979 - val_accuracy: 0.7234 - val_loss: 0.5465 - learning_rate: 0.0050\n",
      "Epoch 26/200\n",
      "27/27 - 1s - 42ms/step - accuracy: 0.7385 - loss: 0.5037 - val_accuracy: 0.7447 - val_loss: 0.5168 - learning_rate: 0.0050\n",
      "Epoch 27/200\n",
      "27/27 - 1s - 40ms/step - accuracy: 0.7574 - loss: 0.4942 - val_accuracy: 0.7021 - val_loss: 0.5427 - learning_rate: 0.0050\n",
      "Epoch 28/200\n",
      "27/27 - 1s - 42ms/step - accuracy: 0.7703 - loss: 0.4799 - val_accuracy: 0.6915 - val_loss: 0.6370 - learning_rate: 0.0050\n",
      "Epoch 29/200\n",
      "27/27 - 1s - 42ms/step - accuracy: 0.7939 - loss: 0.4670 - val_accuracy: 0.6702 - val_loss: 0.7233 - learning_rate: 0.0050\n",
      "Epoch 30/200\n",
      "27/27 - 1s - 41ms/step - accuracy: 0.7715 - loss: 0.4833 - val_accuracy: 0.7021 - val_loss: 0.5907 - learning_rate: 0.0050\n",
      "Epoch 31/200\n",
      "27/27 - 1s - 42ms/step - accuracy: 0.7515 - loss: 0.5216 - val_accuracy: 0.7021 - val_loss: 0.6069 - learning_rate: 0.0050\n",
      "Epoch 32/200\n",
      "27/27 - 1s - 42ms/step - accuracy: 0.7739 - loss: 0.4892 - val_accuracy: 0.7128 - val_loss: 0.5717 - learning_rate: 0.0050\n",
      "Epoch 33/200\n",
      "27/27 - 1s - 42ms/step - accuracy: 0.7656 - loss: 0.4543 - val_accuracy: 0.7234 - val_loss: 0.5796 - learning_rate: 0.0050\n",
      "Epoch 34/200\n",
      "27/27 - 1s - 42ms/step - accuracy: 0.7715 - loss: 0.4813 - val_accuracy: 0.7021 - val_loss: 0.5629 - learning_rate: 0.0050\n",
      "Epoch 35/200\n",
      "27/27 - 1s - 42ms/step - accuracy: 0.7409 - loss: 0.5096 - val_accuracy: 0.7553 - val_loss: 0.5754 - learning_rate: 0.0050\n",
      "Epoch 36/200\n",
      "27/27 - 1s - 41ms/step - accuracy: 0.7597 - loss: 0.5074 - val_accuracy: 0.7553 - val_loss: 0.5451 - learning_rate: 0.0050\n",
      "Epoch 37/200\n",
      "27/27 - 1s - 43ms/step - accuracy: 0.7326 - loss: 0.5340 - val_accuracy: 0.6915 - val_loss: 0.5311 - learning_rate: 0.0050\n",
      "Epoch 38/200\n",
      "27/27 - 1s - 41ms/step - accuracy: 0.7786 - loss: 0.4860 - val_accuracy: 0.7021 - val_loss: 0.5109 - learning_rate: 0.0050\n",
      "Epoch 39/200\n",
      "27/27 - 1s - 43ms/step - accuracy: 0.7833 - loss: 0.4808 - val_accuracy: 0.7340 - val_loss: 0.5468 - learning_rate: 0.0050\n",
      "Epoch 40/200\n",
      "27/27 - 1s - 42ms/step - accuracy: 0.7703 - loss: 0.4703 - val_accuracy: 0.7234 - val_loss: 0.5401 - learning_rate: 0.0050\n",
      "Epoch 41/200\n",
      "27/27 - 1s - 42ms/step - accuracy: 0.7856 - loss: 0.4899 - val_accuracy: 0.7128 - val_loss: 0.5435 - learning_rate: 0.0050\n",
      "Epoch 42/200\n",
      "27/27 - 1s - 42ms/step - accuracy: 0.7750 - loss: 0.4826 - val_accuracy: 0.7021 - val_loss: 0.6168 - learning_rate: 0.0050\n",
      "Epoch 43/200\n",
      "27/27 - 1s - 41ms/step - accuracy: 0.7951 - loss: 0.4480 - val_accuracy: 0.7128 - val_loss: 0.5153 - learning_rate: 0.0050\n",
      "Epoch 44/200\n",
      "27/27 - 1s - 41ms/step - accuracy: 0.7880 - loss: 0.4484 - val_accuracy: 0.7128 - val_loss: 0.5759 - learning_rate: 0.0050\n",
      "Epoch 45/200\n",
      "27/27 - 1s - 40ms/step - accuracy: 0.7915 - loss: 0.4550 - val_accuracy: 0.7234 - val_loss: 0.5320 - learning_rate: 0.0050\n",
      "Epoch 46/200\n",
      "27/27 - 1s - 42ms/step - accuracy: 0.8045 - loss: 0.4415 - val_accuracy: 0.7234 - val_loss: 0.5555 - learning_rate: 0.0050\n",
      "Epoch 47/200\n",
      "27/27 - 1s - 42ms/step - accuracy: 0.7656 - loss: 0.4642 - val_accuracy: 0.7553 - val_loss: 0.5379 - learning_rate: 0.0050\n",
      "Epoch 48/200\n",
      "27/27 - 1s - 43ms/step - accuracy: 0.7856 - loss: 0.4476 - val_accuracy: 0.7128 - val_loss: 0.5306 - learning_rate: 0.0050\n",
      "Epoch 49/200\n",
      "27/27 - 1s - 42ms/step - accuracy: 0.8021 - loss: 0.4420 - val_accuracy: 0.7340 - val_loss: 0.5587 - learning_rate: 0.0050\n",
      "Epoch 50/200\n",
      "27/27 - 1s - 41ms/step - accuracy: 0.8139 - loss: 0.4338 - val_accuracy: 0.7766 - val_loss: 0.5413 - learning_rate: 0.0050\n",
      "Epoch 51/200\n",
      "27/27 - 1s - 45ms/step - accuracy: 0.7998 - loss: 0.4533 - val_accuracy: 0.7234 - val_loss: 0.5932 - learning_rate: 0.0050\n",
      "Epoch 52/200\n",
      "27/27 - 1s - 40ms/step - accuracy: 0.7809 - loss: 0.4741 - val_accuracy: 0.7340 - val_loss: 0.5357 - learning_rate: 0.0050\n",
      "Epoch 53/200\n",
      "27/27 - 1s - 40ms/step - accuracy: 0.7939 - loss: 0.4773 - val_accuracy: 0.7553 - val_loss: 0.4929 - learning_rate: 0.0050\n",
      "Epoch 54/200\n",
      "27/27 - 1s - 42ms/step - accuracy: 0.7998 - loss: 0.4296 - val_accuracy: 0.7660 - val_loss: 0.4974 - learning_rate: 0.0050\n",
      "Epoch 55/200\n",
      "27/27 - 1s - 42ms/step - accuracy: 0.8139 - loss: 0.4292 - val_accuracy: 0.7021 - val_loss: 0.5192 - learning_rate: 0.0050\n",
      "Epoch 56/200\n",
      "27/27 - 1s - 42ms/step - accuracy: 0.8045 - loss: 0.4289 - val_accuracy: 0.7447 - val_loss: 0.6412 - learning_rate: 0.0050\n",
      "Epoch 57/200\n",
      "27/27 - 1s - 41ms/step - accuracy: 0.8080 - loss: 0.4274 - val_accuracy: 0.7340 - val_loss: 0.5630 - learning_rate: 0.0050\n",
      "Epoch 58/200\n",
      "27/27 - 1s - 41ms/step - accuracy: 0.8080 - loss: 0.4286 - val_accuracy: 0.7021 - val_loss: 0.5843 - learning_rate: 0.0050\n",
      "Epoch 59/200\n",
      "27/27 - 1s - 41ms/step - accuracy: 0.7750 - loss: 0.4634 - val_accuracy: 0.7553 - val_loss: 0.5385 - learning_rate: 0.0050\n",
      "Epoch 60/200\n",
      "27/27 - 1s - 40ms/step - accuracy: 0.7986 - loss: 0.4269 - val_accuracy: 0.7979 - val_loss: 0.5120 - learning_rate: 0.0050\n",
      "Epoch 61/200\n",
      "27/27 - 1s - 41ms/step - accuracy: 0.8139 - loss: 0.4018 - val_accuracy: 0.7660 - val_loss: 0.5455 - learning_rate: 0.0050\n",
      "Epoch 62/200\n",
      "27/27 - 1s - 42ms/step - accuracy: 0.7833 - loss: 0.4441 - val_accuracy: 0.7128 - val_loss: 0.6867 - learning_rate: 0.0050\n",
      "Epoch 63/200\n",
      "27/27 - 1s - 43ms/step - accuracy: 0.7845 - loss: 0.4684 - val_accuracy: 0.7660 - val_loss: 0.5132 - learning_rate: 0.0050\n",
      "Epoch 64/200\n",
      "27/27 - 1s - 41ms/step - accuracy: 0.8045 - loss: 0.4157 - val_accuracy: 0.7553 - val_loss: 0.5943 - learning_rate: 0.0050\n",
      "Epoch 65/200\n",
      "27/27 - 1s - 41ms/step - accuracy: 0.8127 - loss: 0.4110 - val_accuracy: 0.7340 - val_loss: 0.5151 - learning_rate: 0.0050\n",
      "Epoch 66/200\n",
      "27/27 - 1s - 48ms/step - accuracy: 0.8233 - loss: 0.3957 - val_accuracy: 0.7447 - val_loss: 0.6443 - learning_rate: 0.0050\n",
      "Epoch 67/200\n",
      "27/27 - 1s - 42ms/step - accuracy: 0.8127 - loss: 0.4202 - val_accuracy: 0.7234 - val_loss: 0.5769 - learning_rate: 0.0050\n",
      "Epoch 68/200\n",
      "27/27 - 1s - 49ms/step - accuracy: 0.7951 - loss: 0.4174 - val_accuracy: 0.7660 - val_loss: 0.6699 - learning_rate: 0.0050\n",
      "Epoch 69/200\n",
      "27/27 - 1s - 41ms/step - accuracy: 0.8269 - loss: 0.4432 - val_accuracy: 0.7340 - val_loss: 0.5740 - learning_rate: 0.0050\n",
      "Epoch 70/200\n",
      "27/27 - 1s - 41ms/step - accuracy: 0.7986 - loss: 0.4104 - val_accuracy: 0.7234 - val_loss: 0.5851 - learning_rate: 0.0050\n",
      "Epoch 71/200\n",
      "27/27 - 2s - 59ms/step - accuracy: 0.8292 - loss: 0.3861 - val_accuracy: 0.7128 - val_loss: 0.5456 - learning_rate: 0.0050\n",
      "Epoch 72/200\n",
      "27/27 - 1s - 54ms/step - accuracy: 0.8045 - loss: 0.4299 - val_accuracy: 0.7021 - val_loss: 0.5828 - learning_rate: 0.0050\n",
      "Epoch 73/200\n",
      "27/27 - 1s - 41ms/step - accuracy: 0.8233 - loss: 0.3810 - val_accuracy: 0.7660 - val_loss: 0.5528 - learning_rate: 0.0050\n",
      "Epoch 74/200\n",
      "27/27 - 1s - 41ms/step - accuracy: 0.8280 - loss: 0.3970 - val_accuracy: 0.7340 - val_loss: 0.5722 - learning_rate: 0.0050\n",
      "Epoch 75/200\n",
      "27/27 - 1s - 41ms/step - accuracy: 0.8339 - loss: 0.3723 - val_accuracy: 0.7553 - val_loss: 0.6059 - learning_rate: 0.0050\n",
      "Epoch 76/200\n",
      "27/27 - 1s - 42ms/step - accuracy: 0.8057 - loss: 0.4150 - val_accuracy: 0.7340 - val_loss: 0.5720 - learning_rate: 0.0050\n",
      "Epoch 77/200\n",
      "27/27 - 1s - 41ms/step - accuracy: 0.8492 - loss: 0.3507 - val_accuracy: 0.7128 - val_loss: 0.6704 - learning_rate: 0.0050\n",
      "Epoch 78/200\n",
      "27/27 - 1s - 40ms/step - accuracy: 0.8375 - loss: 0.3716 - val_accuracy: 0.6915 - val_loss: 0.7085 - learning_rate: 0.0050\n",
      "Epoch 79/200\n",
      "27/27 - 1s - 41ms/step - accuracy: 0.7951 - loss: 0.4427 - val_accuracy: 0.7128 - val_loss: 0.5887 - learning_rate: 0.0050\n",
      "Epoch 80/200\n",
      "27/27 - 1s - 41ms/step - accuracy: 0.8080 - loss: 0.3989 - val_accuracy: 0.7234 - val_loss: 0.6508 - learning_rate: 0.0050\n",
      "Epoch 81/200\n",
      "27/27 - 1s - 40ms/step - accuracy: 0.8151 - loss: 0.4077 - val_accuracy: 0.7234 - val_loss: 0.6624 - learning_rate: 0.0050\n",
      "Epoch 82/200\n",
      "27/27 - 1s - 41ms/step - accuracy: 0.8210 - loss: 0.3625 - val_accuracy: 0.7128 - val_loss: 0.7808 - learning_rate: 0.0050\n",
      "Epoch 83/200\n",
      "27/27 - 1s - 41ms/step - accuracy: 0.8304 - loss: 0.3908 - val_accuracy: 0.7766 - val_loss: 0.5710 - learning_rate: 0.0050\n",
      "Epoch 84/200\n",
      "27/27 - 1s - 43ms/step - accuracy: 0.8351 - loss: 0.3667 - val_accuracy: 0.7660 - val_loss: 0.5709 - learning_rate: 0.0050\n",
      "Epoch 85/200\n",
      "27/27 - 1s - 44ms/step - accuracy: 0.8351 - loss: 0.3630 - val_accuracy: 0.7979 - val_loss: 0.5470 - learning_rate: 0.0050\n",
      "Epoch 86/200\n",
      "27/27 - 1s - 41ms/step - accuracy: 0.8563 - loss: 0.3580 - val_accuracy: 0.7766 - val_loss: 0.5958 - learning_rate: 0.0050\n",
      "Epoch 87/200\n",
      "27/27 - 1s - 41ms/step - accuracy: 0.8316 - loss: 0.3693 - val_accuracy: 0.7872 - val_loss: 0.5765 - learning_rate: 0.0050\n",
      "Epoch 88/200\n",
      "27/27 - 1s - 41ms/step - accuracy: 0.8386 - loss: 0.3707 - val_accuracy: 0.7872 - val_loss: 0.5991 - learning_rate: 0.0050\n",
      "Epoch 89/200\n",
      "27/27 - 1s - 41ms/step - accuracy: 0.8445 - loss: 0.3514 - val_accuracy: 0.7660 - val_loss: 0.5754 - learning_rate: 0.0050\n",
      "Epoch 90/200\n",
      "27/27 - 1s - 41ms/step - accuracy: 0.8068 - loss: 0.4172 - val_accuracy: 0.7021 - val_loss: 0.6691 - learning_rate: 0.0050\n",
      "Epoch 91/200\n",
      "27/27 - 1s - 41ms/step - accuracy: 0.8021 - loss: 0.4259 - val_accuracy: 0.7447 - val_loss: 0.5249 - learning_rate: 0.0050\n",
      "Epoch 92/200\n",
      "27/27 - 1s - 42ms/step - accuracy: 0.8304 - loss: 0.3863 - val_accuracy: 0.7340 - val_loss: 0.6034 - learning_rate: 0.0050\n",
      "Epoch 93/200\n",
      "27/27 - 1s - 41ms/step - accuracy: 0.8339 - loss: 0.3675 - val_accuracy: 0.7766 - val_loss: 0.5751 - learning_rate: 0.0050\n",
      "Epoch 94/200\n",
      "27/27 - 1s - 40ms/step - accuracy: 0.8528 - loss: 0.3111 - val_accuracy: 0.7340 - val_loss: 0.6539 - learning_rate: 0.0050\n",
      "Epoch 95/200\n",
      "27/27 - 1s - 41ms/step - accuracy: 0.8551 - loss: 0.3291 - val_accuracy: 0.7766 - val_loss: 0.6025 - learning_rate: 0.0050\n",
      "Epoch 96/200\n",
      "27/27 - 1s - 40ms/step - accuracy: 0.8327 - loss: 0.3704 - val_accuracy: 0.7340 - val_loss: 0.5884 - learning_rate: 0.0050\n",
      "Epoch 97/200\n",
      "27/27 - 1s - 42ms/step - accuracy: 0.8481 - loss: 0.3618 - val_accuracy: 0.7553 - val_loss: 0.5295 - learning_rate: 0.0050\n",
      "Epoch 98/200\n",
      "27/27 - 1s - 43ms/step - accuracy: 0.8198 - loss: 0.3776 - val_accuracy: 0.7234 - val_loss: 0.6109 - learning_rate: 0.0050\n",
      "Epoch 99/200\n",
      "27/27 - 1s - 41ms/step - accuracy: 0.8327 - loss: 0.3814 - val_accuracy: 0.7660 - val_loss: 0.4982 - learning_rate: 0.0050\n",
      "Epoch 100/200\n",
      "27/27 - 1s - 41ms/step - accuracy: 0.8410 - loss: 0.3487 - val_accuracy: 0.7447 - val_loss: 0.6857 - learning_rate: 0.0050\n",
      "Epoch 101/200\n",
      "27/27 - 1s - 39ms/step - accuracy: 0.8257 - loss: 0.3885 - val_accuracy: 0.7766 - val_loss: 0.5252 - learning_rate: 0.0050\n",
      "Epoch 102/200\n",
      "27/27 - 1s - 40ms/step - accuracy: 0.8516 - loss: 0.3374 - val_accuracy: 0.7553 - val_loss: 0.6250 - learning_rate: 0.0050\n",
      "Epoch 103/200\n",
      "27/27 - 1s - 41ms/step - accuracy: 0.8375 - loss: 0.3537 - val_accuracy: 0.8085 - val_loss: 0.7224 - learning_rate: 0.0050\n",
      "Epoch 104/200\n",
      "27/27 - 1s - 41ms/step - accuracy: 0.8433 - loss: 0.3691 - val_accuracy: 0.7766 - val_loss: 0.5332 - learning_rate: 0.0050\n",
      "Epoch 105/200\n",
      "27/27 - 1s - 40ms/step - accuracy: 0.8445 - loss: 0.3222 - val_accuracy: 0.7872 - val_loss: 0.6606 - learning_rate: 0.0050\n",
      "Epoch 106/200\n",
      "27/27 - 1s - 43ms/step - accuracy: 0.8316 - loss: 0.3571 - val_accuracy: 0.8191 - val_loss: 0.5434 - learning_rate: 0.0050\n",
      "Epoch 107/200\n",
      "27/27 - 1s - 41ms/step - accuracy: 0.8610 - loss: 0.3275 - val_accuracy: 0.8085 - val_loss: 0.6064 - learning_rate: 0.0050\n",
      "Epoch 108/200\n",
      "27/27 - 1s - 41ms/step - accuracy: 0.8563 - loss: 0.3759 - val_accuracy: 0.7660 - val_loss: 0.5740 - learning_rate: 0.0050\n",
      "Epoch 109/200\n",
      "27/27 - 1s - 43ms/step - accuracy: 0.8104 - loss: 0.4335 - val_accuracy: 0.7660 - val_loss: 0.5632 - learning_rate: 0.0050\n",
      "Epoch 110/200\n",
      "27/27 - 1s - 40ms/step - accuracy: 0.8551 - loss: 0.3395 - val_accuracy: 0.7766 - val_loss: 0.6592 - learning_rate: 0.0050\n",
      "Epoch 111/200\n",
      "27/27 - 1s - 42ms/step - accuracy: 0.8269 - loss: 0.3698 - val_accuracy: 0.7660 - val_loss: 0.6026 - learning_rate: 0.0050\n",
      "Epoch 112/200\n",
      "27/27 - 1s - 41ms/step - accuracy: 0.8669 - loss: 0.2988 - val_accuracy: 0.7766 - val_loss: 0.6921 - learning_rate: 0.0050\n",
      "Epoch 113/200\n",
      "27/27 - 1s - 41ms/step - accuracy: 0.8622 - loss: 0.3083 - val_accuracy: 0.7766 - val_loss: 0.5910 - learning_rate: 0.0050\n",
      "Epoch 114/200\n",
      "27/27 - 1s - 41ms/step - accuracy: 0.8386 - loss: 0.3438 - val_accuracy: 0.7340 - val_loss: 0.5532 - learning_rate: 0.0050\n",
      "Epoch 115/200\n",
      "27/27 - 1s - 40ms/step - accuracy: 0.8716 - loss: 0.3200 - val_accuracy: 0.7553 - val_loss: 0.5135 - learning_rate: 0.0050\n",
      "Epoch 116/200\n",
      "27/27 - 1s - 41ms/step - accuracy: 0.8445 - loss: 0.3526 - val_accuracy: 0.7660 - val_loss: 0.6755 - learning_rate: 0.0050\n",
      "Epoch 117/200\n",
      "27/27 - 1s - 41ms/step - accuracy: 0.8657 - loss: 0.3145 - val_accuracy: 0.8404 - val_loss: 0.4967 - learning_rate: 0.0050\n",
      "Epoch 118/200\n",
      "27/27 - 1s - 41ms/step - accuracy: 0.8575 - loss: 0.3108 - val_accuracy: 0.7553 - val_loss: 0.7225 - learning_rate: 0.0050\n",
      "Epoch 119/200\n",
      "27/27 - 1s - 41ms/step - accuracy: 0.8504 - loss: 0.3191 - val_accuracy: 0.7660 - val_loss: 0.6271 - learning_rate: 0.0050\n",
      "Epoch 120/200\n",
      "27/27 - 1s - 41ms/step - accuracy: 0.8551 - loss: 0.3284 - val_accuracy: 0.7660 - val_loss: 0.5766 - learning_rate: 0.0050\n",
      "Epoch 121/200\n",
      "27/27 - 1s - 41ms/step - accuracy: 0.8481 - loss: 0.3211 - val_accuracy: 0.7447 - val_loss: 0.5829 - learning_rate: 0.0050\n",
      "Epoch 122/200\n",
      "27/27 - 1s - 41ms/step - accuracy: 0.8681 - loss: 0.3252 - val_accuracy: 0.7766 - val_loss: 0.5609 - learning_rate: 0.0050\n",
      "Epoch 123/200\n",
      "27/27 - 1s - 40ms/step - accuracy: 0.8740 - loss: 0.3227 - val_accuracy: 0.7766 - val_loss: 0.6818 - learning_rate: 0.0050\n",
      "Epoch 124/200\n",
      "27/27 - 1s - 41ms/step - accuracy: 0.8716 - loss: 0.3041 - val_accuracy: 0.7340 - val_loss: 0.7906 - learning_rate: 0.0050\n",
      "Epoch 125/200\n",
      "27/27 - 1s - 41ms/step - accuracy: 0.8751 - loss: 0.2963 - val_accuracy: 0.7660 - val_loss: 0.5693 - learning_rate: 0.0050\n",
      "Epoch 126/200\n",
      "27/27 - 1s - 41ms/step - accuracy: 0.8610 - loss: 0.3098 - val_accuracy: 0.7872 - val_loss: 0.7673 - learning_rate: 0.0050\n",
      "Epoch 127/200\n",
      "27/27 - 1s - 41ms/step - accuracy: 0.8716 - loss: 0.3284 - val_accuracy: 0.7234 - val_loss: 0.5901 - learning_rate: 0.0050\n",
      "Epoch 128/200\n",
      "27/27 - 1s - 41ms/step - accuracy: 0.8775 - loss: 0.2841 - val_accuracy: 0.7660 - val_loss: 0.6684 - learning_rate: 0.0050\n",
      "Epoch 129/200\n",
      "27/27 - 1s - 41ms/step - accuracy: 0.8587 - loss: 0.3177 - val_accuracy: 0.7979 - val_loss: 0.5887 - learning_rate: 0.0050\n",
      "Epoch 130/200\n",
      "27/27 - 1s - 40ms/step - accuracy: 0.8587 - loss: 0.3375 - val_accuracy: 0.7872 - val_loss: 0.5670 - learning_rate: 0.0050\n",
      "Epoch 131/200\n",
      "27/27 - 1s - 40ms/step - accuracy: 0.8751 - loss: 0.2832 - val_accuracy: 0.7447 - val_loss: 0.6459 - learning_rate: 0.0050\n",
      "Epoch 132/200\n",
      "27/27 - 1s - 41ms/step - accuracy: 0.8799 - loss: 0.2736 - val_accuracy: 0.7447 - val_loss: 0.6914 - learning_rate: 0.0050\n",
      "Epoch 133/200\n",
      "27/27 - 1s - 42ms/step - accuracy: 0.8657 - loss: 0.3288 - val_accuracy: 0.7766 - val_loss: 0.6237 - learning_rate: 0.0050\n",
      "Epoch 134/200\n",
      "27/27 - 1s - 40ms/step - accuracy: 0.8634 - loss: 0.3052 - val_accuracy: 0.7979 - val_loss: 0.5831 - learning_rate: 0.0050\n",
      "Epoch 135/200\n",
      "27/27 - 1s - 41ms/step - accuracy: 0.8799 - loss: 0.2779 - val_accuracy: 0.7553 - val_loss: 0.6499 - learning_rate: 0.0050\n",
      "Epoch 136/200\n",
      "27/27 - 1s - 41ms/step - accuracy: 0.8634 - loss: 0.3062 - val_accuracy: 0.7872 - val_loss: 0.5850 - learning_rate: 0.0050\n",
      "Epoch 137/200\n",
      "27/27 - 1s - 41ms/step - accuracy: 0.8846 - loss: 0.2702 - val_accuracy: 0.7979 - val_loss: 0.6586 - learning_rate: 0.0050\n",
      "Epoch 138/200\n",
      "27/27 - 1s - 41ms/step - accuracy: 0.8999 - loss: 0.2515 - val_accuracy: 0.7872 - val_loss: 0.8808 - learning_rate: 0.0050\n",
      "Epoch 139/200\n",
      "27/27 - 1s - 41ms/step - accuracy: 0.8834 - loss: 0.2665 - val_accuracy: 0.8191 - val_loss: 0.6081 - learning_rate: 0.0050\n",
      "Epoch 140/200\n",
      "27/27 - 1s - 41ms/step - accuracy: 0.8610 - loss: 0.3235 - val_accuracy: 0.7447 - val_loss: 0.6573 - learning_rate: 0.0050\n",
      "Epoch 141/200\n",
      "27/27 - 1s - 42ms/step - accuracy: 0.8634 - loss: 0.3079 - val_accuracy: 0.7447 - val_loss: 0.6899 - learning_rate: 0.0050\n",
      "Epoch 142/200\n",
      "27/27 - 1s - 41ms/step - accuracy: 0.8952 - loss: 0.2814 - val_accuracy: 0.7766 - val_loss: 0.7914 - learning_rate: 0.0050\n",
      "Epoch 143/200\n",
      "27/27 - 1s - 42ms/step - accuracy: 0.8799 - loss: 0.3078 - val_accuracy: 0.7340 - val_loss: 0.7652 - learning_rate: 0.0050\n",
      "Epoch 144/200\n",
      "27/27 - 1s - 40ms/step - accuracy: 0.8740 - loss: 0.2902 - val_accuracy: 0.7872 - val_loss: 0.6319 - learning_rate: 0.0050\n",
      "Epoch 145/200\n",
      "27/27 - 1s - 41ms/step - accuracy: 0.8728 - loss: 0.3029 - val_accuracy: 0.7660 - val_loss: 0.7800 - learning_rate: 0.0050\n",
      "Epoch 146/200\n",
      "27/27 - 1s - 41ms/step - accuracy: 0.8610 - loss: 0.3163 - val_accuracy: 0.8191 - val_loss: 0.5090 - learning_rate: 0.0050\n",
      "Epoch 147/200\n",
      "27/27 - 1s - 42ms/step - accuracy: 0.8539 - loss: 0.3194 - val_accuracy: 0.7979 - val_loss: 0.7024 - learning_rate: 0.0050\n",
      "Epoch 148/200\n",
      "27/27 - 1s - 41ms/step - accuracy: 0.8857 - loss: 0.2989 - val_accuracy: 0.7447 - val_loss: 0.6956 - learning_rate: 0.0050\n",
      "Epoch 149/200\n",
      "27/27 - 1s - 41ms/step - accuracy: 0.8645 - loss: 0.2979 - val_accuracy: 0.7660 - val_loss: 0.5391 - learning_rate: 0.0050\n",
      "Epoch 150/200\n",
      "27/27 - 1s - 41ms/step - accuracy: 0.8740 - loss: 0.3229 - val_accuracy: 0.8191 - val_loss: 0.4690 - learning_rate: 0.0050\n",
      "Epoch 151/200\n",
      "27/27 - 1s - 41ms/step - accuracy: 0.8905 - loss: 0.2635 - val_accuracy: 0.7872 - val_loss: 0.6160 - learning_rate: 0.0050\n",
      "Epoch 152/200\n",
      "27/27 - 1s - 42ms/step - accuracy: 0.8751 - loss: 0.2703 - val_accuracy: 0.7340 - val_loss: 0.6725 - learning_rate: 0.0050\n",
      "Epoch 153/200\n",
      "27/27 - 1s - 41ms/step - accuracy: 0.8975 - loss: 0.2370 - val_accuracy: 0.7553 - val_loss: 0.7901 - learning_rate: 0.0050\n",
      "Epoch 154/200\n",
      "27/27 - 1s - 42ms/step - accuracy: 0.8893 - loss: 0.2729 - val_accuracy: 0.8191 - val_loss: 0.6750 - learning_rate: 0.0050\n",
      "Epoch 155/200\n",
      "27/27 - 1s - 42ms/step - accuracy: 0.8551 - loss: 0.3554 - val_accuracy: 0.7553 - val_loss: 0.6605 - learning_rate: 0.0050\n",
      "Epoch 156/200\n",
      "27/27 - 1s - 41ms/step - accuracy: 0.8433 - loss: 0.3407 - val_accuracy: 0.7553 - val_loss: 0.5638 - learning_rate: 0.0050\n",
      "Epoch 157/200\n",
      "27/27 - 1s - 41ms/step - accuracy: 0.8893 - loss: 0.2612 - val_accuracy: 0.7872 - val_loss: 0.5423 - learning_rate: 0.0050\n",
      "Epoch 158/200\n",
      "27/27 - 1s - 41ms/step - accuracy: 0.9034 - loss: 0.2412 - val_accuracy: 0.7553 - val_loss: 0.8858 - learning_rate: 0.0050\n",
      "Epoch 159/200\n",
      "27/27 - 1s - 41ms/step - accuracy: 0.8822 - loss: 0.2881 - val_accuracy: 0.7660 - val_loss: 0.6109 - learning_rate: 0.0050\n",
      "Epoch 160/200\n",
      "27/27 - 1s - 42ms/step - accuracy: 0.8669 - loss: 0.3006 - val_accuracy: 0.8191 - val_loss: 0.9790 - learning_rate: 0.0050\n",
      "Epoch 161/200\n",
      "27/27 - 1s - 41ms/step - accuracy: 0.8799 - loss: 0.2797 - val_accuracy: 0.7766 - val_loss: 0.6498 - learning_rate: 0.0050\n",
      "Epoch 162/200\n",
      "27/27 - 1s - 42ms/step - accuracy: 0.8634 - loss: 0.3063 - val_accuracy: 0.7234 - val_loss: 0.7500 - learning_rate: 0.0050\n",
      "Epoch 163/200\n",
      "27/27 - 1s - 41ms/step - accuracy: 0.8881 - loss: 0.2853 - val_accuracy: 0.7553 - val_loss: 0.8657 - learning_rate: 0.0050\n",
      "Epoch 164/200\n",
      "27/27 - 1s - 41ms/step - accuracy: 0.8728 - loss: 0.2754 - val_accuracy: 0.7447 - val_loss: 0.6758 - learning_rate: 0.0050\n",
      "Epoch 165/200\n",
      "27/27 - 1s - 42ms/step - accuracy: 0.8987 - loss: 0.2329 - val_accuracy: 0.7553 - val_loss: 0.7886 - learning_rate: 0.0050\n",
      "Epoch 166/200\n",
      "27/27 - 1s - 43ms/step - accuracy: 0.8857 - loss: 0.2809 - val_accuracy: 0.7447 - val_loss: 0.5939 - learning_rate: 0.0050\n",
      "Epoch 167/200\n",
      "27/27 - 1s - 43ms/step - accuracy: 0.8916 - loss: 0.2439 - val_accuracy: 0.7553 - val_loss: 0.6214 - learning_rate: 0.0050\n",
      "Epoch 168/200\n",
      "27/27 - 1s - 40ms/step - accuracy: 0.8999 - loss: 0.2444 - val_accuracy: 0.7872 - val_loss: 0.6891 - learning_rate: 0.0050\n",
      "Epoch 169/200\n",
      "27/27 - 1s - 42ms/step - accuracy: 0.9246 - loss: 0.2047 - val_accuracy: 0.7872 - val_loss: 0.7398 - learning_rate: 0.0050\n",
      "Epoch 170/200\n",
      "27/27 - 1s - 43ms/step - accuracy: 0.8952 - loss: 0.2513 - val_accuracy: 0.7553 - val_loss: 0.7427 - learning_rate: 0.0050\n",
      "Epoch 171/200\n",
      "27/27 - 1s - 41ms/step - accuracy: 0.8999 - loss: 0.2385 - val_accuracy: 0.7660 - val_loss: 0.8390 - learning_rate: 0.0050\n",
      "Epoch 172/200\n",
      "27/27 - 1s - 42ms/step - accuracy: 0.8963 - loss: 0.2600 - val_accuracy: 0.7447 - val_loss: 0.6867 - learning_rate: 0.0050\n",
      "Epoch 173/200\n",
      "27/27 - 1s - 42ms/step - accuracy: 0.9176 - loss: 0.1950 - val_accuracy: 0.7660 - val_loss: 0.6793 - learning_rate: 0.0050\n",
      "Epoch 174/200\n",
      "27/27 - 1s - 41ms/step - accuracy: 0.8975 - loss: 0.2432 - val_accuracy: 0.7340 - val_loss: 0.8109 - learning_rate: 0.0050\n",
      "Epoch 175/200\n",
      "27/27 - 1s - 41ms/step - accuracy: 0.8963 - loss: 0.2617 - val_accuracy: 0.7872 - val_loss: 0.7345 - learning_rate: 0.0050\n",
      "Epoch 176/200\n",
      "27/27 - 1s - 41ms/step - accuracy: 0.8704 - loss: 0.2734 - val_accuracy: 0.7447 - val_loss: 0.6120 - learning_rate: 0.0050\n",
      "Epoch 177/200\n",
      "27/27 - 1s - 41ms/step - accuracy: 0.9187 - loss: 0.1960 - val_accuracy: 0.7660 - val_loss: 0.7097 - learning_rate: 0.0050\n",
      "Epoch 178/200\n",
      "27/27 - 1s - 42ms/step - accuracy: 0.9105 - loss: 0.2291 - val_accuracy: 0.7553 - val_loss: 0.6729 - learning_rate: 0.0050\n",
      "Epoch 179/200\n",
      "27/27 - 1s - 41ms/step - accuracy: 0.8975 - loss: 0.2358 - val_accuracy: 0.7340 - val_loss: 1.0042 - learning_rate: 0.0050\n",
      "Epoch 180/200\n",
      "27/27 - 1s - 42ms/step - accuracy: 0.8975 - loss: 0.2470 - val_accuracy: 0.7447 - val_loss: 0.7482 - learning_rate: 0.0050\n",
      "Epoch 181/200\n",
      "27/27 - 1s - 41ms/step - accuracy: 0.8975 - loss: 0.2365 - val_accuracy: 0.7660 - val_loss: 0.5996 - learning_rate: 0.0050\n",
      "Epoch 182/200\n",
      "27/27 - 1s - 41ms/step - accuracy: 0.8999 - loss: 0.2541 - val_accuracy: 0.7872 - val_loss: 0.6332 - learning_rate: 0.0050\n",
      "Epoch 183/200\n",
      "27/27 - 1s - 41ms/step - accuracy: 0.9081 - loss: 0.2299 - val_accuracy: 0.7979 - val_loss: 0.5922 - learning_rate: 0.0050\n",
      "Epoch 184/200\n",
      "27/27 - 1s - 42ms/step - accuracy: 0.9069 - loss: 0.2237 - val_accuracy: 0.7872 - val_loss: 0.7470 - learning_rate: 0.0050\n",
      "Epoch 185/200\n",
      "27/27 - 1s - 43ms/step - accuracy: 0.9022 - loss: 0.2267 - val_accuracy: 0.7553 - val_loss: 0.9756 - learning_rate: 0.0050\n",
      "Epoch 186/200\n",
      "27/27 - 1s - 41ms/step - accuracy: 0.8987 - loss: 0.2514 - val_accuracy: 0.7766 - val_loss: 0.6463 - learning_rate: 0.0050\n",
      "Epoch 187/200\n",
      "27/27 - 1s - 40ms/step - accuracy: 0.9140 - loss: 0.1878 - val_accuracy: 0.7979 - val_loss: 0.6000 - learning_rate: 0.0050\n",
      "Epoch 188/200\n",
      "27/27 - 1s - 42ms/step - accuracy: 0.9140 - loss: 0.2166 - val_accuracy: 0.7766 - val_loss: 0.7348 - learning_rate: 0.0050\n",
      "Epoch 189/200\n",
      "27/27 - 1s - 41ms/step - accuracy: 0.9164 - loss: 0.2150 - val_accuracy: 0.8191 - val_loss: 0.8390 - learning_rate: 0.0050\n",
      "Epoch 190/200\n",
      "27/27 - 1s - 41ms/step - accuracy: 0.8952 - loss: 0.2534 - val_accuracy: 0.8085 - val_loss: 0.7638 - learning_rate: 0.0050\n",
      "Epoch 191/200\n",
      "27/27 - 1s - 41ms/step - accuracy: 0.8810 - loss: 0.2979 - val_accuracy: 0.7766 - val_loss: 0.7039 - learning_rate: 0.0050\n",
      "Epoch 192/200\n",
      "27/27 - 1s - 41ms/step - accuracy: 0.8963 - loss: 0.2543 - val_accuracy: 0.7340 - val_loss: 0.7821 - learning_rate: 0.0050\n",
      "Epoch 193/200\n",
      "27/27 - 1s - 41ms/step - accuracy: 0.9022 - loss: 0.2369 - val_accuracy: 0.7660 - val_loss: 0.7379 - learning_rate: 0.0050\n",
      "Epoch 194/200\n",
      "27/27 - 1s - 41ms/step - accuracy: 0.8857 - loss: 0.3023 - val_accuracy: 0.7979 - val_loss: 0.6154 - learning_rate: 0.0050\n",
      "Epoch 195/200\n",
      "27/27 - 1s - 40ms/step - accuracy: 0.8999 - loss: 0.2651 - val_accuracy: 0.7660 - val_loss: 0.6616 - learning_rate: 0.0050\n",
      "Epoch 196/200\n",
      "27/27 - 1s - 42ms/step - accuracy: 0.9058 - loss: 0.2318 - val_accuracy: 0.7660 - val_loss: 0.6391 - learning_rate: 0.0050\n",
      "Epoch 197/200\n",
      "27/27 - 1s - 42ms/step - accuracy: 0.9164 - loss: 0.2266 - val_accuracy: 0.8085 - val_loss: 0.5056 - learning_rate: 0.0050\n",
      "Epoch 198/200\n",
      "27/27 - 1s - 42ms/step - accuracy: 0.9164 - loss: 0.2039 - val_accuracy: 0.7766 - val_loss: 0.6803 - learning_rate: 0.0050\n",
      "Epoch 199/200\n",
      "27/27 - 1s - 41ms/step - accuracy: 0.9317 - loss: 0.1830 - val_accuracy: 0.7766 - val_loss: 0.6306 - learning_rate: 0.0050\n",
      "Epoch 200/200\n",
      "27/27 - 1s - 42ms/step - accuracy: 0.9282 - loss: 0.2000 - val_accuracy: 0.7553 - val_loss: 0.6911 - learning_rate: 0.0050\n"
     ]
    }
   ],
   "source": [
    "training_history = model.fit(\n",
    "    training_dataset,\n",
    "    epochs = epochs,\n",
    "    validation_data = validation_dataset,\n",
    "    callbacks = [lr_callback],\n",
    "    verbose = 2\n",
    ")"
   ]
  },
  {
   "cell_type": "code",
   "execution_count": 18,
   "id": "eb32643e-ba36-4ab6-bf3b-43313b52bfcf",
   "metadata": {},
   "outputs": [],
   "source": [
    "#from tensorflow.keras.models import load_model\n",
    "#model.save('gender_recognition_project04_v10.h5')"
   ]
  },
  {
   "cell_type": "code",
   "execution_count": 19,
   "id": "662ce52e-7f7c-47c7-9d63-f8d21a4ef5e0",
   "metadata": {},
   "outputs": [
    {
     "data": {
      "text/plain": [
       "['loss', 'compile_metrics']"
      ]
     },
     "execution_count": 19,
     "metadata": {},
     "output_type": "execute_result"
    }
   ],
   "source": [
    "model.metrics_names"
   ]
  },
  {
   "cell_type": "code",
   "execution_count": 20,
   "id": "cc16344a-bbc7-4ed5-a01e-39b651f802c8",
   "metadata": {},
   "outputs": [
    {
     "data": {
      "text/html": [
       "<div>\n",
       "<style scoped>\n",
       "    .dataframe tbody tr th:only-of-type {\n",
       "        vertical-align: middle;\n",
       "    }\n",
       "\n",
       "    .dataframe tbody tr th {\n",
       "        vertical-align: top;\n",
       "    }\n",
       "\n",
       "    .dataframe thead th {\n",
       "        text-align: right;\n",
       "    }\n",
       "</style>\n",
       "<table border=\"1\" class=\"dataframe\">\n",
       "  <thead>\n",
       "    <tr style=\"text-align: right;\">\n",
       "      <th></th>\n",
       "      <th>accuracy</th>\n",
       "      <th>loss</th>\n",
       "      <th>val_accuracy</th>\n",
       "      <th>val_loss</th>\n",
       "      <th>learning_rate</th>\n",
       "    </tr>\n",
       "  </thead>\n",
       "  <tbody>\n",
       "    <tr>\n",
       "      <th>0</th>\n",
       "      <td>0.555948</td>\n",
       "      <td>0.832396</td>\n",
       "      <td>0.617021</td>\n",
       "      <td>0.674906</td>\n",
       "      <td>0.005</td>\n",
       "    </tr>\n",
       "    <tr>\n",
       "      <th>1</th>\n",
       "      <td>0.592462</td>\n",
       "      <td>0.679671</td>\n",
       "      <td>0.627660</td>\n",
       "      <td>0.652668</td>\n",
       "      <td>0.005</td>\n",
       "    </tr>\n",
       "    <tr>\n",
       "      <th>2</th>\n",
       "      <td>0.525324</td>\n",
       "      <td>0.712406</td>\n",
       "      <td>0.553191</td>\n",
       "      <td>0.688235</td>\n",
       "      <td>0.005</td>\n",
       "    </tr>\n",
       "    <tr>\n",
       "      <th>3</th>\n",
       "      <td>0.553592</td>\n",
       "      <td>0.692208</td>\n",
       "      <td>0.425532</td>\n",
       "      <td>0.697869</td>\n",
       "      <td>0.005</td>\n",
       "    </tr>\n",
       "    <tr>\n",
       "      <th>4</th>\n",
       "      <td>0.558304</td>\n",
       "      <td>0.672670</td>\n",
       "      <td>0.563830</td>\n",
       "      <td>0.668525</td>\n",
       "      <td>0.005</td>\n",
       "    </tr>\n",
       "    <tr>\n",
       "      <th>5</th>\n",
       "      <td>0.583039</td>\n",
       "      <td>0.664957</td>\n",
       "      <td>0.500000</td>\n",
       "      <td>0.697726</td>\n",
       "      <td>0.005</td>\n",
       "    </tr>\n",
       "    <tr>\n",
       "      <th>6</th>\n",
       "      <td>0.625442</td>\n",
       "      <td>0.646881</td>\n",
       "      <td>0.617021</td>\n",
       "      <td>0.629814</td>\n",
       "      <td>0.005</td>\n",
       "    </tr>\n",
       "    <tr>\n",
       "      <th>7</th>\n",
       "      <td>0.666667</td>\n",
       "      <td>0.612469</td>\n",
       "      <td>0.638298</td>\n",
       "      <td>0.620745</td>\n",
       "      <td>0.005</td>\n",
       "    </tr>\n",
       "    <tr>\n",
       "      <th>8</th>\n",
       "      <td>0.699647</td>\n",
       "      <td>0.610896</td>\n",
       "      <td>0.638298</td>\n",
       "      <td>0.630342</td>\n",
       "      <td>0.005</td>\n",
       "    </tr>\n",
       "    <tr>\n",
       "      <th>9</th>\n",
       "      <td>0.644287</td>\n",
       "      <td>0.633909</td>\n",
       "      <td>0.531915</td>\n",
       "      <td>0.742274</td>\n",
       "      <td>0.005</td>\n",
       "    </tr>\n",
       "    <tr>\n",
       "      <th>10</th>\n",
       "      <td>0.697291</td>\n",
       "      <td>0.582642</td>\n",
       "      <td>0.659574</td>\n",
       "      <td>0.697662</td>\n",
       "      <td>0.005</td>\n",
       "    </tr>\n",
       "    <tr>\n",
       "      <th>11</th>\n",
       "      <td>0.712603</td>\n",
       "      <td>0.566061</td>\n",
       "      <td>0.659574</td>\n",
       "      <td>0.650124</td>\n",
       "      <td>0.005</td>\n",
       "    </tr>\n",
       "    <tr>\n",
       "      <th>12</th>\n",
       "      <td>0.696113</td>\n",
       "      <td>0.592408</td>\n",
       "      <td>0.531915</td>\n",
       "      <td>0.723790</td>\n",
       "      <td>0.005</td>\n",
       "    </tr>\n",
       "    <tr>\n",
       "      <th>13</th>\n",
       "      <td>0.716137</td>\n",
       "      <td>0.568715</td>\n",
       "      <td>0.627660</td>\n",
       "      <td>0.638019</td>\n",
       "      <td>0.005</td>\n",
       "    </tr>\n",
       "    <tr>\n",
       "      <th>14</th>\n",
       "      <td>0.698469</td>\n",
       "      <td>0.569833</td>\n",
       "      <td>0.648936</td>\n",
       "      <td>0.609397</td>\n",
       "      <td>0.005</td>\n",
       "    </tr>\n",
       "  </tbody>\n",
       "</table>\n",
       "</div>"
      ],
      "text/plain": [
       "    accuracy      loss  val_accuracy  val_loss  learning_rate\n",
       "0   0.555948  0.832396      0.617021  0.674906          0.005\n",
       "1   0.592462  0.679671      0.627660  0.652668          0.005\n",
       "2   0.525324  0.712406      0.553191  0.688235          0.005\n",
       "3   0.553592  0.692208      0.425532  0.697869          0.005\n",
       "4   0.558304  0.672670      0.563830  0.668525          0.005\n",
       "5   0.583039  0.664957      0.500000  0.697726          0.005\n",
       "6   0.625442  0.646881      0.617021  0.629814          0.005\n",
       "7   0.666667  0.612469      0.638298  0.620745          0.005\n",
       "8   0.699647  0.610896      0.638298  0.630342          0.005\n",
       "9   0.644287  0.633909      0.531915  0.742274          0.005\n",
       "10  0.697291  0.582642      0.659574  0.697662          0.005\n",
       "11  0.712603  0.566061      0.659574  0.650124          0.005\n",
       "12  0.696113  0.592408      0.531915  0.723790          0.005\n",
       "13  0.716137  0.568715      0.627660  0.638019          0.005\n",
       "14  0.698469  0.569833      0.648936  0.609397          0.005"
      ]
     },
     "execution_count": 20,
     "metadata": {},
     "output_type": "execute_result"
    }
   ],
   "source": [
    "result_history = pd.DataFrame(model.history.history)\n",
    "result_history.head(15)"
   ]
  },
  {
   "cell_type": "code",
   "execution_count": 21,
   "id": "89d8df04-5bbc-4d47-a131-1e4a3a1c7ea8",
   "metadata": {},
   "outputs": [
    {
     "data": {
      "text/plain": [
       "<Axes: >"
      ]
     },
     "execution_count": 21,
     "metadata": {},
     "output_type": "execute_result"
    },
    {
     "data": {
      "image/png": "[encoded data removed]",
      "text/plain": [
       "<Figure size 500x300 with 1 Axes>"
      ]
     },
     "metadata": {},
     "output_type": "display_data"
    }
   ],
   "source": [
    "result_history[['loss', 'val_loss']].plot(figsize=(5, 3))"
   ]
  },
  {
   "cell_type": "code",
   "execution_count": 22,
   "id": "a2b61e9e-deaf-4f91-8b90-d23082a18b5f",
   "metadata": {},
   "outputs": [
    {
     "data": {
      "text/plain": [
       "<Axes: >"
      ]
     },
     "execution_count": 22,
     "metadata": {},
     "output_type": "execute_result"
    },
    {
     "data": {
      "image/png": "[encoded data removed]",
      "text/plain": [
       "<Figure size 500x300 with 1 Axes>"
      ]
     },
     "metadata": {},
     "output_type": "display_data"
    }
   ],
   "source": [
    "result_history[['accuracy', 'val_accuracy']].plot(figsize=(5, 3))"
   ]
  },
  {
   "cell_type": "code",
   "execution_count": 23,
   "id": "4b259fcb-df40-4d21-a911-032373c25358",
   "metadata": {},
   "outputs": [
    {
     "name": "stdout",
     "output_type": "stream",
     "text": [
      "['loss', 'compile_metrics']\n",
      "\u001b[1m3/3\u001b[0m \u001b[32m━━━━━━━━━━━━━━━━━━━━\u001b[0m\u001b[37m\u001b[0m \u001b[1m0s\u001b[0m 16ms/step - accuracy: 0.7488 - loss: 0.7961\n",
      "[0.6911370158195496, 0.7553191781044006]\n"
     ]
    }
   ],
   "source": [
    "print(model.metrics_names)\n",
    "print(model.evaluate(validation_dataset))"
   ]
  },
  {
   "cell_type": "code",
   "execution_count": 24,
   "id": "86ce3add-a314-4d29-91ea-76cb3ba57cd4",
   "metadata": {},
   "outputs": [
    {
     "name": "stdout",
     "output_type": "stream",
     "text": [
      "\u001b[1m3/3\u001b[0m \u001b[32m━━━━━━━━━━━━━━━━━━━━\u001b[0m\u001b[37m\u001b[0m \u001b[1m0s\u001b[0m 55ms/step\n",
      "Classification Report:\n",
      "               precision    recall  f1-score   support\n",
      "\n",
      "      Female       0.71      0.73      0.72        41\n",
      "        Male       0.79      0.77      0.78        53\n",
      "\n",
      "    accuracy                           0.76        94\n",
      "   macro avg       0.75      0.75      0.75        94\n",
      "weighted avg       0.76      0.76      0.76        94\n",
      "\n"
     ]
    }
   ],
   "source": [
    "from sklearn.metrics import classification_report, confusion_matrix\n",
    "\n",
    "y_true = np.concatenate([y.numpy() for _, y in validation_dataset])\n",
    "y_pred_prob = model.predict(validation_dataset)\n",
    "# Convert probabilities to class labels (0:Female or 1:Male)\n",
    "y_pred = (y_pred_prob > 0.5).astype(int).flatten()\n",
    "\n",
    "print(\"Classification Report:\\n\", classification_report(y_true, y_pred, target_names=['Female', 'Male']))"
   ]
  },
  {
   "cell_type": "code",
   "execution_count": 25,
   "id": "063526cc-e2a0-4c8c-b01c-47ae3654a25c",
   "metadata": {},
   "outputs": [
    {
     "name": "stderr",
     "output_type": "stream",
     "text": [
      "WARNING:absl:Compiled the loaded model, but the compiled metrics have yet to be built. `model.compile_metrics` will be empty until you train or evaluate the model.\n"
     ]
    },
    {
     "name": "stdout",
     "output_type": "stream",
     "text": [
      "\u001b[1m1/1\u001b[0m \u001b[32m━━━━━━━━━━━━━━━━━━━━\u001b[0m\u001b[37m\u001b[0m \u001b[1m0s\u001b[0m 243ms/step\n",
      "\u001b[1m1/1\u001b[0m \u001b[32m━━━━━━━━━━━━━━━━━━━━\u001b[0m\u001b[37m\u001b[0m \u001b[1m0s\u001b[0m 82ms/step\n",
      "Prediction result: Male (confidence= 94.19 %)\n"
     ]
    },
    {
     "ename": "NameError",
     "evalue": "name 'visualization_model' is not defined",
     "output_type": "error",
     "traceback": [
      "\u001b[1;31m---------------------------------------------------------------------------\u001b[0m",
      "\u001b[1;31mNameError\u001b[0m                                 Traceback (most recent call last)",
      "Cell \u001b[1;32mIn[25], line 26\u001b[0m\n\u001b[0;32m     23\u001b[0m \u001b[38;5;28mprint\u001b[39m(\u001b[38;5;124mf\u001b[39m\u001b[38;5;124m\"\u001b[39m\u001b[38;5;124mPrediction result: \u001b[39m\u001b[38;5;132;01m{\u001b[39;00mresult\u001b[38;5;132;01m}\u001b[39;00m\u001b[38;5;124m (confidence= \u001b[39m\u001b[38;5;132;01m{\u001b[39;00mconfidence\u001b[38;5;132;01m:\u001b[39;00m\u001b[38;5;124m.2f\u001b[39m\u001b[38;5;132;01m}\u001b[39;00m\u001b[38;5;124m %)\u001b[39m\u001b[38;5;124m\"\u001b[39m)\n\u001b[0;32m     25\u001b[0m \u001b[38;5;66;03m# Visualize CNN Layers\u001b[39;00m\n\u001b[1;32m---> 26\u001b[0m successive_feature_maps \u001b[38;5;241m=\u001b[39m visualization_model\u001b[38;5;241m.\u001b[39mpredict(final_img)\n\u001b[0;32m     27\u001b[0m layer_names \u001b[38;5;241m=\u001b[39m [layer\u001b[38;5;241m.\u001b[39mname \u001b[38;5;28;01mfor\u001b[39;00m layer \u001b[38;5;129;01min\u001b[39;00m model\u001b[38;5;241m.\u001b[39mlayers]\n\u001b[0;32m     29\u001b[0m \u001b[38;5;28;01mfor\u001b[39;00m layer_name, feature_map \u001b[38;5;129;01min\u001b[39;00m \u001b[38;5;28mzip\u001b[39m(layer_names, successive_feature_maps):\n",
      "\u001b[1;31mNameError\u001b[0m: name 'visualization_model' is not defined"
     ]
    }
   ],
   "source": [
    "import tensorflow as tf\n",
    "import numpy as np\n",
    "import matplotlib.pyplot as plt\n",
    "from tensorflow.keras.models import Model\n",
    "from tensorflow.keras.utils import load_img, img_to_array\n",
    "\n",
    "img_size = img_size\n",
    "model = tf.keras.models.load_model(\"gender_recognition_project04_v10.h5\")\n",
    "\n",
    "# Load your personal image if you are interested to predict:\n",
    "your_image_path = \"D:\\\\Hossein's desktop files in Microsoft Studio Laptop\\\\Personal Photos\\\\Hossein_10.jpg\"\n",
    "\n",
    "img = load_img(your_image_path, target_size=(img_size, img_size))\n",
    "final_img = img_to_array(img)\n",
    "# Adding a batch dimension:\n",
    "final_img = np.expand_dims(final_img, axis=0)\n",
    "prediction = model.predict(final_img)\n",
    "result = \"Female\" if prediction > 0.5 else \"Male\"\n",
    "if result==\"Female\":\n",
    "    confidence = (model.predict(final_img)[0][0])*100\n",
    "else:\n",
    "    confidence = (1-model.predict(final_img)[0][0])*100\n",
    "print(f\"Prediction result: {result} (confidence= {confidence:.2f} %)\")\n",
    "\n",
    "# Visualize CNN Layers\n",
    "successive_feature_maps = visualization_model.predict(final_img)\n",
    "layer_names = [layer.name for layer in model.layers]\n",
    "\n",
    "for layer_name, feature_map in zip(layer_names, successive_feature_maps):\n",
    "    if len(feature_map.shape) == 4:  # Only visualize conv/maxpool layers\n",
    "        n_features = feature_map.shape[-1]  # Number of filters\n",
    "        size = feature_map.shape[1]  # Feature map size\n",
    "        display_grid = np.zeros((size, size * n_features))\n",
    "\n",
    "        for i in range(n_features):\n",
    "            x = feature_map[0, :, :, i]\n",
    "            x -= x.mean()\n",
    "            x /= (x.std() + 1e-8)  # Normalize\n",
    "            x *= 64\n",
    "            x += 128\n",
    "            x = np.clip(x, 0, 255).astype('uint8')  # Convert to image format\n",
    "            display_grid[:, i * size: (i + 1) * size] = x\n",
    "\n",
    "        scale = 20. / n_features\n",
    "        plt.figure(figsize=(scale * n_features, scale))\n",
    "        plt.title(layer_name)\n",
    "        plt.grid(False)\n",
    "        plt.imshow(display_grid, aspect='auto', cmap='cividis')\n",
    "        plt.show()"
   ]
  },
  {
   "cell_type": "code",
   "execution_count": null,
   "id": "4199738b-2405-4223-9eae-21b5840224a9",
   "metadata": {},
   "outputs": [],
   "source": []
  },
  {
   "cell_type": "code",
   "execution_count": null,
   "id": "72a87fb2-d828-420e-883f-709ca46ba4e6",
   "metadata": {},
   "outputs": [],
   "source": []
  },
  {
   "cell_type": "code",
   "execution_count": null,
   "id": "5fb26553-bde6-4c23-ba84-69763691803d",
   "metadata": {},
   "outputs": [],
   "source": []
  }
 ],
 "metadata": {
  "kernelspec": {
   "display_name": "Python 3 (ipykernel)",
   "language": "python",
   "name": "python3"
  },
  "language_info": {
   "codemirror_mode": {
    "name": "ipython",
    "version": 3
   },
   "file_extension": ".py",
   "mimetype": "text/x-python",
   "name": "python",
   "nbconvert_exporter": "python",
   "pygments_lexer": "ipython3",
   "version": "3.12.3"
  }
 },
 "nbformat": 4,
 "nbformat_minor": 5
}
