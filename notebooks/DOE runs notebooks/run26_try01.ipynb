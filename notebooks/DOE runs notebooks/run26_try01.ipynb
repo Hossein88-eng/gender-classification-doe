{
 "cells": [
  {
   "cell_type": "code",
   "execution_count": 1,
   "id": "40aaebb4-037c-4ca4-a4c7-b63f03b071b7",
   "metadata": {},
   "outputs": [],
   "source": [
    "import pandas as pd\n",
    "import numpy as np\n",
    "import matplotlib.pyplot as plt\n",
    "%matplotlib inline\n",
    "import matplotlib.image as mpimg\n",
    "import tensorflow as tf"
   ]
  },
  {
   "cell_type": "code",
   "execution_count": 2,
   "id": "cfe0da97-852e-4243-a988-848082ac2201",
   "metadata": {},
   "outputs": [],
   "source": [
    "# default initial values of DOE factors:\n",
    "# learning_rate = 0.001\n",
    "# dropout_value = 0.3\n",
    "# #n-conv_layers = 3\n",
    "# n_units_last_layer = 2048\n",
    "# n_filters_l1 = 32\n",
    "# n_filters_l2 = 16"
   ]
  },
  {
   "cell_type": "code",
   "execution_count": 3,
   "id": "e168a015-372f-4ba6-be82-501458ed9547",
   "metadata": {},
   "outputs": [],
   "source": [
    "# DOE factors:\n",
    "learning_rate = 0.005\n",
    "dropout_value = 0.2\n",
    "# n-conv_layers = 4\n",
    "n_units_last_layer = 4096\n",
    "n_filters_l1 = 32\n",
    "n_filters_l2 = 64"
   ]
  },
  {
   "cell_type": "code",
   "execution_count": 4,
   "id": "3f023191-b81d-488e-bcf7-47cb6de0ed76",
   "metadata": {},
   "outputs": [],
   "source": [
    "# other factors:\n",
    "img_size = 130\n",
    "batch_size = 32\n",
    "validation_split = 0.1  # 10% for validation\n",
    "test_split = 0.00  # 0% for testing\n",
    "shuffle_buffer_size = 1000\n",
    "seed_num = 101\n",
    "desired_accuracy = 0.99  # it should be active if EarlyStoppingCallback is activated\n",
    "loss = 'binary_crossentropy'\n",
    "#optimizer = tf.keras.optimizers.RMSprop(learning_rate=learning_rate)\n",
    "optimizer = tf.keras.optimizers.Adam(learning_rate=learning_rate)\n",
    "metrics = ['accuracy']\n",
    "epochs = 15\n",
    "f_mode = 'nearest'  # fill_mode in image augmentation"
   ]
  },
  {
   "cell_type": "markdown",
   "id": "0ef4c91d-2f8f-4aad-8f3d-b5c4083437ab",
   "metadata": {},
   "source": [
    "    My dataset_root/\n",
    "    ├── woman/\n",
    "    │   ├── woman_1.jpg\n",
    "    │   ├── woman_2.jpg\n",
    "    │   ├── ...\n",
    "    ├── man/\n",
    "    │   ├── man_1.jpg\n",
    "    │   ├── man_2.jpg\n",
    "    │   ├── ..."
   ]
  },
  {
   "cell_type": "code",
   "execution_count": 6,
   "id": "a63419a3-8c4c-420c-a1ee-81d06c316f18",
   "metadata": {},
   "outputs": [
    {
     "name": "stdout",
     "output_type": "stream",
     "text": [
      "There are 471 images of woman.\n",
      "There are 472 images of man.\n"
     ]
    }
   ],
   "source": [
    "import os\n",
    "\n",
    "DATA_DIR = \"D:\\\\CS online courses\\\\Free DataSets\\\\Free Images\\\\Easier portrait images_GPU_03\"\n",
    "\n",
    "# Subdirectories for each class\n",
    "data_dir_woman = os.path.join(DATA_DIR, 'woman')\n",
    "data_dir_man = os.path.join(DATA_DIR, 'man')\n",
    "\n",
    "# os.listdir returns a list containing all files under the given dir\n",
    "print(f\"There are {len(os.listdir(data_dir_woman))} images of woman.\")\n",
    "print(f\"There are {len(os.listdir(data_dir_man))} images of man.\")"
   ]
  },
  {
   "cell_type": "code",
   "execution_count": 7,
   "id": "ef0d2806-2487-4ac5-97c4-ff2210416dcc",
   "metadata": {},
   "outputs": [
    {
     "name": "stdout",
     "output_type": "stream",
     "text": [
      "Found 943 files belonging to 2 classes.\n",
      "Using 849 files for training.\n",
      "Found 943 files belonging to 2 classes.\n",
      "Using 94 files for validation.\n",
      "Train batches: 27\n",
      "Validation batches: 3\n",
      "Test batches: 0\n"
     ]
    }
   ],
   "source": [
    "image_size = (img_size, img_size)  # Resize images to this size\n",
    "\n",
    "# Load train dataset (excluding validation & test set):\n",
    "train_dataset = tf.keras.utils.image_dataset_from_directory(\n",
    "    directory = DATA_DIR,\n",
    "    image_size = image_size,\n",
    "    batch_size = batch_size,\n",
    "    label_mode='binary',\n",
    "    validation_split = validation_split + test_split,  # Total split for val + test\n",
    "    subset = \"training\",\n",
    "    seed = seed_num\n",
    ")\n",
    "\n",
    "# Load validation dataset\n",
    "val_dataset = tf.keras.utils.image_dataset_from_directory(\n",
    "    directory = DATA_DIR,\n",
    "    image_size = image_size,\n",
    "    batch_size = batch_size,\n",
    "    label_mode='binary',\n",
    "    validation_split = validation_split + test_split,\n",
    "    subset = \"validation\",\n",
    "    seed = seed_num\n",
    ")\n",
    "\n",
    "# Further manually split validation dataset to extract test dataset\n",
    "val_batches = tf.data.experimental.cardinality(val_dataset)\n",
    "# Compute test dataset size (number of batches)\n",
    "test_size = round(val_batches.numpy() * (test_split / (validation_split + test_split)))\n",
    "# Split validation dataset into validation and test subsets\n",
    "test_dataset = val_dataset.take(test_size)\n",
    "val_dataset = val_dataset.skip(test_size)\n",
    "\n",
    "\n",
    "print(f\"Train batches: {tf.data.experimental.cardinality(train_dataset).numpy()}\")\n",
    "print(f\"Validation batches: {tf.data.experimental.cardinality(val_dataset).numpy()}\")\n",
    "print(f\"Test batches: {tf.data.experimental.cardinality(test_dataset).numpy()}\")\n",
    "\n",
    "# Optimize for performance\n",
    "AUTOTUNE = tf.data.AUTOTUNE\n",
    "training_dataset = train_dataset.cache().shuffle(shuffle_buffer_size).prefetch(buffer_size = AUTOTUNE)\n",
    "validation_dataset = val_dataset.cache().prefetch(buffer_size = AUTOTUNE)\n",
    "test_dataset = test_dataset.cache().prefetch(buffer_size = AUTOTUNE)"
   ]
  },
  {
   "cell_type": "code",
   "execution_count": 8,
   "id": "96d9e533-9ca2-45af-af85-a7e030fa184b",
   "metadata": {},
   "outputs": [
    {
     "name": "stdout",
     "output_type": "stream",
     "text": [
      "Maximum pixel value of images: 255.0\n",
      "\n",
      "Shape of batch of images: (32, 130, 130, 3)\n",
      "Shape of batch of labels: (32, 1)\n"
     ]
    }
   ],
   "source": [
    "# Get the first batch of images and labels\n",
    "for images, labels in training_dataset.take(1):\n",
    "\texample_batch_images = images\n",
    "\texample_batch_labels = labels\n",
    "\n",
    "max_pixel = np.max(example_batch_images)\n",
    "print(f\"Maximum pixel value of images: {max_pixel}\\n\")\n",
    "print(f\"Shape of batch of images: {example_batch_images.shape}\")\n",
    "print(f\"Shape of batch of labels: {example_batch_labels.shape}\")"
   ]
  },
  {
   "cell_type": "code",
   "execution_count": 9,
   "id": "85453247-adf0-4e7d-8924-f86415759f1f",
   "metadata": {},
   "outputs": [
    {
     "data": {
      "text/plain": [
       "'\\nclass EarlyStoppingCallback(tf.keras.callbacks.Callback):\\n    def on_epoch_end(self, epoch, logs=None):\\n        train_accuracy = logs.get(\\'accuracy\\')\\n        val_accuracy = logs.get(\\'val_accuracy\\')\\n        if train_accuracy >= desired_accuracy and val_accuracy >= desired_accuracy:\\n            self.model.stop_training = True\\n            print(f\"\\nReached {desired_accuracy}% accuracy so cancelling training!\")\\n'"
      ]
     },
     "execution_count": 9,
     "metadata": {},
     "output_type": "execute_result"
    }
   ],
   "source": [
    "'''\n",
    "class EarlyStoppingCallback(tf.keras.callbacks.Callback):\n",
    "    def on_epoch_end(self, epoch, logs=None):\n",
    "        train_accuracy = logs.get('accuracy')\n",
    "        val_accuracy = logs.get('val_accuracy')\n",
    "        if train_accuracy >= desired_accuracy and val_accuracy >= desired_accuracy:\n",
    "            self.model.stop_training = True\n",
    "            print(f\"\\nReached {desired_accuracy}% accuracy so cancelling training!\")\n",
    "'''"
   ]
  },
  {
   "cell_type": "code",
   "execution_count": 10,
   "id": "7906f3e8-d63c-4210-b096-5ee54e2c1895",
   "metadata": {},
   "outputs": [
    {
     "data": {
      "text/plain": [
       "\"\\nfrom tensorflow.keras.callbacks import EarlyStopping\\nearly_stop = EarlyStopping(monitor='val_loss', patience=3)\\n\""
      ]
     },
     "execution_count": 10,
     "metadata": {},
     "output_type": "execute_result"
    }
   ],
   "source": [
    "'''\n",
    "from tensorflow.keras.callbacks import EarlyStopping\n",
    "early_stop = EarlyStopping(monitor='val_loss', patience=3)\n",
    "'''"
   ]
  },
  {
   "cell_type": "code",
   "execution_count": 11,
   "id": "8b7fe37b-3831-478d-9fd5-d018ce786472",
   "metadata": {},
   "outputs": [],
   "source": [
    "from tensorflow.keras.callbacks import LearningRateScheduler\n",
    "\n",
    "# Reduce LR every 10 epochs (Learning rate decay factor)\n",
    "def scheduler(epoch, lr):\n",
    "    if epoch % 10 == 0 and epoch > 0:\n",
    "        return lr * 1.0\n",
    "    return lr\n",
    "\n",
    "lr_callback = LearningRateScheduler(scheduler)"
   ]
  },
  {
   "cell_type": "code",
   "execution_count": 12,
   "id": "06db003d-e408-472a-986b-54e0728db183",
   "metadata": {},
   "outputs": [],
   "source": [
    "# augmentation_model\n",
    "def augment_model():\n",
    "    \"\"\"Creates a model (layers stacked on top of each other) for augmenting images of woman and man.\n",
    "\n",
    "    Returns:\n",
    "        tf.keras.Model: The model made up of the layers that will be used to augment the images of woman and man.\n",
    "    \"\"\"\n",
    "\n",
    "    augmentation_model = tf.keras.Sequential([\n",
    "        # Specify the input shape.\n",
    "        tf.keras.Input(shape = (img_size, img_size, 3)),\n",
    "        \n",
    "        tf.keras.layers.RandomFlip(\"horizontal\"),\n",
    "        tf.keras.layers.RandomRotation(0.1, fill_mode = f_mode),\n",
    "        #tf.keras.layers.RandomTranslation(0.1, 0.1, fill_mode = f_mode),\n",
    "        #tf.keras.layers.RandomZoom(0.1, fill_mode=f_mode)\n",
    "        ])\n",
    "\n",
    "    return augmentation_model"
   ]
  },
  {
   "cell_type": "code",
   "execution_count": 13,
   "id": "57d8ea70-8df3-4dd5-93e0-013cd42546e6",
   "metadata": {},
   "outputs": [],
   "source": [
    "def create_and_compile_model():\n",
    "    \"\"\"Creates, compiles and trains the model to predict woman and man images.\n",
    "\n",
    "    Returns:\n",
    "        tf.keras.Model: The model that will be trained to predict woman and man images.\n",
    "    \"\"\"\n",
    "\n",
    "    augmentation_layers = augment_model()\n",
    "    \n",
    "    model = tf.keras.Sequential([\n",
    "        # Note: the input shape is the desired size of the image: 150x150 with 3 bytes for color\n",
    "        tf.keras.layers.InputLayer(shape = (img_size, img_size, 3)),\n",
    "        augmentation_layers,\n",
    "        tf.keras.layers.Rescaling(1./255),\n",
    "        #####    CONV_LAYER_1:     #####\n",
    "        tf.keras.layers.Conv2D(n_filters_l1, (4, 4), activation = 'linear'),\n",
    "        tf.keras.layers.MaxPooling2D(2, 2),\n",
    "        #####    CONV_LAYER_2:     #####\n",
    "        tf.keras.layers.Conv2D(n_filters_l2, (3, 3), activation = 'relu'),\n",
    "        tf.keras.layers.MaxPooling2D(2, 2),\n",
    "        #####    CONV_LAYER_3:     #####\n",
    "        tf.keras.layers.Conv2D(64, (3, 3), activation = 'relu'),\n",
    "        tf.keras.layers.MaxPooling2D(2, 2),\n",
    "        #####    CONV_LAYER_4:     #####\n",
    "        tf.keras.layers.Conv2D(64, (3, 3), activation = 'relu'),\n",
    "        tf.keras.layers.MaxPooling2D(2, 2),\n",
    "        tf.keras.layers.Flatten(),\n",
    "        tf.keras.layers.Dropout(dropout_value),\n",
    "        #####    BEFORE_LAST_LAYER:     #####\n",
    "        tf.keras.layers.Dense(n_units_last_layer, activation = 'relu'),\n",
    "        # It will contain a value from 0-1 where 0 for the class 'female' and 1 for the 'male'\n",
    "        tf.keras.layers.Dense(1, activation = 'sigmoid')]) \n",
    "\n",
    "    model.compile(\n",
    "        loss = loss,\n",
    "        optimizer = optimizer,\n",
    "        metrics = metrics\n",
    "    )\n",
    "\n",
    "    return model"
   ]
  },
  {
   "cell_type": "code",
   "execution_count": 14,
   "id": "0ecc4042-af60-4d6a-a989-f81761b5bc1f",
   "metadata": {},
   "outputs": [
    {
     "data": {
      "text/html": [
       "<pre style=\"white-space:pre;overflow-x:auto;line-height:normal;font-family:Menlo,'DejaVu Sans Mono',consolas,'Courier New',monospace\"><span style=\"font-weight: bold\">Model: \"sequential_1\"</span>\n",
       "</pre>\n"
      ],
      "text/plain": [
       "\u001b[1mModel: \"sequential_1\"\u001b[0m\n"
      ]
     },
     "metadata": {},
     "output_type": "display_data"
    },
    {
     "data": {
      "text/html": [
       "<pre style=\"white-space:pre;overflow-x:auto;line-height:normal;font-family:Menlo,'DejaVu Sans Mono',consolas,'Courier New',monospace\">┏━━━━━━━━━━━━━━━━━━━━━━━━━━━━━━━━━┳━━━━━━━━━━━━━━━━━━━━━━━━┳━━━━━━━━━━━━━━━┓\n",
       "┃<span style=\"font-weight: bold\"> Layer (type)                    </span>┃<span style=\"font-weight: bold\"> Output Shape           </span>┃<span style=\"font-weight: bold\">       Param # </span>┃\n",
       "┡━━━━━━━━━━━━━━━━━━━━━━━━━━━━━━━━━╇━━━━━━━━━━━━━━━━━━━━━━━━╇━━━━━━━━━━━━━━━┩\n",
       "│ sequential (<span style=\"color: #0087ff; text-decoration-color: #0087ff\">Sequential</span>)         │ (<span style=\"color: #00d7ff; text-decoration-color: #00d7ff\">None</span>, <span style=\"color: #00af00; text-decoration-color: #00af00\">130</span>, <span style=\"color: #00af00; text-decoration-color: #00af00\">130</span>, <span style=\"color: #00af00; text-decoration-color: #00af00\">3</span>)    │             <span style=\"color: #00af00; text-decoration-color: #00af00\">0</span> │\n",
       "├─────────────────────────────────┼────────────────────────┼───────────────┤\n",
       "│ rescaling (<span style=\"color: #0087ff; text-decoration-color: #0087ff\">Rescaling</span>)           │ (<span style=\"color: #00d7ff; text-decoration-color: #00d7ff\">None</span>, <span style=\"color: #00af00; text-decoration-color: #00af00\">130</span>, <span style=\"color: #00af00; text-decoration-color: #00af00\">130</span>, <span style=\"color: #00af00; text-decoration-color: #00af00\">3</span>)    │             <span style=\"color: #00af00; text-decoration-color: #00af00\">0</span> │\n",
       "├─────────────────────────────────┼────────────────────────┼───────────────┤\n",
       "│ conv2d (<span style=\"color: #0087ff; text-decoration-color: #0087ff\">Conv2D</span>)                 │ (<span style=\"color: #00d7ff; text-decoration-color: #00d7ff\">None</span>, <span style=\"color: #00af00; text-decoration-color: #00af00\">127</span>, <span style=\"color: #00af00; text-decoration-color: #00af00\">127</span>, <span style=\"color: #00af00; text-decoration-color: #00af00\">8</span>)    │           <span style=\"color: #00af00; text-decoration-color: #00af00\">392</span> │\n",
       "├─────────────────────────────────┼────────────────────────┼───────────────┤\n",
       "│ max_pooling2d (<span style=\"color: #0087ff; text-decoration-color: #0087ff\">MaxPooling2D</span>)    │ (<span style=\"color: #00d7ff; text-decoration-color: #00d7ff\">None</span>, <span style=\"color: #00af00; text-decoration-color: #00af00\">63</span>, <span style=\"color: #00af00; text-decoration-color: #00af00\">63</span>, <span style=\"color: #00af00; text-decoration-color: #00af00\">8</span>)      │             <span style=\"color: #00af00; text-decoration-color: #00af00\">0</span> │\n",
       "├─────────────────────────────────┼────────────────────────┼───────────────┤\n",
       "│ conv2d_1 (<span style=\"color: #0087ff; text-decoration-color: #0087ff\">Conv2D</span>)               │ (<span style=\"color: #00d7ff; text-decoration-color: #00d7ff\">None</span>, <span style=\"color: #00af00; text-decoration-color: #00af00\">61</span>, <span style=\"color: #00af00; text-decoration-color: #00af00\">61</span>, <span style=\"color: #00af00; text-decoration-color: #00af00\">64</span>)     │         <span style=\"color: #00af00; text-decoration-color: #00af00\">4,672</span> │\n",
       "├─────────────────────────────────┼────────────────────────┼───────────────┤\n",
       "│ max_pooling2d_1 (<span style=\"color: #0087ff; text-decoration-color: #0087ff\">MaxPooling2D</span>)  │ (<span style=\"color: #00d7ff; text-decoration-color: #00d7ff\">None</span>, <span style=\"color: #00af00; text-decoration-color: #00af00\">30</span>, <span style=\"color: #00af00; text-decoration-color: #00af00\">30</span>, <span style=\"color: #00af00; text-decoration-color: #00af00\">64</span>)     │             <span style=\"color: #00af00; text-decoration-color: #00af00\">0</span> │\n",
       "├─────────────────────────────────┼────────────────────────┼───────────────┤\n",
       "│ conv2d_2 (<span style=\"color: #0087ff; text-decoration-color: #0087ff\">Conv2D</span>)               │ (<span style=\"color: #00d7ff; text-decoration-color: #00d7ff\">None</span>, <span style=\"color: #00af00; text-decoration-color: #00af00\">28</span>, <span style=\"color: #00af00; text-decoration-color: #00af00\">28</span>, <span style=\"color: #00af00; text-decoration-color: #00af00\">64</span>)     │        <span style=\"color: #00af00; text-decoration-color: #00af00\">36,928</span> │\n",
       "├─────────────────────────────────┼────────────────────────┼───────────────┤\n",
       "│ max_pooling2d_2 (<span style=\"color: #0087ff; text-decoration-color: #0087ff\">MaxPooling2D</span>)  │ (<span style=\"color: #00d7ff; text-decoration-color: #00d7ff\">None</span>, <span style=\"color: #00af00; text-decoration-color: #00af00\">14</span>, <span style=\"color: #00af00; text-decoration-color: #00af00\">14</span>, <span style=\"color: #00af00; text-decoration-color: #00af00\">64</span>)     │             <span style=\"color: #00af00; text-decoration-color: #00af00\">0</span> │\n",
       "├─────────────────────────────────┼────────────────────────┼───────────────┤\n",
       "│ conv2d_3 (<span style=\"color: #0087ff; text-decoration-color: #0087ff\">Conv2D</span>)               │ (<span style=\"color: #00d7ff; text-decoration-color: #00d7ff\">None</span>, <span style=\"color: #00af00; text-decoration-color: #00af00\">12</span>, <span style=\"color: #00af00; text-decoration-color: #00af00\">12</span>, <span style=\"color: #00af00; text-decoration-color: #00af00\">64</span>)     │        <span style=\"color: #00af00; text-decoration-color: #00af00\">36,928</span> │\n",
       "├─────────────────────────────────┼────────────────────────┼───────────────┤\n",
       "│ max_pooling2d_3 (<span style=\"color: #0087ff; text-decoration-color: #0087ff\">MaxPooling2D</span>)  │ (<span style=\"color: #00d7ff; text-decoration-color: #00d7ff\">None</span>, <span style=\"color: #00af00; text-decoration-color: #00af00\">6</span>, <span style=\"color: #00af00; text-decoration-color: #00af00\">6</span>, <span style=\"color: #00af00; text-decoration-color: #00af00\">64</span>)       │             <span style=\"color: #00af00; text-decoration-color: #00af00\">0</span> │\n",
       "├─────────────────────────────────┼────────────────────────┼───────────────┤\n",
       "│ flatten (<span style=\"color: #0087ff; text-decoration-color: #0087ff\">Flatten</span>)               │ (<span style=\"color: #00d7ff; text-decoration-color: #00d7ff\">None</span>, <span style=\"color: #00af00; text-decoration-color: #00af00\">2304</span>)           │             <span style=\"color: #00af00; text-decoration-color: #00af00\">0</span> │\n",
       "├─────────────────────────────────┼────────────────────────┼───────────────┤\n",
       "│ dropout (<span style=\"color: #0087ff; text-decoration-color: #0087ff\">Dropout</span>)               │ (<span style=\"color: #00d7ff; text-decoration-color: #00d7ff\">None</span>, <span style=\"color: #00af00; text-decoration-color: #00af00\">2304</span>)           │             <span style=\"color: #00af00; text-decoration-color: #00af00\">0</span> │\n",
       "├─────────────────────────────────┼────────────────────────┼───────────────┤\n",
       "│ dense (<span style=\"color: #0087ff; text-decoration-color: #0087ff\">Dense</span>)                   │ (<span style=\"color: #00d7ff; text-decoration-color: #00d7ff\">None</span>, <span style=\"color: #00af00; text-decoration-color: #00af00\">4096</span>)           │     <span style=\"color: #00af00; text-decoration-color: #00af00\">9,441,280</span> │\n",
       "├─────────────────────────────────┼────────────────────────┼───────────────┤\n",
       "│ dense_1 (<span style=\"color: #0087ff; text-decoration-color: #0087ff\">Dense</span>)                 │ (<span style=\"color: #00d7ff; text-decoration-color: #00d7ff\">None</span>, <span style=\"color: #00af00; text-decoration-color: #00af00\">1</span>)              │         <span style=\"color: #00af00; text-decoration-color: #00af00\">4,097</span> │\n",
       "└─────────────────────────────────┴────────────────────────┴───────────────┘\n",
       "</pre>\n"
      ],
      "text/plain": [
       "┏━━━━━━━━━━━━━━━━━━━━━━━━━━━━━━━━━┳━━━━━━━━━━━━━━━━━━━━━━━━┳━━━━━━━━━━━━━━━┓\n",
       "┃\u001b[1m \u001b[0m\u001b[1mLayer (type)                   \u001b[0m\u001b[1m \u001b[0m┃\u001b[1m \u001b[0m\u001b[1mOutput Shape          \u001b[0m\u001b[1m \u001b[0m┃\u001b[1m \u001b[0m\u001b[1m      Param #\u001b[0m\u001b[1m \u001b[0m┃\n",
       "┡━━━━━━━━━━━━━━━━━━━━━━━━━━━━━━━━━╇━━━━━━━━━━━━━━━━━━━━━━━━╇━━━━━━━━━━━━━━━┩\n",
       "│ sequential (\u001b[38;5;33mSequential\u001b[0m)         │ (\u001b[38;5;45mNone\u001b[0m, \u001b[38;5;34m130\u001b[0m, \u001b[38;5;34m130\u001b[0m, \u001b[38;5;34m3\u001b[0m)    │             \u001b[38;5;34m0\u001b[0m │\n",
       "├─────────────────────────────────┼────────────────────────┼───────────────┤\n",
       "│ rescaling (\u001b[38;5;33mRescaling\u001b[0m)           │ (\u001b[38;5;45mNone\u001b[0m, \u001b[38;5;34m130\u001b[0m, \u001b[38;5;34m130\u001b[0m, \u001b[38;5;34m3\u001b[0m)    │             \u001b[38;5;34m0\u001b[0m │\n",
       "├─────────────────────────────────┼────────────────────────┼───────────────┤\n",
       "│ conv2d (\u001b[38;5;33mConv2D\u001b[0m)                 │ (\u001b[38;5;45mNone\u001b[0m, \u001b[38;5;34m127\u001b[0m, \u001b[38;5;34m127\u001b[0m, \u001b[38;5;34m8\u001b[0m)    │           \u001b[38;5;34m392\u001b[0m │\n",
       "├─────────────────────────────────┼────────────────────────┼───────────────┤\n",
       "│ max_pooling2d (\u001b[38;5;33mMaxPooling2D\u001b[0m)    │ (\u001b[38;5;45mNone\u001b[0m, \u001b[38;5;34m63\u001b[0m, \u001b[38;5;34m63\u001b[0m, \u001b[38;5;34m8\u001b[0m)      │             \u001b[38;5;34m0\u001b[0m │\n",
       "├─────────────────────────────────┼────────────────────────┼───────────────┤\n",
       "│ conv2d_1 (\u001b[38;5;33mConv2D\u001b[0m)               │ (\u001b[38;5;45mNone\u001b[0m, \u001b[38;5;34m61\u001b[0m, \u001b[38;5;34m61\u001b[0m, \u001b[38;5;34m64\u001b[0m)     │         \u001b[38;5;34m4,672\u001b[0m │\n",
       "├─────────────────────────────────┼────────────────────────┼───────────────┤\n",
       "│ max_pooling2d_1 (\u001b[38;5;33mMaxPooling2D\u001b[0m)  │ (\u001b[38;5;45mNone\u001b[0m, \u001b[38;5;34m30\u001b[0m, \u001b[38;5;34m30\u001b[0m, \u001b[38;5;34m64\u001b[0m)     │             \u001b[38;5;34m0\u001b[0m │\n",
       "├─────────────────────────────────┼────────────────────────┼───────────────┤\n",
       "│ conv2d_2 (\u001b[38;5;33mConv2D\u001b[0m)               │ (\u001b[38;5;45mNone\u001b[0m, \u001b[38;5;34m28\u001b[0m, \u001b[38;5;34m28\u001b[0m, \u001b[38;5;34m64\u001b[0m)     │        \u001b[38;5;34m36,928\u001b[0m │\n",
       "├─────────────────────────────────┼────────────────────────┼───────────────┤\n",
       "│ max_pooling2d_2 (\u001b[38;5;33mMaxPooling2D\u001b[0m)  │ (\u001b[38;5;45mNone\u001b[0m, \u001b[38;5;34m14\u001b[0m, \u001b[38;5;34m14\u001b[0m, \u001b[38;5;34m64\u001b[0m)     │             \u001b[38;5;34m0\u001b[0m │\n",
       "├─────────────────────────────────┼────────────────────────┼───────────────┤\n",
       "│ conv2d_3 (\u001b[38;5;33mConv2D\u001b[0m)               │ (\u001b[38;5;45mNone\u001b[0m, \u001b[38;5;34m12\u001b[0m, \u001b[38;5;34m12\u001b[0m, \u001b[38;5;34m64\u001b[0m)     │        \u001b[38;5;34m36,928\u001b[0m │\n",
       "├─────────────────────────────────┼────────────────────────┼───────────────┤\n",
       "│ max_pooling2d_3 (\u001b[38;5;33mMaxPooling2D\u001b[0m)  │ (\u001b[38;5;45mNone\u001b[0m, \u001b[38;5;34m6\u001b[0m, \u001b[38;5;34m6\u001b[0m, \u001b[38;5;34m64\u001b[0m)       │             \u001b[38;5;34m0\u001b[0m │\n",
       "├─────────────────────────────────┼────────────────────────┼───────────────┤\n",
       "│ flatten (\u001b[38;5;33mFlatten\u001b[0m)               │ (\u001b[38;5;45mNone\u001b[0m, \u001b[38;5;34m2304\u001b[0m)           │             \u001b[38;5;34m0\u001b[0m │\n",
       "├─────────────────────────────────┼────────────────────────┼───────────────┤\n",
       "│ dropout (\u001b[38;5;33mDropout\u001b[0m)               │ (\u001b[38;5;45mNone\u001b[0m, \u001b[38;5;34m2304\u001b[0m)           │             \u001b[38;5;34m0\u001b[0m │\n",
       "├─────────────────────────────────┼────────────────────────┼───────────────┤\n",
       "│ dense (\u001b[38;5;33mDense\u001b[0m)                   │ (\u001b[38;5;45mNone\u001b[0m, \u001b[38;5;34m4096\u001b[0m)           │     \u001b[38;5;34m9,441,280\u001b[0m │\n",
       "├─────────────────────────────────┼────────────────────────┼───────────────┤\n",
       "│ dense_1 (\u001b[38;5;33mDense\u001b[0m)                 │ (\u001b[38;5;45mNone\u001b[0m, \u001b[38;5;34m1\u001b[0m)              │         \u001b[38;5;34m4,097\u001b[0m │\n",
       "└─────────────────────────────────┴────────────────────────┴───────────────┘\n"
      ]
     },
     "metadata": {},
     "output_type": "display_data"
    },
    {
     "data": {
      "text/html": [
       "<pre style=\"white-space:pre;overflow-x:auto;line-height:normal;font-family:Menlo,'DejaVu Sans Mono',consolas,'Courier New',monospace\"><span style=\"font-weight: bold\"> Total params: </span><span style=\"color: #00af00; text-decoration-color: #00af00\">9,524,297</span> (36.33 MB)\n",
       "</pre>\n"
      ],
      "text/plain": [
       "\u001b[1m Total params: \u001b[0m\u001b[38;5;34m9,524,297\u001b[0m (36.33 MB)\n"
      ]
     },
     "metadata": {},
     "output_type": "display_data"
    },
    {
     "data": {
      "text/html": [
       "<pre style=\"white-space:pre;overflow-x:auto;line-height:normal;font-family:Menlo,'DejaVu Sans Mono',consolas,'Courier New',monospace\"><span style=\"font-weight: bold\"> Trainable params: </span><span style=\"color: #00af00; text-decoration-color: #00af00\">9,524,297</span> (36.33 MB)\n",
       "</pre>\n"
      ],
      "text/plain": [
       "\u001b[1m Trainable params: \u001b[0m\u001b[38;5;34m9,524,297\u001b[0m (36.33 MB)\n"
      ]
     },
     "metadata": {},
     "output_type": "display_data"
    },
    {
     "data": {
      "text/html": [
       "<pre style=\"white-space:pre;overflow-x:auto;line-height:normal;font-family:Menlo,'DejaVu Sans Mono',consolas,'Courier New',monospace\"><span style=\"font-weight: bold\"> Non-trainable params: </span><span style=\"color: #00af00; text-decoration-color: #00af00\">0</span> (0.00 B)\n",
       "</pre>\n"
      ],
      "text/plain": [
       "\u001b[1m Non-trainable params: \u001b[0m\u001b[38;5;34m0\u001b[0m (0.00 B)\n"
      ]
     },
     "metadata": {},
     "output_type": "display_data"
    }
   ],
   "source": [
    "# Create the compiled but untrained model\n",
    "model = create_and_compile_model()\n",
    "model.summary()"
   ]
  },
  {
   "cell_type": "code",
   "execution_count": 15,
   "id": "89abb112-31e4-462d-aeb5-ac878eb84cb1",
   "metadata": {},
   "outputs": [
    {
     "data": {
      "text/plain": [
       "'\\ntraining_history = model.fit(\\n    training_dataset,\\n    epochs = epochs,\\n    validation_data = validation_dataset,\\n    callbacks = [EarlyStoppingCallback()],\\n    verbose = 2\\n)\\n'"
      ]
     },
     "execution_count": 15,
     "metadata": {},
     "output_type": "execute_result"
    }
   ],
   "source": [
    "'''\n",
    "training_history = model.fit(\n",
    "    training_dataset,\n",
    "    epochs = epochs,\n",
    "    validation_data = validation_dataset,\n",
    "    callbacks = [EarlyStoppingCallback()],\n",
    "    verbose = 2\n",
    ")\n",
    "'''"
   ]
  },
  {
   "cell_type": "code",
   "execution_count": 16,
   "id": "84b5a348-8f19-43d7-b96d-764b239959e9",
   "metadata": {},
   "outputs": [
    {
     "data": {
      "text/plain": [
       "'\\ntraining_history = model.fit(\\n    training_dataset,\\n    epochs = epochs,\\n    validation_data = validation_dataset,\\n    callbacks=[early_stop],\\n    verbose = 2\\n)\\n'"
      ]
     },
     "execution_count": 16,
     "metadata": {},
     "output_type": "execute_result"
    }
   ],
   "source": [
    "'''\n",
    "training_history = model.fit(\n",
    "    training_dataset,\n",
    "    epochs = epochs,\n",
    "    validation_data = validation_dataset,\n",
    "    callbacks=[early_stop],\n",
    "    verbose = 2\n",
    ")\n",
    "'''"
   ]
  },
  {
   "cell_type": "code",
   "execution_count": 17,
   "id": "8e9ceea5-9f80-4011-aeb4-9951bc88ac66",
   "metadata": {},
   "outputs": [
    {
     "name": "stdout",
     "output_type": "stream",
     "text": [
      "Epoch 1/100\n",
      "27/27 - 4s - 155ms/step - accuracy: 0.4935 - loss: 1.1303 - val_accuracy: 0.4362 - val_loss: 0.7007 - learning_rate: 0.0050\n",
      "Epoch 2/100\n",
      "27/27 - 2s - 85ms/step - accuracy: 0.5336 - loss: 0.6923 - val_accuracy: 0.4362 - val_loss: 0.7072 - learning_rate: 0.0050\n",
      "Epoch 3/100\n",
      "27/27 - 2s - 81ms/step - accuracy: 0.6101 - loss: 0.6619 - val_accuracy: 0.6596 - val_loss: 0.6353 - learning_rate: 0.0050\n",
      "Epoch 4/100\n",
      "27/27 - 2s - 78ms/step - accuracy: 0.6360 - loss: 0.6344 - val_accuracy: 0.7234 - val_loss: 0.5735 - learning_rate: 0.0050\n",
      "Epoch 5/100\n",
      "27/27 - 2s - 78ms/step - accuracy: 0.6773 - loss: 0.5770 - val_accuracy: 0.7447 - val_loss: 0.5183 - learning_rate: 0.0050\n",
      "Epoch 6/100\n",
      "27/27 - 2s - 77ms/step - accuracy: 0.6961 - loss: 0.5996 - val_accuracy: 0.7340 - val_loss: 0.5667 - learning_rate: 0.0050\n",
      "Epoch 7/100\n",
      "27/27 - 2s - 79ms/step - accuracy: 0.7432 - loss: 0.5535 - val_accuracy: 0.7447 - val_loss: 0.5076 - learning_rate: 0.0050\n",
      "Epoch 8/100\n",
      "27/27 - 2s - 85ms/step - accuracy: 0.7291 - loss: 0.5490 - val_accuracy: 0.7553 - val_loss: 0.4926 - learning_rate: 0.0050\n",
      "Epoch 9/100\n",
      "27/27 - 2s - 83ms/step - accuracy: 0.7468 - loss: 0.5300 - val_accuracy: 0.7128 - val_loss: 0.5145 - learning_rate: 0.0050\n",
      "Epoch 10/100\n",
      "27/27 - 2s - 81ms/step - accuracy: 0.7527 - loss: 0.5171 - val_accuracy: 0.7766 - val_loss: 0.4630 - learning_rate: 0.0050\n",
      "Epoch 11/100\n",
      "27/27 - 2s - 79ms/step - accuracy: 0.7420 - loss: 0.5331 - val_accuracy: 0.7447 - val_loss: 0.4929 - learning_rate: 0.0050\n",
      "Epoch 12/100\n",
      "27/27 - 2s - 79ms/step - accuracy: 0.7303 - loss: 0.5374 - val_accuracy: 0.6596 - val_loss: 0.5837 - learning_rate: 0.0050\n",
      "Epoch 13/100\n",
      "27/27 - 2s - 80ms/step - accuracy: 0.7338 - loss: 0.5338 - val_accuracy: 0.7660 - val_loss: 0.5168 - learning_rate: 0.0050\n",
      "Epoch 14/100\n",
      "27/27 - 2s - 78ms/step - accuracy: 0.7538 - loss: 0.5268 - val_accuracy: 0.7128 - val_loss: 0.6611 - learning_rate: 0.0050\n",
      "Epoch 15/100\n",
      "27/27 - 2s - 78ms/step - accuracy: 0.7279 - loss: 0.5253 - val_accuracy: 0.6915 - val_loss: 0.5606 - learning_rate: 0.0050\n",
      "Epoch 16/100\n",
      "27/27 - 2s - 84ms/step - accuracy: 0.7644 - loss: 0.5121 - val_accuracy: 0.6915 - val_loss: 0.6032 - learning_rate: 0.0050\n",
      "Epoch 17/100\n",
      "27/27 - 2s - 83ms/step - accuracy: 0.7373 - loss: 0.5238 - val_accuracy: 0.7234 - val_loss: 0.5202 - learning_rate: 0.0050\n",
      "Epoch 18/100\n",
      "27/27 - 2s - 78ms/step - accuracy: 0.7244 - loss: 0.5463 - val_accuracy: 0.7128 - val_loss: 0.5649 - learning_rate: 0.0050\n",
      "Epoch 19/100\n",
      "27/27 - 2s - 78ms/step - accuracy: 0.7432 - loss: 0.5339 - val_accuracy: 0.7128 - val_loss: 0.5533 - learning_rate: 0.0050\n",
      "Epoch 20/100\n",
      "27/27 - 2s - 78ms/step - accuracy: 0.7397 - loss: 0.5322 - val_accuracy: 0.6809 - val_loss: 0.5440 - learning_rate: 0.0050\n",
      "Epoch 21/100\n",
      "27/27 - 2s - 79ms/step - accuracy: 0.7314 - loss: 0.5526 - val_accuracy: 0.7447 - val_loss: 0.4857 - learning_rate: 0.0050\n",
      "Epoch 22/100\n",
      "27/27 - 2s - 78ms/step - accuracy: 0.7432 - loss: 0.5095 - val_accuracy: 0.7553 - val_loss: 0.5102 - learning_rate: 0.0050\n",
      "Epoch 23/100\n",
      "27/27 - 2s - 81ms/step - accuracy: 0.7680 - loss: 0.5152 - val_accuracy: 0.7979 - val_loss: 0.4624 - learning_rate: 0.0050\n",
      "Epoch 24/100\n",
      "27/27 - 2s - 90ms/step - accuracy: 0.7668 - loss: 0.5089 - val_accuracy: 0.7447 - val_loss: 0.5834 - learning_rate: 0.0050\n",
      "Epoch 25/100\n",
      "27/27 - 2s - 90ms/step - accuracy: 0.7691 - loss: 0.4922 - val_accuracy: 0.7234 - val_loss: 0.5055 - learning_rate: 0.0050\n",
      "Epoch 26/100\n",
      "27/27 - 2s - 86ms/step - accuracy: 0.7491 - loss: 0.4959 - val_accuracy: 0.7766 - val_loss: 0.5117 - learning_rate: 0.0050\n",
      "Epoch 27/100\n",
      "27/27 - 2s - 83ms/step - accuracy: 0.7691 - loss: 0.5019 - val_accuracy: 0.7447 - val_loss: 0.5640 - learning_rate: 0.0050\n",
      "Epoch 28/100\n",
      "27/27 - 2s - 82ms/step - accuracy: 0.7774 - loss: 0.4980 - val_accuracy: 0.7660 - val_loss: 0.4795 - learning_rate: 0.0050\n",
      "Epoch 29/100\n",
      "27/27 - 2s - 81ms/step - accuracy: 0.7845 - loss: 0.4612 - val_accuracy: 0.7660 - val_loss: 0.4822 - learning_rate: 0.0050\n",
      "Epoch 30/100\n",
      "27/27 - 2s - 85ms/step - accuracy: 0.7456 - loss: 0.5039 - val_accuracy: 0.7447 - val_loss: 0.5518 - learning_rate: 0.0050\n",
      "Epoch 31/100\n",
      "27/27 - 2s - 86ms/step - accuracy: 0.7597 - loss: 0.5061 - val_accuracy: 0.7553 - val_loss: 0.5215 - learning_rate: 0.0050\n",
      "Epoch 32/100\n",
      "27/27 - 2s - 83ms/step - accuracy: 0.7633 - loss: 0.5184 - val_accuracy: 0.7766 - val_loss: 0.5058 - learning_rate: 0.0050\n",
      "Epoch 33/100\n",
      "27/27 - 2s - 81ms/step - accuracy: 0.7833 - loss: 0.4872 - val_accuracy: 0.7766 - val_loss: 0.4786 - learning_rate: 0.0050\n",
      "Epoch 34/100\n",
      "27/27 - 2s - 84ms/step - accuracy: 0.7856 - loss: 0.4641 - val_accuracy: 0.7766 - val_loss: 0.4843 - learning_rate: 0.0050\n",
      "Epoch 35/100\n",
      "27/27 - 2s - 84ms/step - accuracy: 0.7880 - loss: 0.4673 - val_accuracy: 0.7766 - val_loss: 0.4631 - learning_rate: 0.0050\n",
      "Epoch 36/100\n",
      "27/27 - 2s - 81ms/step - accuracy: 0.8045 - loss: 0.4470 - val_accuracy: 0.7979 - val_loss: 0.4638 - learning_rate: 0.0050\n",
      "Epoch 37/100\n",
      "27/27 - 2s - 87ms/step - accuracy: 0.7845 - loss: 0.4468 - val_accuracy: 0.8085 - val_loss: 0.6049 - learning_rate: 0.0050\n",
      "Epoch 38/100\n",
      "27/27 - 2s - 89ms/step - accuracy: 0.7986 - loss: 0.4357 - val_accuracy: 0.7234 - val_loss: 0.6129 - learning_rate: 0.0050\n",
      "Epoch 39/100\n",
      "27/27 - 2s - 86ms/step - accuracy: 0.7715 - loss: 0.4780 - val_accuracy: 0.7766 - val_loss: 0.5580 - learning_rate: 0.0050\n",
      "Epoch 40/100\n",
      "27/27 - 2s - 81ms/step - accuracy: 0.7350 - loss: 0.5408 - val_accuracy: 0.8191 - val_loss: 0.5074 - learning_rate: 0.0050\n",
      "Epoch 41/100\n",
      "27/27 - 2s - 82ms/step - accuracy: 0.7880 - loss: 0.4727 - val_accuracy: 0.8298 - val_loss: 0.4727 - learning_rate: 0.0050\n",
      "Epoch 42/100\n",
      "27/27 - 2s - 90ms/step - accuracy: 0.7585 - loss: 0.4911 - val_accuracy: 0.7872 - val_loss: 0.4939 - learning_rate: 0.0050\n",
      "Epoch 43/100\n",
      "27/27 - 2s - 81ms/step - accuracy: 0.7927 - loss: 0.4391 - val_accuracy: 0.7872 - val_loss: 0.5559 - learning_rate: 0.0050\n",
      "Epoch 44/100\n",
      "27/27 - 2s - 84ms/step - accuracy: 0.7786 - loss: 0.4732 - val_accuracy: 0.7766 - val_loss: 0.4807 - learning_rate: 0.0050\n",
      "Epoch 45/100\n",
      "27/27 - 2s - 86ms/step - accuracy: 0.7821 - loss: 0.4521 - val_accuracy: 0.7979 - val_loss: 0.4889 - learning_rate: 0.0050\n",
      "Epoch 46/100\n",
      "27/27 - 2s - 85ms/step - accuracy: 0.7220 - loss: 0.6310 - val_accuracy: 0.7021 - val_loss: 0.6565 - learning_rate: 0.0050\n",
      "Epoch 47/100\n",
      "27/27 - 2s - 82ms/step - accuracy: 0.5901 - loss: 0.8613 - val_accuracy: 0.5638 - val_loss: 0.6839 - learning_rate: 0.0050\n",
      "Epoch 48/100\n",
      "27/27 - 2s - 83ms/step - accuracy: 0.5018 - loss: 0.7098 - val_accuracy: 0.4362 - val_loss: 0.7003 - learning_rate: 0.0050\n",
      "Epoch 49/100\n",
      "27/27 - 2s - 82ms/step - accuracy: 0.4912 - loss: 0.6968 - val_accuracy: 0.4362 - val_loss: 0.7030 - learning_rate: 0.0050\n",
      "Epoch 50/100\n",
      "27/27 - 2s - 81ms/step - accuracy: 0.5041 - loss: 0.6941 - val_accuracy: 0.5638 - val_loss: 0.6913 - learning_rate: 0.0050\n",
      "Epoch 51/100\n",
      "27/27 - 2s - 85ms/step - accuracy: 0.4982 - loss: 0.6945 - val_accuracy: 0.4362 - val_loss: 0.7015 - learning_rate: 0.0050\n",
      "Epoch 52/100\n",
      "27/27 - 2s - 85ms/step - accuracy: 0.5053 - loss: 0.6953 - val_accuracy: 0.5638 - val_loss: 0.6909 - learning_rate: 0.0050\n",
      "Epoch 53/100\n",
      "27/27 - 2s - 85ms/step - accuracy: 0.4982 - loss: 0.6967 - val_accuracy: 0.4362 - val_loss: 0.6952 - learning_rate: 0.0050\n",
      "Epoch 54/100\n",
      "27/27 - 2s - 80ms/step - accuracy: 0.4735 - loss: 0.6938 - val_accuracy: 0.4362 - val_loss: 0.6958 - learning_rate: 0.0050\n",
      "Epoch 55/100\n",
      "27/27 - 2s - 80ms/step - accuracy: 0.4723 - loss: 0.6949 - val_accuracy: 0.4362 - val_loss: 0.6976 - learning_rate: 0.0050\n",
      "Epoch 56/100\n",
      "27/27 - 2s - 81ms/step - accuracy: 0.5077 - loss: 0.6939 - val_accuracy: 0.4362 - val_loss: 0.6956 - learning_rate: 0.0050\n",
      "Epoch 57/100\n",
      "27/27 - 2s - 82ms/step - accuracy: 0.5029 - loss: 0.6937 - val_accuracy: 0.4362 - val_loss: 0.6949 - learning_rate: 0.0050\n",
      "Epoch 58/100\n",
      "27/27 - 2s - 90ms/step - accuracy: 0.5112 - loss: 0.6946 - val_accuracy: 0.4362 - val_loss: 0.6944 - learning_rate: 0.0050\n",
      "Epoch 59/100\n",
      "27/27 - 2s - 86ms/step - accuracy: 0.4935 - loss: 0.6935 - val_accuracy: 0.4362 - val_loss: 0.6989 - learning_rate: 0.0050\n",
      "Epoch 60/100\n",
      "27/27 - 2s - 84ms/step - accuracy: 0.4959 - loss: 0.6943 - val_accuracy: 0.4362 - val_loss: 0.6943 - learning_rate: 0.0050\n",
      "Epoch 61/100\n",
      "27/27 - 2s - 91ms/step - accuracy: 0.5100 - loss: 0.6933 - val_accuracy: 0.4362 - val_loss: 0.6959 - learning_rate: 0.0050\n",
      "Epoch 62/100\n",
      "27/27 - 3s - 96ms/step - accuracy: 0.5135 - loss: 0.6932 - val_accuracy: 0.4362 - val_loss: 0.6967 - learning_rate: 0.0050\n",
      "Epoch 63/100\n",
      "27/27 - 2s - 81ms/step - accuracy: 0.4971 - loss: 0.6936 - val_accuracy: 0.4362 - val_loss: 0.6971 - learning_rate: 0.0050\n",
      "Epoch 64/100\n",
      "27/27 - 2s - 81ms/step - accuracy: 0.5029 - loss: 0.6935 - val_accuracy: 0.4362 - val_loss: 0.6962 - learning_rate: 0.0050\n",
      "Epoch 65/100\n",
      "27/27 - 2s - 82ms/step - accuracy: 0.5088 - loss: 0.6942 - val_accuracy: 0.4362 - val_loss: 0.6988 - learning_rate: 0.0050\n",
      "Epoch 66/100\n",
      "27/27 - 2s - 85ms/step - accuracy: 0.4971 - loss: 0.6931 - val_accuracy: 0.4362 - val_loss: 0.6943 - learning_rate: 0.0050\n",
      "Epoch 67/100\n",
      "27/27 - 2s - 84ms/step - accuracy: 0.4888 - loss: 0.6940 - val_accuracy: 0.4362 - val_loss: 0.6979 - learning_rate: 0.0050\n",
      "Epoch 68/100\n",
      "27/27 - 2s - 80ms/step - accuracy: 0.5077 - loss: 0.6940 - val_accuracy: 0.4362 - val_loss: 0.6988 - learning_rate: 0.0050\n",
      "Epoch 69/100\n",
      "27/27 - 2s - 80ms/step - accuracy: 0.4747 - loss: 0.6942 - val_accuracy: 0.4362 - val_loss: 0.6963 - learning_rate: 0.0050\n",
      "Epoch 70/100\n",
      "27/27 - 2s - 80ms/step - accuracy: 0.5077 - loss: 0.6935 - val_accuracy: 0.4362 - val_loss: 0.6964 - learning_rate: 0.0050\n",
      "Epoch 71/100\n",
      "27/27 - 2s - 79ms/step - accuracy: 0.5077 - loss: 0.6935 - val_accuracy: 0.4362 - val_loss: 0.6961 - learning_rate: 0.0050\n",
      "Epoch 72/100\n",
      "27/27 - 2s - 81ms/step - accuracy: 0.5088 - loss: 0.6934 - val_accuracy: 0.4362 - val_loss: 0.6959 - learning_rate: 0.0050\n",
      "Epoch 73/100\n",
      "27/27 - 2s - 84ms/step - accuracy: 0.5077 - loss: 0.6937 - val_accuracy: 0.4362 - val_loss: 0.6994 - learning_rate: 0.0050\n",
      "Epoch 74/100\n",
      "27/27 - 2s - 85ms/step - accuracy: 0.5065 - loss: 0.6934 - val_accuracy: 0.4362 - val_loss: 0.6953 - learning_rate: 0.0050\n",
      "Epoch 75/100\n",
      "27/27 - 2s - 81ms/step - accuracy: 0.5077 - loss: 0.6931 - val_accuracy: 0.4362 - val_loss: 0.6954 - learning_rate: 0.0050\n",
      "Epoch 76/100\n",
      "27/27 - 2s - 87ms/step - accuracy: 0.5018 - loss: 0.6931 - val_accuracy: 0.4362 - val_loss: 0.6950 - learning_rate: 0.0050\n",
      "Epoch 77/100\n",
      "27/27 - 2s - 80ms/step - accuracy: 0.5088 - loss: 0.6938 - val_accuracy: 0.4362 - val_loss: 0.6968 - learning_rate: 0.0050\n",
      "Epoch 78/100\n",
      "27/27 - 2s - 79ms/step - accuracy: 0.5006 - loss: 0.6934 - val_accuracy: 0.4362 - val_loss: 0.6963 - learning_rate: 0.0050\n",
      "Epoch 79/100\n",
      "27/27 - 2s - 80ms/step - accuracy: 0.5065 - loss: 0.6933 - val_accuracy: 0.4362 - val_loss: 0.6956 - learning_rate: 0.0050\n",
      "Epoch 80/100\n",
      "27/27 - 2s - 85ms/step - accuracy: 0.5053 - loss: 0.6934 - val_accuracy: 0.4362 - val_loss: 0.6956 - learning_rate: 0.0050\n",
      "Epoch 81/100\n",
      "27/27 - 2s - 85ms/step - accuracy: 0.5077 - loss: 0.6933 - val_accuracy: 0.4362 - val_loss: 0.6967 - learning_rate: 0.0050\n",
      "Epoch 82/100\n",
      "27/27 - 2s - 80ms/step - accuracy: 0.5077 - loss: 0.6935 - val_accuracy: 0.4362 - val_loss: 0.6957 - learning_rate: 0.0050\n",
      "Epoch 83/100\n",
      "27/27 - 2s - 80ms/step - accuracy: 0.5077 - loss: 0.6935 - val_accuracy: 0.4362 - val_loss: 0.6954 - learning_rate: 0.0050\n",
      "Epoch 84/100\n",
      "27/27 - 2s - 80ms/step - accuracy: 0.5077 - loss: 0.6936 - val_accuracy: 0.4362 - val_loss: 0.6961 - learning_rate: 0.0050\n",
      "Epoch 85/100\n",
      "27/27 - 2s - 90ms/step - accuracy: 0.5077 - loss: 0.6934 - val_accuracy: 0.4362 - val_loss: 0.6961 - learning_rate: 0.0050\n",
      "Epoch 86/100\n",
      "27/27 - 3s - 94ms/step - accuracy: 0.5088 - loss: 0.6933 - val_accuracy: 0.4362 - val_loss: 0.6946 - learning_rate: 0.0050\n",
      "Epoch 87/100\n",
      "27/27 - 2s - 87ms/step - accuracy: 0.5077 - loss: 0.6935 - val_accuracy: 0.4362 - val_loss: 0.6968 - learning_rate: 0.0050\n",
      "Epoch 88/100\n",
      "27/27 - 2s - 89ms/step - accuracy: 0.5077 - loss: 0.6934 - val_accuracy: 0.4362 - val_loss: 0.6962 - learning_rate: 0.0050\n",
      "Epoch 89/100\n",
      "27/27 - 2s - 83ms/step - accuracy: 0.5077 - loss: 0.6933 - val_accuracy: 0.4362 - val_loss: 0.6966 - learning_rate: 0.0050\n",
      "Epoch 90/100\n",
      "27/27 - 2s - 85ms/step - accuracy: 0.5065 - loss: 0.6933 - val_accuracy: 0.4362 - val_loss: 0.6948 - learning_rate: 0.0050\n",
      "Epoch 91/100\n",
      "27/27 - 2s - 82ms/step - accuracy: 0.5041 - loss: 0.6930 - val_accuracy: 0.4362 - val_loss: 0.6954 - learning_rate: 0.0050\n",
      "Epoch 92/100\n",
      "27/27 - 2s - 81ms/step - accuracy: 0.5077 - loss: 0.6934 - val_accuracy: 0.4362 - val_loss: 0.6962 - learning_rate: 0.0050\n",
      "Epoch 93/100\n",
      "27/27 - 2s - 82ms/step - accuracy: 0.5077 - loss: 0.6933 - val_accuracy: 0.4362 - val_loss: 0.6960 - learning_rate: 0.0050\n",
      "Epoch 94/100\n",
      "27/27 - 2s - 87ms/step - accuracy: 0.5077 - loss: 0.6934 - val_accuracy: 0.4362 - val_loss: 0.6956 - learning_rate: 0.0050\n",
      "Epoch 95/100\n",
      "27/27 - 2s - 91ms/step - accuracy: 0.5065 - loss: 0.6931 - val_accuracy: 0.4362 - val_loss: 0.6957 - learning_rate: 0.0050\n",
      "Epoch 96/100\n",
      "27/27 - 2s - 87ms/step - accuracy: 0.5077 - loss: 0.6934 - val_accuracy: 0.4362 - val_loss: 0.6973 - learning_rate: 0.0050\n",
      "Epoch 97/100\n",
      "27/27 - 2s - 83ms/step - accuracy: 0.5065 - loss: 0.6933 - val_accuracy: 0.4362 - val_loss: 0.6965 - learning_rate: 0.0050\n",
      "Epoch 98/100\n",
      "27/27 - 2s - 84ms/step - accuracy: 0.5077 - loss: 0.6931 - val_accuracy: 0.4362 - val_loss: 0.6958 - learning_rate: 0.0050\n",
      "Epoch 99/100\n",
      "27/27 - 2s - 83ms/step - accuracy: 0.5077 - loss: 0.6933 - val_accuracy: 0.4362 - val_loss: 0.6968 - learning_rate: 0.0050\n",
      "Epoch 100/100\n",
      "27/27 - 2s - 83ms/step - accuracy: 0.5077 - loss: 0.6931 - val_accuracy: 0.4362 - val_loss: 0.6950 - learning_rate: 0.0050\n"
     ]
    }
   ],
   "source": [
    "training_history = model.fit(\n",
    "    training_dataset,\n",
    "    epochs = epochs,\n",
    "    validation_data = validation_dataset,\n",
    "    callbacks = [lr_callback],\n",
    "    verbose = 2\n",
    ")"
   ]
  },
  {
   "cell_type": "code",
   "execution_count": 18,
   "id": "eb32643e-ba36-4ab6-bf3b-43313b52bfcf",
   "metadata": {},
   "outputs": [],
   "source": [
    "#from tensorflow.keras.models import load_model\n",
    "#model.save('gender_recognition_project04_v10.h5')"
   ]
  },
  {
   "cell_type": "code",
   "execution_count": 19,
   "id": "662ce52e-7f7c-47c7-9d63-f8d21a4ef5e0",
   "metadata": {},
   "outputs": [
    {
     "data": {
      "text/plain": [
       "['loss', 'compile_metrics']"
      ]
     },
     "execution_count": 19,
     "metadata": {},
     "output_type": "execute_result"
    }
   ],
   "source": [
    "model.metrics_names"
   ]
  },
  {
   "cell_type": "code",
   "execution_count": 20,
   "id": "cc16344a-bbc7-4ed5-a01e-39b651f802c8",
   "metadata": {},
   "outputs": [
    {
     "data": {
      "text/html": [
       "<div>\n",
       "<style scoped>\n",
       "    .dataframe tbody tr th:only-of-type {\n",
       "        vertical-align: middle;\n",
       "    }\n",
       "\n",
       "    .dataframe tbody tr th {\n",
       "        vertical-align: top;\n",
       "    }\n",
       "\n",
       "    .dataframe thead th {\n",
       "        text-align: right;\n",
       "    }\n",
       "</style>\n",
       "<table border=\"1\" class=\"dataframe\">\n",
       "  <thead>\n",
       "    <tr style=\"text-align: right;\">\n",
       "      <th></th>\n",
       "      <th>accuracy</th>\n",
       "      <th>loss</th>\n",
       "      <th>val_accuracy</th>\n",
       "      <th>val_loss</th>\n",
       "      <th>learning_rate</th>\n",
       "    </tr>\n",
       "  </thead>\n",
       "  <tbody>\n",
       "    <tr>\n",
       "      <th>0</th>\n",
       "      <td>0.493522</td>\n",
       "      <td>1.130318</td>\n",
       "      <td>0.436170</td>\n",
       "      <td>0.700706</td>\n",
       "      <td>0.005</td>\n",
       "    </tr>\n",
       "    <tr>\n",
       "      <th>1</th>\n",
       "      <td>0.533569</td>\n",
       "      <td>0.692311</td>\n",
       "      <td>0.436170</td>\n",
       "      <td>0.707152</td>\n",
       "      <td>0.005</td>\n",
       "    </tr>\n",
       "    <tr>\n",
       "      <th>2</th>\n",
       "      <td>0.610130</td>\n",
       "      <td>0.661868</td>\n",
       "      <td>0.659574</td>\n",
       "      <td>0.635290</td>\n",
       "      <td>0.005</td>\n",
       "    </tr>\n",
       "    <tr>\n",
       "      <th>3</th>\n",
       "      <td>0.636042</td>\n",
       "      <td>0.634415</td>\n",
       "      <td>0.723404</td>\n",
       "      <td>0.573527</td>\n",
       "      <td>0.005</td>\n",
       "    </tr>\n",
       "    <tr>\n",
       "      <th>4</th>\n",
       "      <td>0.677267</td>\n",
       "      <td>0.576993</td>\n",
       "      <td>0.744681</td>\n",
       "      <td>0.518267</td>\n",
       "      <td>0.005</td>\n",
       "    </tr>\n",
       "    <tr>\n",
       "      <th>5</th>\n",
       "      <td>0.696113</td>\n",
       "      <td>0.599638</td>\n",
       "      <td>0.734043</td>\n",
       "      <td>0.566675</td>\n",
       "      <td>0.005</td>\n",
       "    </tr>\n",
       "    <tr>\n",
       "      <th>6</th>\n",
       "      <td>0.743227</td>\n",
       "      <td>0.553523</td>\n",
       "      <td>0.744681</td>\n",
       "      <td>0.507566</td>\n",
       "      <td>0.005</td>\n",
       "    </tr>\n",
       "    <tr>\n",
       "      <th>7</th>\n",
       "      <td>0.729093</td>\n",
       "      <td>0.548981</td>\n",
       "      <td>0.755319</td>\n",
       "      <td>0.492604</td>\n",
       "      <td>0.005</td>\n",
       "    </tr>\n",
       "    <tr>\n",
       "      <th>8</th>\n",
       "      <td>0.746761</td>\n",
       "      <td>0.530015</td>\n",
       "      <td>0.712766</td>\n",
       "      <td>0.514473</td>\n",
       "      <td>0.005</td>\n",
       "    </tr>\n",
       "    <tr>\n",
       "      <th>9</th>\n",
       "      <td>0.752650</td>\n",
       "      <td>0.517056</td>\n",
       "      <td>0.776596</td>\n",
       "      <td>0.462986</td>\n",
       "      <td>0.005</td>\n",
       "    </tr>\n",
       "    <tr>\n",
       "      <th>10</th>\n",
       "      <td>0.742049</td>\n",
       "      <td>0.533137</td>\n",
       "      <td>0.744681</td>\n",
       "      <td>0.492936</td>\n",
       "      <td>0.005</td>\n",
       "    </tr>\n",
       "    <tr>\n",
       "      <th>11</th>\n",
       "      <td>0.730271</td>\n",
       "      <td>0.537359</td>\n",
       "      <td>0.659574</td>\n",
       "      <td>0.583750</td>\n",
       "      <td>0.005</td>\n",
       "    </tr>\n",
       "    <tr>\n",
       "      <th>12</th>\n",
       "      <td>0.733804</td>\n",
       "      <td>0.533805</td>\n",
       "      <td>0.765957</td>\n",
       "      <td>0.516790</td>\n",
       "      <td>0.005</td>\n",
       "    </tr>\n",
       "    <tr>\n",
       "      <th>13</th>\n",
       "      <td>0.753828</td>\n",
       "      <td>0.526786</td>\n",
       "      <td>0.712766</td>\n",
       "      <td>0.661112</td>\n",
       "      <td>0.005</td>\n",
       "    </tr>\n",
       "    <tr>\n",
       "      <th>14</th>\n",
       "      <td>0.727915</td>\n",
       "      <td>0.525265</td>\n",
       "      <td>0.691489</td>\n",
       "      <td>0.560616</td>\n",
       "      <td>0.005</td>\n",
       "    </tr>\n",
       "  </tbody>\n",
       "</table>\n",
       "</div>"
      ],
      "text/plain": [
       "    accuracy      loss  val_accuracy  val_loss  learning_rate\n",
       "0   0.493522  1.130318      0.436170  0.700706          0.005\n",
       "1   0.533569  0.692311      0.436170  0.707152          0.005\n",
       "2   0.610130  0.661868      0.659574  0.635290          0.005\n",
       "3   0.636042  0.634415      0.723404  0.573527          0.005\n",
       "4   0.677267  0.576993      0.744681  0.518267          0.005\n",
       "5   0.696113  0.599638      0.734043  0.566675          0.005\n",
       "6   0.743227  0.553523      0.744681  0.507566          0.005\n",
       "7   0.729093  0.548981      0.755319  0.492604          0.005\n",
       "8   0.746761  0.530015      0.712766  0.514473          0.005\n",
       "9   0.752650  0.517056      0.776596  0.462986          0.005\n",
       "10  0.742049  0.533137      0.744681  0.492936          0.005\n",
       "11  0.730271  0.537359      0.659574  0.583750          0.005\n",
       "12  0.733804  0.533805      0.765957  0.516790          0.005\n",
       "13  0.753828  0.526786      0.712766  0.661112          0.005\n",
       "14  0.727915  0.525265      0.691489  0.560616          0.005"
      ]
     },
     "execution_count": 20,
     "metadata": {},
     "output_type": "execute_result"
    }
   ],
   "source": [
    "result_history = pd.DataFrame(model.history.history)\n",
    "result_history.head(15)"
   ]
  },
  {
   "cell_type": "code",
   "execution_count": 21,
   "id": "89d8df04-5bbc-4d47-a131-1e4a3a1c7ea8",
   "metadata": {},
   "outputs": [
    {
     "data": {
      "text/plain": [
       "<Axes: >"
      ]
     },
     "execution_count": 21,
     "metadata": {},
     "output_type": "execute_result"
    },
    {
     "data": {
      "image/png": "[encoded data removed]",
      "text/plain": [
       "<Figure size 500x300 with 1 Axes>"
      ]
     },
     "metadata": {},
     "output_type": "display_data"
    }
   ],
   "source": [
    "result_history[['loss', 'val_loss']].plot(figsize=(5, 3))"
   ]
  },
  {
   "cell_type": "code",
   "execution_count": 22,
   "id": "a2b61e9e-deaf-4f91-8b90-d23082a18b5f",
   "metadata": {},
   "outputs": [
    {
     "data": {
      "text/plain": [
       "<Axes: >"
      ]
     },
     "execution_count": 22,
     "metadata": {},
     "output_type": "execute_result"
    },
    {
     "data": {
      "image/png": "[encoded data removed]",
      "text/plain": [
       "<Figure size 500x300 with 1 Axes>"
      ]
     },
     "metadata": {},
     "output_type": "display_data"
    }
   ],
   "source": [
    "result_history[['accuracy', 'val_accuracy']].plot(figsize=(5, 3))"
   ]
  },
  {
   "cell_type": "code",
   "execution_count": 23,
   "id": "4b259fcb-df40-4d21-a911-032373c25358",
   "metadata": {},
   "outputs": [
    {
     "name": "stdout",
     "output_type": "stream",
     "text": [
      "['loss', 'compile_metrics']\n",
      "\u001b[1m3/3\u001b[0m \u001b[32m━━━━━━━━━━━━━━━━━━━━\u001b[0m\u001b[37m\u001b[0m \u001b[1m0s\u001b[0m 22ms/step - accuracy: 0.4603 - loss: 0.6944\n",
      "[0.6950280070304871, 0.43617022037506104]\n"
     ]
    }
   ],
   "source": [
    "print(model.metrics_names)\n",
    "print(model.evaluate(validation_dataset))"
   ]
  },
  {
   "cell_type": "code",
   "execution_count": 24,
   "id": "86ce3add-a314-4d29-91ea-76cb3ba57cd4",
   "metadata": {},
   "outputs": [
    {
     "name": "stdout",
     "output_type": "stream",
     "text": [
      "\u001b[1m3/3\u001b[0m \u001b[32m━━━━━━━━━━━━━━━━━━━━\u001b[0m\u001b[37m\u001b[0m \u001b[1m0s\u001b[0m 82ms/step\n",
      "Classification Report:\n",
      "               precision    recall  f1-score   support\n",
      "\n",
      "      Female       0.44      1.00      0.61        41\n",
      "        Male       0.00      0.00      0.00        53\n",
      "\n",
      "    accuracy                           0.44        94\n",
      "   macro avg       0.22      0.50      0.30        94\n",
      "weighted avg       0.19      0.44      0.26        94\n",
      "\n"
     ]
    },
    {
     "name": "stderr",
     "output_type": "stream",
     "text": [
      "C:\\Users\\MICROSOFT SURFACE\\anaconda3\\Lib\\site-packages\\sklearn\\metrics\\_classification.py:1509: UndefinedMetricWarning: Precision is ill-defined and being set to 0.0 in labels with no predicted samples. Use `zero_division` parameter to control this behavior.\n",
      "  _warn_prf(average, modifier, f\"{metric.capitalize()} is\", len(result))\n",
      "C:\\Users\\MICROSOFT SURFACE\\anaconda3\\Lib\\site-packages\\sklearn\\metrics\\_classification.py:1509: UndefinedMetricWarning: Precision is ill-defined and being set to 0.0 in labels with no predicted samples. Use `zero_division` parameter to control this behavior.\n",
      "  _warn_prf(average, modifier, f\"{metric.capitalize()} is\", len(result))\n",
      "C:\\Users\\MICROSOFT SURFACE\\anaconda3\\Lib\\site-packages\\sklearn\\metrics\\_classification.py:1509: UndefinedMetricWarning: Precision is ill-defined and being set to 0.0 in labels with no predicted samples. Use `zero_division` parameter to control this behavior.\n",
      "  _warn_prf(average, modifier, f\"{metric.capitalize()} is\", len(result))\n"
     ]
    }
   ],
   "source": [
    "from sklearn.metrics import classification_report, confusion_matrix\n",
    "\n",
    "y_true = np.concatenate([y.numpy() for _, y in validation_dataset])\n",
    "y_pred_prob = model.predict(validation_dataset)\n",
    "# Convert probabilities to class labels (0:Female or 1:Male)\n",
    "y_pred = (y_pred_prob > 0.5).astype(int).flatten()\n",
    "\n",
    "print(\"Classification Report:\\n\", classification_report(y_true, y_pred, target_names=['Female', 'Male']))"
   ]
  },
  {
   "cell_type": "code",
   "execution_count": 25,
   "id": "063526cc-e2a0-4c8c-b01c-47ae3654a25c",
   "metadata": {},
   "outputs": [
    {
     "name": "stderr",
     "output_type": "stream",
     "text": [
      "WARNING:absl:Compiled the loaded model, but the compiled metrics have yet to be built. `model.compile_metrics` will be empty until you train or evaluate the model.\n"
     ]
    },
    {
     "name": "stdout",
     "output_type": "stream",
     "text": [
      "\u001b[1m1/1\u001b[0m \u001b[32m━━━━━━━━━━━━━━━━━━━━\u001b[0m\u001b[37m\u001b[0m \u001b[1m0s\u001b[0m 109ms/step\n",
      "\u001b[1m1/1\u001b[0m \u001b[32m━━━━━━━━━━━━━━━━━━━━\u001b[0m\u001b[37m\u001b[0m \u001b[1m0s\u001b[0m 43ms/step\n",
      "Prediction result: Male (confidence= 94.19 %)\n"
     ]
    },
    {
     "ename": "NameError",
     "evalue": "name 'visualization_model' is not defined",
     "output_type": "error",
     "traceback": [
      "\u001b[1;31m---------------------------------------------------------------------------\u001b[0m",
      "\u001b[1;31mNameError\u001b[0m                                 Traceback (most recent call last)",
      "Cell \u001b[1;32mIn[25], line 26\u001b[0m\n\u001b[0;32m     23\u001b[0m \u001b[38;5;28mprint\u001b[39m(\u001b[38;5;124mf\u001b[39m\u001b[38;5;124m\"\u001b[39m\u001b[38;5;124mPrediction result: \u001b[39m\u001b[38;5;132;01m{\u001b[39;00mresult\u001b[38;5;132;01m}\u001b[39;00m\u001b[38;5;124m (confidence= \u001b[39m\u001b[38;5;132;01m{\u001b[39;00mconfidence\u001b[38;5;132;01m:\u001b[39;00m\u001b[38;5;124m.2f\u001b[39m\u001b[38;5;132;01m}\u001b[39;00m\u001b[38;5;124m %)\u001b[39m\u001b[38;5;124m\"\u001b[39m)\n\u001b[0;32m     25\u001b[0m \u001b[38;5;66;03m# Visualize CNN Layers\u001b[39;00m\n\u001b[1;32m---> 26\u001b[0m successive_feature_maps \u001b[38;5;241m=\u001b[39m visualization_model\u001b[38;5;241m.\u001b[39mpredict(final_img)\n\u001b[0;32m     27\u001b[0m layer_names \u001b[38;5;241m=\u001b[39m [layer\u001b[38;5;241m.\u001b[39mname \u001b[38;5;28;01mfor\u001b[39;00m layer \u001b[38;5;129;01min\u001b[39;00m model\u001b[38;5;241m.\u001b[39mlayers]\n\u001b[0;32m     29\u001b[0m \u001b[38;5;28;01mfor\u001b[39;00m layer_name, feature_map \u001b[38;5;129;01min\u001b[39;00m \u001b[38;5;28mzip\u001b[39m(layer_names, successive_feature_maps):\n",
      "\u001b[1;31mNameError\u001b[0m: name 'visualization_model' is not defined"
     ]
    }
   ],
   "source": [
    "import tensorflow as tf\n",
    "import numpy as np\n",
    "import matplotlib.pyplot as plt\n",
    "from tensorflow.keras.models import Model\n",
    "from tensorflow.keras.utils import load_img, img_to_array\n",
    "\n",
    "img_size = img_size\n",
    "model = tf.keras.models.load_model(\"gender_recognition_project04_v10.h5\")\n",
    "\n",
    "# Load your personal image if you are interested to predict:\n",
    "your_image_path = \"D:\\\\Hossein's desktop files in Microsoft Studio Laptop\\\\Personal Photos\\\\Hossein_10.jpg\"\n",
    "\n",
    "img = load_img(your_image_path, target_size=(img_size, img_size))\n",
    "final_img = img_to_array(img)\n",
    "# Adding a batch dimension:\n",
    "final_img = np.expand_dims(final_img, axis=0)\n",
    "prediction = model.predict(final_img)\n",
    "result = \"Female\" if prediction > 0.5 else \"Male\"\n",
    "if result==\"Female\":\n",
    "    confidence = (model.predict(final_img)[0][0])*100\n",
    "else:\n",
    "    confidence = (1-model.predict(final_img)[0][0])*100\n",
    "print(f\"Prediction result: {result} (confidence= {confidence:.2f} %)\")\n",
    "\n",
    "# Visualize CNN Layers\n",
    "successive_feature_maps = visualization_model.predict(final_img)\n",
    "layer_names = [layer.name for layer in model.layers]\n",
    "\n",
    "for layer_name, feature_map in zip(layer_names, successive_feature_maps):\n",
    "    if len(feature_map.shape) == 4:  # Only visualize conv/maxpool layers\n",
    "        n_features = feature_map.shape[-1]  # Number of filters\n",
    "        size = feature_map.shape[1]  # Feature map size\n",
    "        display_grid = np.zeros((size, size * n_features))\n",
    "\n",
    "        for i in range(n_features):\n",
    "            x = feature_map[0, :, :, i]\n",
    "            x -= x.mean()\n",
    "            x /= (x.std() + 1e-8)  # Normalize\n",
    "            x *= 64\n",
    "            x += 128\n",
    "            x = np.clip(x, 0, 255).astype('uint8')  # Convert to image format\n",
    "            display_grid[:, i * size: (i + 1) * size] = x\n",
    "\n",
    "        scale = 20. / n_features\n",
    "        plt.figure(figsize=(scale * n_features, scale))\n",
    "        plt.title(layer_name)\n",
    "        plt.grid(False)\n",
    "        plt.imshow(display_grid, aspect='auto', cmap='cividis')\n",
    "        plt.show()"
   ]
  },
  {
   "cell_type": "code",
   "execution_count": null,
   "id": "4199738b-2405-4223-9eae-21b5840224a9",
   "metadata": {},
   "outputs": [],
   "source": []
  },
  {
   "cell_type": "code",
   "execution_count": null,
   "id": "72a87fb2-d828-420e-883f-709ca46ba4e6",
   "metadata": {},
   "outputs": [],
   "source": []
  },
  {
   "cell_type": "code",
   "execution_count": null,
   "id": "5fb26553-bde6-4c23-ba84-69763691803d",
   "metadata": {},
   "outputs": [],
   "source": []
  }
 ],
 "metadata": {
  "kernelspec": {
   "display_name": "Python 3 (ipykernel)",
   "language": "python",
   "name": "python3"
  },
  "language_info": {
   "codemirror_mode": {
    "name": "ipython",
    "version": 3
   },
   "file_extension": ".py",
   "mimetype": "text/x-python",
   "name": "python",
   "nbconvert_exporter": "python",
   "pygments_lexer": "ipython3",
   "version": "3.12.3"
  }
 },
 "nbformat": 4,
 "nbformat_minor": 5
}
